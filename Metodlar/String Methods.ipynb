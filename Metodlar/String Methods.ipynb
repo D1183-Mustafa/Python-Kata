{
 "cells": [
  {
   "cell_type": "markdown",
   "id": "89e897c6",
   "metadata": {},
   "source": [
    "capitalize()"
   ]
  },
  {
   "cell_type": "code",
   "execution_count": 5,
   "id": "1d01b270",
   "metadata": {},
   "outputs": [
    {
     "name": "stdout",
     "output_type": "stream",
     "text": [
      "Mustafa'ın bugün dersi var.\n"
     ]
    }
   ],
   "source": [
    "var = \"mustafa'ın bugün dersi var.\"\n",
    "x = var.capitalize()\n",
    "print(x)"
   ]
  },
  {
   "cell_type": "markdown",
   "id": "c1589901",
   "metadata": {},
   "source": [
    "casefold()"
   ]
  },
  {
   "cell_type": "code",
   "execution_count": 6,
   "id": "3b87e05b",
   "metadata": {},
   "outputs": [
    {
     "name": "stdout",
     "output_type": "stream",
     "text": [
      "mustafa'ın bugün dersi var.\n"
     ]
    }
   ],
   "source": [
    "var = \"Mustafa'ın Bugün Dersi VAr.\"\n",
    "x = var.casefold()\n",
    "print(x)"
   ]
  },
  {
   "cell_type": "markdown",
   "id": "007f6cba",
   "metadata": {},
   "source": [
    "string.center(length, character)"
   ]
  },
  {
   "cell_type": "code",
   "execution_count": 10,
   "id": "e006f2ca",
   "metadata": {},
   "outputs": [
    {
     "name": "stdout",
     "output_type": "stream",
     "text": [
      "++++++Mustafa+++++++\n"
     ]
    }
   ],
   "source": [
    "var = \"Mustafa\"\n",
    "x = var.center(20,\"+\")\n",
    "print(x)"
   ]
  },
  {
   "cell_type": "markdown",
   "id": "fbaa2aa2",
   "metadata": {},
   "source": [
    "string.count(value, start, end)"
   ]
  },
  {
   "cell_type": "code",
   "execution_count": 11,
   "id": "9d1d7a99",
   "metadata": {},
   "outputs": [
    {
     "name": "stdout",
     "output_type": "stream",
     "text": [
      "1\n"
     ]
    }
   ],
   "source": [
    "txt = \"I love apples, apple are my favorite fruit\"\n",
    "\n",
    "x = txt.count(\"apple\", 10, 24)\n",
    "\n",
    "print(x)"
   ]
  },
  {
   "cell_type": "markdown",
   "id": "e8e1c5f7",
   "metadata": {},
   "source": [
    "string.endswith(value, start, end)"
   ]
  },
  {
   "cell_type": "code",
   "execution_count": 12,
   "id": "4646b1c9",
   "metadata": {},
   "outputs": [
    {
     "name": "stdout",
     "output_type": "stream",
     "text": [
      "False\n"
     ]
    }
   ],
   "source": [
    "txt = \"Hello, welcome to my world.\"\n",
    "\n",
    "x = txt.endswith(\"my world.\", 5, 11)\n",
    "\n",
    "print(x)\n"
   ]
  },
  {
   "cell_type": "markdown",
   "id": "2f49b436",
   "metadata": {},
   "source": [
    "string.expandtabs(tabsize)"
   ]
  },
  {
   "cell_type": "code",
   "execution_count": 20,
   "id": "11baf251",
   "metadata": {},
   "outputs": [
    {
     "name": "stdout",
     "output_type": "stream",
     "text": [
      "Mustafa              Altaş\n"
     ]
    }
   ],
   "source": [
    "var = \"Mustafa\\t Altaş\"\n",
    "print(var.expandtabs(20))"
   ]
  },
  {
   "cell_type": "markdown",
   "id": "87eb4533",
   "metadata": {},
   "source": [
    "string.find(value, start, end)"
   ]
  },
  {
   "cell_type": "code",
   "execution_count": 23,
   "id": "fc38c9b9",
   "metadata": {},
   "outputs": [
    {
     "name": "stdout",
     "output_type": "stream",
     "text": [
      "4\n"
     ]
    }
   ],
   "source": [
    "txt = \"Hello, welcome to my world.\"\n",
    "x = txt.find(\"o\")\n",
    "print(x)"
   ]
  },
  {
   "cell_type": "markdown",
   "id": "bae9cd86",
   "metadata": {},
   "source": [
    "string.format(value1, value2...)"
   ]
  },
  {
   "cell_type": "code",
   "execution_count": 27,
   "id": "50ff151e",
   "metadata": {},
   "outputs": [
    {
     "name": "stdout",
     "output_type": "stream",
     "text": [
      "For only 49.00 dollars!\n"
     ]
    }
   ],
   "source": [
    "txt = \"For only {price:.2f} dollars!\"\n",
    "print(txt.format(price = 49))"
   ]
  },
  {
   "cell_type": "markdown",
   "id": "09892d98",
   "metadata": {},
   "source": [
    "string.index(value, start, end)"
   ]
  },
  {
   "cell_type": "code",
   "execution_count": 28,
   "id": "2e407c5c",
   "metadata": {},
   "outputs": [
    {
     "name": "stdout",
     "output_type": "stream",
     "text": [
      "1\n"
     ]
    }
   ],
   "source": [
    "txt = \"Hello, welcome to my world.\"\n",
    "\n",
    "x = txt.index(\"e\")\n",
    "\n",
    "print(x)"
   ]
  },
  {
   "cell_type": "markdown",
   "id": "2a2d19e4",
   "metadata": {},
   "source": [
    "string.isalnum()"
   ]
  },
  {
   "cell_type": "code",
   "execution_count": 33,
   "id": "0785ff73",
   "metadata": {},
   "outputs": [
    {
     "name": "stdout",
     "output_type": "stream",
     "text": [
      "True\n"
     ]
    }
   ],
   "source": [
    "var = \"mustafa12\"\n",
    "x = var.isalnum()\n",
    "print(x)\n"
   ]
  },
  {
   "cell_type": "markdown",
   "id": "ae0563d3",
   "metadata": {},
   "source": [
    "string.isalpha()\n",
    "Tüm karakterler alfabe harfleri (a-z) ise yöntem True döndürür.isalpha()"
   ]
  },
  {
   "cell_type": "code",
   "execution_count": 35,
   "id": "0c4a5fa7",
   "metadata": {},
   "outputs": [
    {
     "name": "stdout",
     "output_type": "stream",
     "text": [
      "False\n"
     ]
    }
   ],
   "source": [
    "var = \"mustafa12\"\n",
    "x = var.isalpha()\n",
    "print(x)"
   ]
  },
  {
   "cell_type": "markdown",
   "id": "c7aa2d71",
   "metadata": {},
   "source": [
    "string.isascii()\n",
    "Tüm karakterler ascii karakterler (a-z) ise yöntem True döndürür.isascii()"
   ]
  },
  {
   "cell_type": "code",
   "execution_count": 36,
   "id": "ec8a9afe",
   "metadata": {},
   "outputs": [
    {
     "name": "stdout",
     "output_type": "stream",
     "text": [
      "True\n"
     ]
    }
   ],
   "source": [
    "var = \"mustafa12\"\n",
    "x = var.isascii()\n",
    "print(x)"
   ]
  },
  {
   "cell_type": "markdown",
   "id": "ba61d43a",
   "metadata": {},
   "source": [
    "string.isdecimal()\n",
    "Tüm karakterler ondalık (0-9) ise yöntem True döndürür.isdecimal()"
   ]
  },
  {
   "cell_type": "code",
   "execution_count": 37,
   "id": "13ad22e8",
   "metadata": {},
   "outputs": [
    {
     "name": "stdout",
     "output_type": "stream",
     "text": [
      "True\n"
     ]
    }
   ],
   "source": [
    "var = \"12\"\n",
    "x = var.isdecimal()\n",
    "print(x)"
   ]
  },
  {
   "cell_type": "markdown",
   "id": "29743c87",
   "metadata": {},
   "source": [
    "string.isdigit()\n",
    "Tüm karakterler ondalık (0-9) ise yöntem True döndürür.isdecimal()"
   ]
  },
  {
   "cell_type": "code",
   "execution_count": 44,
   "id": "a24a66d4",
   "metadata": {},
   "outputs": [
    {
     "name": "stdout",
     "output_type": "stream",
     "text": [
      "True\n",
      "True\n"
     ]
    }
   ],
   "source": [
    "a = \"\\u0030\" #unicode for 0\n",
    "b = \"\\u00B2\" #unicode for ²\n",
    "\n",
    "print(a.isdigit())\n",
    "print(b.isdigit())"
   ]
  },
  {
   "cell_type": "markdown",
   "id": "05cf1479",
   "metadata": {},
   "source": [
    "string.isidentifier()\n",
    "Dize geçerli bir tanımlayıcıysa, yöntem True döndürür, aksi takdirde False.isidentifier()\n",
    "\n",
    "Dize yalnızca alfasayısal harfler (a-z) ve (0-9) veya alt çizgiler (_) içeriyorsa geçerli bir tanımlayıcı olarak kabul edilir. Geçerli bir tanımlayıcı bir sayıyla başlayamaz veya boşluk içeremez.\n",
    "\n"
   ]
  },
  {
   "cell_type": "code",
   "execution_count": 45,
   "id": "7c2da86e",
   "metadata": {},
   "outputs": [
    {
     "name": "stdout",
     "output_type": "stream",
     "text": [
      "True\n",
      "True\n",
      "False\n",
      "False\n"
     ]
    }
   ],
   "source": [
    "a = \"MyFolder\"\n",
    "b = \"Demo002\"\n",
    "c = \"2bring\"\n",
    "d = \"my demo\"\n",
    "\n",
    "print(a.isidentifier())\n",
    "print(b.isidentifier())\n",
    "print(c.isidentifier())\n",
    "print(d.isidentifier())"
   ]
  },
  {
   "cell_type": "markdown",
   "id": "79eba6e5",
   "metadata": {},
   "source": [
    "string.islower()\n",
    "Tüm karakterler küçük harfle, aksi takdirde False ise yöntem True döndürür.islower()\n",
    "\n",
    "Sayılar, semboller ve boşluklar denetlenmez, yalnızca alfabe karakterleri denetlenmez."
   ]
  },
  {
   "cell_type": "code",
   "execution_count": 67,
   "id": "14b16bfe",
   "metadata": {},
   "outputs": [
    {
     "data": {
      "text/plain": [
       "True"
      ]
     },
     "execution_count": 67,
     "metadata": {},
     "output_type": "execute_result"
    }
   ],
   "source": [
    "d = \"my demo\"\n",
    "d.islower()"
   ]
  },
  {
   "cell_type": "code",
   "execution_count": null,
   "id": "4d861891",
   "metadata": {},
   "outputs": [],
   "source": [
    "string.isnumeric()\n",
    "Tanım ve Kullanım\n",
    "Tüm karakterler sayısal (0-9), aksi takdirde False ise yöntem True döndürür.isnumeric()\n",
    "\n",
    "² ve 3/4 gibi üsler de sayısal değerler olarak kabul edilir.\n",
    "\n",
    "\"-1\" ve sayısal değerler olarak kabul edİlMEZ, çünkü dizedeki tüm karakterler sayısal olmalıdır ve ve değildir.\"1.5\"-."
   ]
  },
  {
   "cell_type": "code",
   "execution_count": 68,
   "id": "f714badd",
   "metadata": {},
   "outputs": [
    {
     "name": "stdout",
     "output_type": "stream",
     "text": [
      "True\n",
      "True\n",
      "False\n",
      "False\n",
      "False\n"
     ]
    }
   ],
   "source": [
    "a = \"\\u0030\" #unicode for 0\n",
    "b = \"\\u00B2\" #unicode for &sup2;\n",
    "c = \"10km2\"\n",
    "d = \"-1\"\n",
    "e = \"1.5\"\n",
    "\n",
    "print(a.isnumeric())\n",
    "print(b.isnumeric())\n",
    "print(c.isnumeric())\n",
    "print(d.isnumeric())\n",
    "print(e.isnumeric())"
   ]
  },
  {
   "cell_type": "markdown",
   "id": "0a3df38a",
   "metadata": {},
   "source": [
    "Tüm karakterler yazdırılabilirse yöntem True döndürür, aksi takdirde False.isprintable()\n",
    "\n",
    "Yazdırılabilir karakter örneği satır başı ve satır beslemesi olabilir.\n",
    "\n"
   ]
  },
  {
   "cell_type": "code",
   "execution_count": 69,
   "id": "6099f4e0",
   "metadata": {},
   "outputs": [
    {
     "name": "stdout",
     "output_type": "stream",
     "text": [
      "False\n"
     ]
    }
   ],
   "source": [
    "txt = \"Hello!\\nAre you #1?\"\n",
    "\n",
    "x = txt.isprintable()\n",
    "\n",
    "print(x)"
   ]
  },
  {
   "cell_type": "markdown",
   "id": "9f1acec4",
   "metadata": {},
   "source": [
    "Bir dizedeki tüm karakterler boşluklar ise, aksi takdirde False, yöntem True döndürür.isspace()"
   ]
  },
  {
   "cell_type": "code",
   "execution_count": 70,
   "id": "48466e34",
   "metadata": {},
   "outputs": [
    {
     "name": "stdout",
     "output_type": "stream",
     "text": [
      "True\n"
     ]
    }
   ],
   "source": [
    "txt = \"   \"\n",
    "\n",
    "x = txt.isspace()\n",
    "\n",
    "print(x)"
   ]
  },
  {
   "cell_type": "markdown",
   "id": "1c6ea895",
   "metadata": {},
   "source": [
    "string.istitle()\n",
    "\n",
    "\n",
    "Bir metindeki tüm sözcükler büyük harfle başlıyorsa ve sözcüüğün geri kalanı küçük harfler ise, aksi takdirde False ise yöntem True döndürür.istitle()\n",
    "\n",
    "Semboller ve sayılar yoksayılır.\n",
    "\n"
   ]
  },
  {
   "cell_type": "code",
   "execution_count": 71,
   "id": "a17d7a79",
   "metadata": {},
   "outputs": [
    {
     "name": "stdout",
     "output_type": "stream",
     "text": [
      "False\n",
      "True\n",
      "True\n",
      "True\n"
     ]
    }
   ],
   "source": [
    "a = \"HELLO, AND WELCOME TO MY WORLD\"\n",
    "b = \"Hello\"\n",
    "c = \"22 Names\"\n",
    "d = \"This Is %'!?\"\n",
    "\n",
    "print(a.istitle())\n",
    "print(b.istitle())\n",
    "print(c.istitle())\n",
    "print(d.istitle())"
   ]
  },
  {
   "cell_type": "markdown",
   "id": "4d9c1353",
   "metadata": {},
   "source": [
    "string.isupper()\n",
    "Bir metindeki tüm sözcükler büyük harfle başlıyorsa ve sözcüüğün geri kalanı küçük harfler ise, aksi takdirde False ise yöntem True döndürür.istitle()\n",
    "\n",
    "Semboller ve sayılar yoksayılır."
   ]
  },
  {
   "cell_type": "code",
   "execution_count": 73,
   "id": "3971b5b3",
   "metadata": {},
   "outputs": [
    {
     "name": "stdout",
     "output_type": "stream",
     "text": [
      "False\n",
      "False\n",
      "True\n"
     ]
    }
   ],
   "source": [
    "a = \"Hello World!\"\n",
    "b = \"hello 123\"\n",
    "c = \"MY NAME IS PETER\"\n",
    "\n",
    "print(a.isupper())\n",
    "print(b.isupper())\n",
    "print(c.isupper())"
   ]
  },
  {
   "cell_type": "markdown",
   "id": "c0db2ace",
   "metadata": {},
   "source": [
    "string.join(iterable)\n",
    "Yöntem, bir yinelemedeki tüm öğeleri alır ve bunları tek bir dizede birleştirir.join()\n",
    "\n",
    "Ayırıcı olarak bir dize belirtilmelidir."
   ]
  },
  {
   "cell_type": "code",
   "execution_count": 74,
   "id": "828dd10b",
   "metadata": {},
   "outputs": [
    {
     "name": "stdout",
     "output_type": "stream",
     "text": [
      "John#Peter#Vicky\n"
     ]
    }
   ],
   "source": [
    "myTuple = (\"John\", \"Peter\", \"Vicky\")\n",
    "\n",
    "x = \"#\".join(myTuple)\n",
    "\n",
    "print(x)\n"
   ]
  },
  {
   "cell_type": "code",
   "execution_count": 75,
   "id": "3b4a2a0b",
   "metadata": {},
   "outputs": [
    {
     "data": {
      "text/plain": [
       "'M$u$s$t$a$f$a'"
      ]
     },
     "execution_count": 75,
     "metadata": {},
     "output_type": "execute_result"
    }
   ],
   "source": [
    "x = \"Mustafa\"\n",
    "\"$\".join(x)"
   ]
  },
  {
   "cell_type": "code",
   "execution_count": 76,
   "id": "aa3cd0b6",
   "metadata": {},
   "outputs": [
    {
     "name": "stdout",
     "output_type": "stream",
     "text": [
      "nameTESTcountry\n"
     ]
    }
   ],
   "source": [
    "myDict = {\"name\": \"John\", \"country\": \"Norway\"}\n",
    "mySeparator = \"TEST\"\n",
    "\n",
    "x = mySeparator.join(myDict)\n",
    "\n",
    "print(x)"
   ]
  },
  {
   "cell_type": "code",
   "execution_count": null,
   "id": "8beb3851",
   "metadata": {},
   "outputs": [],
   "source": [
    "string.ljust(length, character)\n",
    "Yöntem, dolgu karakteri olarak belirtilen bir karakter (boşluk varsayılandır) kullanarak dizeyi sola hizalar.ljust()"
   ]
  },
  {
   "cell_type": "code",
   "execution_count": 77,
   "id": "051870ac",
   "metadata": {},
   "outputs": [
    {
     "name": "stdout",
     "output_type": "stream",
     "text": [
      "bananaOOOOOOOOOOOOOO\n"
     ]
    }
   ],
   "source": [
    "txt = \"banana\"\n",
    "\n",
    "x = txt.ljust(20, \"O\")\n",
    "\n",
    "print(x)"
   ]
  },
  {
   "cell_type": "markdown",
   "id": "d6bafeb4",
   "metadata": {},
   "source": [
    "string.lower()\n",
    "Yöntem, tüm karakterlerin küçük harf olduğu bir dize döndürür.lower()\n",
    "\n",
    "Semboller ve Sayılar yoksayılır."
   ]
  },
  {
   "cell_type": "code",
   "execution_count": 78,
   "id": "c08fe0c2",
   "metadata": {},
   "outputs": [
    {
     "name": "stdout",
     "output_type": "stream",
     "text": [
      "hello my friends\n"
     ]
    }
   ],
   "source": [
    "txt = \"Hello my FRIENDS\"\n",
    "\n",
    "x = txt.lower()\n",
    "\n",
    "print(x)"
   ]
  },
  {
   "cell_type": "markdown",
   "id": "469aaeff",
   "metadata": {},
   "source": [
    "string.lstrip(characters)\n",
    "Yöntem önde gelen karakterleri kaldırır (boşluk kaldırılacak varsayılan baştaki karakterdir)lstrip()\n"
   ]
  },
  {
   "cell_type": "code",
   "execution_count": 79,
   "id": "c144847e",
   "metadata": {},
   "outputs": [
    {
     "name": "stdout",
     "output_type": "stream",
     "text": [
      "banana\n"
     ]
    }
   ],
   "source": [
    "txt = \",,,,,ssaaww.....banana\"\n",
    "\n",
    "x = txt.lstrip(\",.asw\")\n",
    "\n",
    "print(x)"
   ]
  },
  {
   "cell_type": "markdown",
   "id": "14345696",
   "metadata": {},
   "source": [
    "string.maketrans(x, y, z)\n",
    "\n",
    "x = Gerekli. Yalnızca bir parametre belirtilirse, bu, değiştirmenin nasıl gerçekleştirileceğini açıklayan bir sözlük olmalıdır. İki veya daha fazla parametre belirtilirse, bu parametrenin değiştirmek istediğiniz karakterleri belirten bir dize olması gerekir.\n",
    "\n",
    "y = İsteğe bağlı. x parametresiyle aynı uzunlukta bir dize. İlk parametredeki her karakter, bu dizideki karşılık gelen karakterle değiştirilecektir.\n",
    "\n",
    "z = İsteğe bağlı. Orijinal dizeden hangi karakterlerin kaldırılacağını açıklayan bir dize.\n",
    "\n"
   ]
  },
  {
   "cell_type": "code",
   "execution_count": 80,
   "id": "4f317d68",
   "metadata": {},
   "outputs": [
    {
     "name": "stdout",
     "output_type": "stream",
     "text": [
      "G i Joe!\n"
     ]
    }
   ],
   "source": [
    "txt = \"Good night Sam!\"\n",
    "x = \"mSa\"\n",
    "y = \"eJo\"\n",
    "z = \"odnght\"\n",
    "mytable = txt.maketrans(x, y, z)\n",
    "print(txt.translate(mytable))"
   ]
  },
  {
   "cell_type": "markdown",
   "id": "a5b55767",
   "metadata": {},
   "source": [
    "string.partition(value)\n",
    "Yöntem belirtilen bir dizeyi arar ve dizeyi üç öğe içeren bir diziye böler.partition()\n",
    "\n",
    "İlk öğe belirtilen dizeden önceki bölümü içerir.\n",
    "\n",
    "İkinci öğe belirtilen dizeyi içerir.\n",
    "\n",
    "Üçüncü öğe dizeden sonraki bölümü içerir."
   ]
  },
  {
   "cell_type": "code",
   "execution_count": 81,
   "id": "1011c8ce",
   "metadata": {},
   "outputs": [
    {
     "name": "stdout",
     "output_type": "stream",
     "text": [
      "('I could eat ', 'bananas', ' all day')\n"
     ]
    }
   ],
   "source": [
    "txt = \"I could eat bananas all day\"\n",
    "\n",
    "x = txt.partition(\"bananas\")\n",
    "\n",
    "print(x)\n"
   ]
  },
  {
   "cell_type": "code",
   "execution_count": 82,
   "id": "803e8527",
   "metadata": {},
   "outputs": [
    {
     "name": "stdout",
     "output_type": "stream",
     "text": [
      "('I could eat bananas all day', '', '')\n"
     ]
    }
   ],
   "source": [
    "txt = \"I could eat bananas all day\"\n",
    "\n",
    "x = txt.partition(\"apples\")\n",
    "\n",
    "print(x)\n"
   ]
  },
  {
   "cell_type": "code",
   "execution_count": null,
   "id": "d3502f9c",
   "metadata": {},
   "outputs": [],
   "source": [
    "string.replace(oldvalue, newvalue, count)\n",
    "Yöntem, belirtilen bir tümceciği belirtilen başka bir tümcecikle değiştirir.replace()"
   ]
  },
  {
   "cell_type": "code",
   "execution_count": 83,
   "id": "0fc6a372",
   "metadata": {},
   "outputs": [
    {
     "name": "stdout",
     "output_type": "stream",
     "text": [
      "three three was a race horse, two two was one too.\n"
     ]
    }
   ],
   "source": [
    "txt = \"one one was a race horse, two two was one too.\"\n",
    "\n",
    "x = txt.replace(\"one\", \"three\", 2)  # burada 2 tane \"one\" string değerinin değiştirilmesinin istendiğini belirtiyor.\n",
    "\n",
    "print(x)"
   ]
  },
  {
   "cell_type": "markdown",
   "id": "0e2ae00d",
   "metadata": {},
   "source": [
    "string.rfind(value, start, end)\n",
    "Yöntem, belirtilen değerin son örneğini bulur.rfind()\n",
    "\n",
    "Değer bulunamazsa yöntem -1 döndürür.rfind()"
   ]
  },
  {
   "cell_type": "code",
   "execution_count": 84,
   "id": "8a9cc0e5",
   "metadata": {},
   "outputs": [
    {
     "name": "stdout",
     "output_type": "stream",
     "text": [
      "13\n"
     ]
    }
   ],
   "source": [
    "txt = \"Hello, welcome to my world.\"\n",
    "\n",
    "x = txt.rfind(\"e\")\n",
    "\n",
    "print(x)"
   ]
  },
  {
   "cell_type": "markdown",
   "id": "adb1f5c1",
   "metadata": {},
   "source": [
    "string.rindex(value, start, end)ü\n",
    "Yöntem, belirtilen değerin son örneğini bulur.rindex()\n",
    "\n",
    "Değer bulunamazsa yöntem bir özel durum oluşturur.rindex()"
   ]
  },
  {
   "cell_type": "code",
   "execution_count": 85,
   "id": "64ad35ed",
   "metadata": {},
   "outputs": [
    {
     "name": "stdout",
     "output_type": "stream",
     "text": [
      "-1\n"
     ]
    },
    {
     "ename": "ValueError",
     "evalue": "substring not found",
     "output_type": "error",
     "traceback": [
      "\u001b[1;31m---------------------------------------------------------------------------\u001b[0m",
      "\u001b[1;31mValueError\u001b[0m                                Traceback (most recent call last)",
      "\u001b[1;32m<ipython-input-85-3fbde3bff713>\u001b[0m in \u001b[0;36m<module>\u001b[1;34m\u001b[0m\n\u001b[0;32m      2\u001b[0m \u001b[1;33m\u001b[0m\u001b[0m\n\u001b[0;32m      3\u001b[0m \u001b[0mprint\u001b[0m\u001b[1;33m(\u001b[0m\u001b[0mtxt\u001b[0m\u001b[1;33m.\u001b[0m\u001b[0mrfind\u001b[0m\u001b[1;33m(\u001b[0m\u001b[1;34m\"q\"\u001b[0m\u001b[1;33m)\u001b[0m\u001b[1;33m)\u001b[0m\u001b[1;33m\u001b[0m\u001b[1;33m\u001b[0m\u001b[0m\n\u001b[1;32m----> 4\u001b[1;33m \u001b[0mprint\u001b[0m\u001b[1;33m(\u001b[0m\u001b[0mtxt\u001b[0m\u001b[1;33m.\u001b[0m\u001b[0mrindex\u001b[0m\u001b[1;33m(\u001b[0m\u001b[1;34m\"q\"\u001b[0m\u001b[1;33m)\u001b[0m\u001b[1;33m)\u001b[0m\u001b[1;33m\u001b[0m\u001b[1;33m\u001b[0m\u001b[0m\n\u001b[0m",
      "\u001b[1;31mValueError\u001b[0m: substring not found"
     ]
    }
   ],
   "source": [
    "txt = \"Hello, welcome to my world.\"\n",
    "\n",
    "print(txt.rfind(\"q\"))\n",
    "print(txt.rindex(\"q\"))"
   ]
  },
  {
   "cell_type": "markdown",
   "id": "46282b4d",
   "metadata": {},
   "source": [
    "string.rjust(length, character)\n",
    "Yöntem, dolgu karakteri olarak belirtilen bir karakter (boşluk varsayılandır) kullanarak dizeyi sağa hizalar.rjust()\n",
    "\n"
   ]
  },
  {
   "cell_type": "code",
   "execution_count": 86,
   "id": "ff44ad09",
   "metadata": {},
   "outputs": [
    {
     "name": "stdout",
     "output_type": "stream",
     "text": [
      "OOOOOOOOOOOOOObanana\n"
     ]
    }
   ],
   "source": [
    "txt = \"banana\"\n",
    "\n",
    "x = txt.rjust(20, \"O\")\n",
    "\n",
    "print(x)"
   ]
  },
  {
   "cell_type": "code",
   "execution_count": 87,
   "id": "5fe58cc3",
   "metadata": {},
   "outputs": [
    {
     "name": "stdout",
     "output_type": "stream",
     "text": [
      "              banana\n"
     ]
    }
   ],
   "source": [
    "txt = \"banana\"\n",
    "\n",
    "x = txt.rjust(20)\n",
    "\n",
    "print(x)"
   ]
  },
  {
   "cell_type": "markdown",
   "id": "7edcb039",
   "metadata": {},
   "source": [
    "string.rpartition(value)\n",
    "Yöntem, belirtilen dizenin son oluşumunu arar ve dizeyi üç öğe içeren bir diziye böler.rpartition()"
   ]
  },
  {
   "cell_type": "code",
   "execution_count": 88,
   "id": "9767a9c2",
   "metadata": {},
   "outputs": [
    {
     "name": "stdout",
     "output_type": "stream",
     "text": [
      "('I could eat bananas all day, ', 'bananas', ' are my favorite fruit')\n"
     ]
    }
   ],
   "source": [
    "txt = \"I could eat bananas all day, bananas are my favorite fruit\"\n",
    "\n",
    "x = txt.rpartition(\"bananas\")\n",
    "\n",
    "print(x)"
   ]
  },
  {
   "cell_type": "code",
   "execution_count": 89,
   "id": "1f1c098a",
   "metadata": {},
   "outputs": [
    {
     "name": "stdout",
     "output_type": "stream",
     "text": [
      "('', '', 'I could eat bananas all day, bananas are my favorite fruit')\n"
     ]
    }
   ],
   "source": [
    "txt = \"I could eat bananas all day, bananas are my favorite fruit\"\n",
    "\n",
    "x = txt.rpartition(\"apples\")\n",
    "\n",
    "print(x)"
   ]
  },
  {
   "cell_type": "markdown",
   "id": "89e4033b",
   "metadata": {},
   "source": [
    "string.rsplit(separator, maxsplit)\n",
    "Yöntem, bir dizeyi sağdan başlayarak bir listeye böler.rsplit()\n",
    "\"Max\" belirtilmezse, bu yöntem yöntemle aynı şekilde döndürür.split()"
   ]
  },
  {
   "cell_type": "code",
   "execution_count": 90,
   "id": "bd7c022c",
   "metadata": {},
   "outputs": [
    {
     "name": "stdout",
     "output_type": "stream",
     "text": [
      "['apple', 'banana', 'cherry']\n"
     ]
    }
   ],
   "source": [
    "txt = \"apple, banana, cherry\"\n",
    "\n",
    "x = txt.rsplit(\", \")\n",
    "\n",
    "print(x)"
   ]
  },
  {
   "cell_type": "code",
   "execution_count": 91,
   "id": "fac7d6c0",
   "metadata": {},
   "outputs": [
    {
     "name": "stdout",
     "output_type": "stream",
     "text": [
      "['apple, banana', 'cherry']\n"
     ]
    }
   ],
   "source": [
    "txt = \"apple, banana, cherry\"\n",
    "\n",
    "# setting the maxsplit parameter to 1, will return a list with 2 elements!\n",
    "x = txt.rsplit(\", \", 1)\n",
    "\n",
    "print(x)"
   ]
  },
  {
   "cell_type": "markdown",
   "id": "8e8ec854",
   "metadata": {},
   "source": [
    "string.swapcase()\n",
    "Yöntem, tüm büyük harflerin küçük harf olduğu ve bunun tersi de olsa bir dize döndürür.swapcase()"
   ]
  },
  {
   "cell_type": "code",
   "execution_count": 92,
   "id": "6794045c",
   "metadata": {},
   "outputs": [
    {
     "name": "stdout",
     "output_type": "stream",
     "text": [
      "hELLO mY nAME iS peter\n"
     ]
    }
   ],
   "source": [
    "txt = \"Hello My Name Is PETER\"\n",
    "\n",
    "x = txt.swapcase()\n",
    "\n",
    "print(x)"
   ]
  },
  {
   "cell_type": "markdown",
   "id": "f61c275b",
   "metadata": {},
   "source": [
    "string.split(separator, maxsplit)"
   ]
  },
  {
   "cell_type": "code",
   "execution_count": 93,
   "id": "575b7803",
   "metadata": {},
   "outputs": [
    {
     "name": "stdout",
     "output_type": "stream",
     "text": [
      "['apple', 'banana', 'cherry', 'orange']\n"
     ]
    }
   ],
   "source": [
    "txt = \"apple#banana#cherry#orange\"\n",
    "\n",
    "x = txt.split(\"#\")\n",
    "\n",
    "print(x)"
   ]
  },
  {
   "cell_type": "markdown",
   "id": "23db573f",
   "metadata": {},
   "source": [
    "string.splitlines(keeplinebreaks)\n",
    "Yöntem bir dizeyi listeye böler. Bölme satır sonlarında yapılır.splitlines()"
   ]
  },
  {
   "cell_type": "code",
   "execution_count": 94,
   "id": "802fa1ab",
   "metadata": {},
   "outputs": [
    {
     "name": "stdout",
     "output_type": "stream",
     "text": [
      "['Thank you for the music', 'Welcome to the jungle']\n"
     ]
    }
   ],
   "source": [
    "txt = \"Thank you for the music\\nWelcome to the jungle\"\n",
    "\n",
    "x = txt.splitlines()\n",
    "\n",
    "print(x)"
   ]
  },
  {
   "cell_type": "markdown",
   "id": "d4db053f",
   "metadata": {},
   "source": [
    "string.startswith(value, start, end)\n",
    "Dize belirtilen değerle başlarsa, yöntem True döndürür, aksi takdirde False.startswith()\n",
    "\n"
   ]
  },
  {
   "cell_type": "code",
   "execution_count": 95,
   "id": "cf4a7982",
   "metadata": {},
   "outputs": [
    {
     "name": "stdout",
     "output_type": "stream",
     "text": [
      "True\n"
     ]
    }
   ],
   "source": [
    "txt = \"Hello, welcome to my world.\"\n",
    "\n",
    "x = txt.startswith(\"Hello\")\n",
    "\n",
    "print(x)\n"
   ]
  },
  {
   "cell_type": "markdown",
   "id": "fe1296b7",
   "metadata": {},
   "source": [
    "string.strip(characters)\n",
    "Yöntem, baştaki boşlukları ve sondaki (sonundaki boşluklar) karakterleri kaldırır (boşluk, kaldırılacak varsayılan baştaki karakterdir)strip()"
   ]
  },
  {
   "cell_type": "code",
   "execution_count": 96,
   "id": "cd5da306",
   "metadata": {},
   "outputs": [
    {
     "name": "stdout",
     "output_type": "stream",
     "text": [
      "banana\n"
     ]
    }
   ],
   "source": [
    "txt = \",,,,,rrttgg.....banana....rrr\"\n",
    "\n",
    "x = txt.strip(\",.grt\")\n",
    "\n",
    "print(x)"
   ]
  },
  {
   "cell_type": "code",
   "execution_count": 97,
   "id": "23019e29",
   "metadata": {},
   "outputs": [
    {
     "name": "stdout",
     "output_type": "stream",
     "text": [
      "of all fruits banana is my favorite\n"
     ]
    }
   ],
   "source": [
    "txt = \"     banana     \"\n",
    "\n",
    "x = txt.strip()\n",
    "\n",
    "print(\"of all fruits\", x, \"is my favorite\")"
   ]
  },
  {
   "cell_type": "markdown",
   "id": "503b1b1a",
   "metadata": {},
   "source": [
    "string.title()\n",
    "Yöntem, her sözcükteki ilk karakterin büyük harf olduğu bir dize döndürür. Başlık veya başlık gibi.title()\n",
    "Alfabe olmayan bir harf sonrası ilk harfin büyük harfe dönüştürüldüğünü unutmayın:"
   ]
  },
  {
   "cell_type": "code",
   "execution_count": 98,
   "id": "41513b31",
   "metadata": {},
   "outputs": [
    {
     "name": "stdout",
     "output_type": "stream",
     "text": [
      "Welcome To My 2Nd World\n"
     ]
    }
   ],
   "source": [
    "txt = \"Welcome to my 2nd world\"\n",
    "\n",
    "x = txt.title()\n",
    "\n",
    "print(x)"
   ]
  },
  {
   "cell_type": "markdown",
   "id": "12007bc9",
   "metadata": {},
   "source": [
    "string.translate(table)\n",
    "Yöntem, belirtilen bazı karakterlerin sözlükte veya eşleme tablosunda açıklanan karakterle değiştirildiği bir dize döndürür.translate()\n",
    "\n",
    "Eşleme tablosu oluşturmak için yöntemi kullanın. maketrans()\n",
    "\n",
    "Sözlükte/tabloda bir karakter belirtilmezse, karakter değiştirilmez.\n",
    "\n",
    "Sözlük kullanıyorsanız, karakterler yerine ascii kodları kullanmanız gerekir."
   ]
  },
  {
   "cell_type": "code",
   "execution_count": 99,
   "id": "adb8d7d2",
   "metadata": {},
   "outputs": [
    {
     "name": "stdout",
     "output_type": "stream",
     "text": [
      "Hello Pam!\n"
     ]
    }
   ],
   "source": [
    "#use a dictionary with ascii codes to replace 83 (S) with 80 (P):\n",
    "mydict = {83:  80}\n",
    "txt = \"Hello Sam!\"\n",
    "print(txt.translate(mydict))"
   ]
  },
  {
   "cell_type": "markdown",
   "id": "3e125a21",
   "metadata": {},
   "source": [
    "string.upper()\n",
    "Yöntem, tüm karakterlerin büyük harfle olduğu bir dize döndürür.upper()\n",
    "\n",
    "Semboller ve Sayılar yoksayılır."
   ]
  },
  {
   "cell_type": "code",
   "execution_count": 100,
   "id": "1ebdcb0c",
   "metadata": {},
   "outputs": [
    {
     "name": "stdout",
     "output_type": "stream",
     "text": [
      "HELLO MY FRIENDS\n"
     ]
    }
   ],
   "source": [
    "txt = \"Hello my friends\"\n",
    "\n",
    "x = txt.upper()\n",
    "\n",
    "print(x)"
   ]
  },
  {
   "cell_type": "markdown",
   "id": "fe7a8b64",
   "metadata": {},
   "source": [
    "string.zfill(len)\n",
    "Yöntem, belirtilen uzunluğa ulaşana kadar dizenin başına sıfırlar (0) ekler.zfill()\n",
    "\n",
    "Len parametresinin değeri dizenin uzunluğundan küçükse, dolgu yapılmaz."
   ]
  },
  {
   "cell_type": "code",
   "execution_count": 101,
   "id": "d0926e58",
   "metadata": {},
   "outputs": [
    {
     "name": "stdout",
     "output_type": "stream",
     "text": [
      "00000hello\n",
      "welcome to the jungle\n",
      "000010.000\n"
     ]
    }
   ],
   "source": [
    "a = \"hello\"\n",
    "b = \"welcome to the jungle\"\n",
    "c = \"10.000\"\n",
    "\n",
    "print(a.zfill(10))\n",
    "print(b.zfill(10))\n",
    "print(c.zfill(10))"
   ]
  },
  {
   "cell_type": "code",
   "execution_count": null,
   "id": "e135e798",
   "metadata": {},
   "outputs": [],
   "source": []
  }
 ],
 "metadata": {
  "kernelspec": {
   "display_name": "Python 3",
   "language": "python",
   "name": "python3"
  },
  "language_info": {
   "codemirror_mode": {
    "name": "ipython",
    "version": 3
   },
   "file_extension": ".py",
   "mimetype": "text/x-python",
   "name": "python",
   "nbconvert_exporter": "python",
   "pygments_lexer": "ipython3",
   "version": "3.8.8"
  }
 },
 "nbformat": 4,
 "nbformat_minor": 5
}
