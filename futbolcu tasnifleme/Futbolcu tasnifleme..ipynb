{
 "cells": [
  {
   "cell_type": "code",
   "execution_count": 28,
   "id": "65310d53",
   "metadata": {},
   "outputs": [],
   "source": [
    "def tasnif(n):\n",
    "    n = n[:-1]  # en sonunda \"\\n\" olduğu için silmek için yaptık.\n",
    "    m = n.split(\",\")\n",
    "    isim = m[0]\n",
    "    takım = m[1]\n",
    "    \n",
    "    if takım == \"GS\":\n",
    "        return isim + \"\\n\"\n",
    "    \n",
    "with open(\"Futbolcular.txt\", \"r\", encoding=\"utf-8\") as dosya:\n",
    "    gs = []\n",
    "    \n",
    "    for i in dosya:\n",
    "        gs.append(tasnif(i))\n",
    "        \n",
    "with open(\"gs.txt\", \"w\", encoding=\"utf-8\") as dosya1:\n",
    "    for i in gs:\n",
    "        if i == None:\n",
    "            pass\n",
    "        else:\n",
    "            dosya1.write(i)"
   ]
  },
  {
   "cell_type": "code",
   "execution_count": 33,
   "id": "893eb582",
   "metadata": {},
   "outputs": [],
   "source": [
    "def tasnif(n):\n",
    "    n = n[:-1]\n",
    "    m = n.split(\",\")\n",
    "    isim = m[0]\n",
    "    takım = m[1]\n",
    "    \n",
    "    if takım == \"FB\":\n",
    "        return isim + \"\\n\"\n",
    "    \n",
    "with open(\"Futbolcular.txt\", \"r\", encoding=\"utf-8\") as dosya:\n",
    "    fb = []\n",
    "    \n",
    "    for i in dosya:\n",
    "        fb.append(tasnif(i))\n",
    "        \n",
    "with open(\"fb.txt\", \"w\", encoding=\"utf-8\") as dosya1:\n",
    "    for i in fb:\n",
    "        if i == None:\n",
    "            pass\n",
    "        else:\n",
    "            dosya1.write(i)"
   ]
  },
  {
   "cell_type": "code",
   "execution_count": 35,
   "id": "bf13d5ca",
   "metadata": {},
   "outputs": [],
   "source": [
    "def tasnif(n):\n",
    "    n = n[:-1]\n",
    "    m = n.split(\",\")\n",
    "    isim = m[0]\n",
    "    takım = m[1]\n",
    "    \n",
    "    if takım == \"BJK\":\n",
    "        return isim + \"\\n\"\n",
    "    \n",
    "with open(\"Futbolcular.txt\", \"r\", encoding=\"utf-8\") as dosya:\n",
    "    bjk = []\n",
    "    \n",
    "    for i in dosya:\n",
    "        bjk.append(tasnif(i))\n",
    "        \n",
    "with open(\"bjk.txt\", \"w\", encoding=\"utf-8\") as dosya1:\n",
    "    for i in bjk:\n",
    "        if i == None:\n",
    "            pass\n",
    "        else:\n",
    "            dosya1.write(i)"
   ]
  }
 ],
 "metadata": {
  "kernelspec": {
   "display_name": "Python 3",
   "language": "python",
   "name": "python3"
  },
  "language_info": {
   "codemirror_mode": {
    "name": "ipython",
    "version": 3
   },
   "file_extension": ".py",
   "mimetype": "text/x-python",
   "name": "python",
   "nbconvert_exporter": "python",
   "pygments_lexer": "ipython3",
   "version": "3.8.8"
  }
 },
 "nbformat": 4,
 "nbformat_minor": 5
}
