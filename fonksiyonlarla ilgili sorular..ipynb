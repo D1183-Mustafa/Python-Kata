{
 "cells": [
  {
   "cell_type": "markdown",
   "id": "b31b0ba1",
   "metadata": {},
   "source": [
    "https://www.w3resource.com/python-exercises/python-functions-exercises.php"
   ]
  },
  {
   "cell_type": "markdown",
   "id": "01036313",
   "metadata": {},
   "source": [
    "1-Write a Python function to find the Max of three numbers."
   ]
  },
  {
   "cell_type": "code",
   "execution_count": 22,
   "id": "ae3124ba",
   "metadata": {},
   "outputs": [
    {
     "data": {
      "text/plain": [
       "90"
      ]
     },
     "execution_count": 22,
     "metadata": {},
     "output_type": "execute_result"
    }
   ],
   "source": [
    "def en_yüksek(*liste):\n",
    "    lst = [0]\n",
    "    for i in liste:\n",
    "        if i >= lst[-1]:\n",
    "            lst.append(i)\n",
    "            n = i\n",
    "    return n\n",
    "\n",
    "en_yüksek(5,90,4)"
   ]
  },
  {
   "cell_type": "markdown",
   "id": "222e7a45",
   "metadata": {},
   "source": [
    " 2-Write a Python function to sum all the numbers in a list."
   ]
  },
  {
   "cell_type": "code",
   "execution_count": 34,
   "id": "fa72aefb",
   "metadata": {},
   "outputs": [
    {
     "name": "stdout",
     "output_type": "stream",
     "text": [
      "Lütfen sayıları giriniz : 3 2 1 4\n",
      "3 2 1 4\n"
     ]
    },
    {
     "data": {
      "text/plain": [
       "10"
      ]
     },
     "execution_count": 34,
     "metadata": {},
     "output_type": "execute_result"
    }
   ],
   "source": [
    "def toplam(*liste):\n",
    "    toplam = 0\n",
    "    for i in liste:\n",
    "        toplam += i\n",
    "    return toplam\n",
    "\n",
    "listem = list(map(int, input(\"Lütfen sayıları giriniz : \").split()))\n",
    "print(*listem)\n",
    "toplam(*listem)\n"
   ]
  },
  {
   "cell_type": "markdown",
   "id": "9980fae8",
   "metadata": {},
   "source": [
    "3-Write a Python function to multiply all the numbers in a list"
   ]
  },
  {
   "cell_type": "code",
   "execution_count": 35,
   "id": "bb4d00c6",
   "metadata": {},
   "outputs": [
    {
     "name": "stdout",
     "output_type": "stream",
     "text": [
      "Lütfen sayıları giriniz : 3 2 5 8 9\n",
      "2160\n"
     ]
    }
   ],
   "source": [
    "def çarpım(*liste):\n",
    "    çarpma = 1\n",
    "    for i in liste:\n",
    "        çarpma *= i\n",
    "    return çarpma\n",
    "\n",
    "listem = list(map(int, input(\"Lütfen sayıları giriniz : \").split()))\n",
    "print(çarpım(*listem))"
   ]
  },
  {
   "cell_type": "markdown",
   "id": "696eb310",
   "metadata": {},
   "source": [
    "4-Write a Python program to reverse a string\n",
    "Sample String : \"1234abcd\"\n",
    "Expected Output : \"dcba4321\""
   ]
  },
  {
   "cell_type": "code",
   "execution_count": 56,
   "id": "2e3c8449",
   "metadata": {},
   "outputs": [
    {
     "name": "stdout",
     "output_type": "stream",
     "text": [
      "dcba4321"
     ]
    }
   ],
   "source": [
    "def ters(*args):\n",
    "    for i in args:\n",
    "        for j in i[::-1]:\n",
    "            print(j, end = \"\")\n",
    "    return\n",
    "    \n",
    "ters(\"1234abcd\")\n",
    "        "
   ]
  },
  {
   "cell_type": "markdown",
   "id": "ef9fdb56",
   "metadata": {},
   "source": [
    "5-Write a Python function to calculate the factorial of a number (a non-negative integer). The function accepts the number as an argument."
   ]
  },
  {
   "cell_type": "code",
   "execution_count": 85,
   "id": "15f61098",
   "metadata": {},
   "outputs": [
    {
     "data": {
      "text/plain": [
       "120"
      ]
     },
     "execution_count": 85,
     "metadata": {},
     "output_type": "execute_result"
    }
   ],
   "source": [
    "def faktöriyel(x):\n",
    "    if x == 0:\n",
    "        return 1\n",
    "    else:\n",
    "        return x * faktöriyel(x - 1)\n",
    "    \n",
    "faktöriyel(5)"
   ]
  },
  {
   "cell_type": "markdown",
   "id": "51553494",
   "metadata": {},
   "source": [
    "6-Write a Python function to check whether a number falls in a given range\n",
    "Bir sayının belirli bir aralıkta olup olmadığını kontrol etmek için bir Python işlevi yazın"
   ]
  },
  {
   "cell_type": "code",
   "execution_count": 90,
   "id": "b3f2d1e4",
   "metadata": {},
   "outputs": [
    {
     "data": {
      "text/plain": [
       "'5-->3 ve 9 arasındadır'"
      ]
     },
     "execution_count": 90,
     "metadata": {},
     "output_type": "execute_result"
    }
   ],
   "source": [
    "def aralık(a,b,c):\n",
    "    if c in range(a,b + 1):\n",
    "        return f\"{c}-->{a} ve {b} arasındadır\"\n",
    "    \n",
    "aralık(3,9,5)"
   ]
  },
  {
   "cell_type": "markdown",
   "id": "003bc438",
   "metadata": {},
   "source": [
    "7-Bir dize kabul eden ve büyük harf ve küçük harf sayısını hesaplayan bir Python işlevi yazın.\n",
    "Write a Python function that accepts a string and calculate the number of upper case letters and lower case letters."
   ]
  },
  {
   "cell_type": "code",
   "execution_count": 105,
   "id": "08b3d387",
   "metadata": {},
   "outputs": [
    {
     "data": {
      "text/plain": [
       "'Büyük harflerin sayısı : 3; küçük harflerin sayısı : 12'"
      ]
     },
     "execution_count": 105,
     "metadata": {},
     "output_type": "execute_result"
    }
   ],
   "source": [
    "def hassasiyet(*args):\n",
    "    büyük = 0\n",
    "    byk = []\n",
    "    küçük = 0\n",
    "    kçk = []\n",
    "    for i in args:\n",
    "        for j in i:\n",
    "            if j == j.upper() and j != \" \":\n",
    "                büyük += 1\n",
    "            elif j == j.lower() and j != \" \":\n",
    "                küçük += 1\n",
    "    return f\"Büyük harflerin sayısı : {büyük}; küçük harflerin sayısı : {küçük}\"\n",
    "\n",
    "hassasiyet(\"The quick Brow Fox\")"
   ]
  },
  {
   "cell_type": "markdown",
   "id": "123f3771",
   "metadata": {},
   "source": [
    "8-Write a Python function that takes a list and returns a new list with unique elements of the first list\n",
    "Bir liste alan ve ilk listenin benzersiz öğeleriyle yeni bir liste döndüren bir Python işlevi yazın\n",
    "Sample List : [1,2,3,3,3,3,4,5]\n",
    "Unique List : [1, 2, 3, 4, 5]"
   ]
  },
  {
   "cell_type": "code",
   "execution_count": 113,
   "id": "38780f1b",
   "metadata": {},
   "outputs": [
    {
     "data": {
      "text/plain": [
       "[1, 2, 3, 4, 5]"
      ]
     },
     "execution_count": 113,
     "metadata": {},
     "output_type": "execute_result"
    }
   ],
   "source": [
    "def tekrarsız(liste):\n",
    "    yeni = []\n",
    "    for i in liste:\n",
    "        if i not in yeni:\n",
    "            yeni.append(i)\n",
    "    return yeni\n",
    "\n",
    "tekrarsız([1,2,3,3,3,3,4,5])"
   ]
  },
  {
   "cell_type": "markdown",
   "id": "5a28cb76",
   "metadata": {},
   "source": [
    " 9-Write a Python function that takes a number as a parameter and check the number is prime or not.\n",
    "    Parametre olarak bir sayı alan bir Python fonksiyonu yazın ve sayının asal olup olmadığını kontrol edin."
   ]
  },
  {
   "cell_type": "code",
   "execution_count": 4,
   "id": "45f7cc16",
   "metadata": {},
   "outputs": [
    {
     "data": {
      "text/plain": [
       "'13 bir asal sayıdır.'"
      ]
     },
     "execution_count": 4,
     "metadata": {},
     "output_type": "execute_result"
    }
   ],
   "source": [
    "def asal(sayı):\n",
    "    for i in range(2,sayı):\n",
    "        if sayı % i != 0:\n",
    "            return f\"{sayı} bir asal sayıdır.\"\n",
    "        else:\n",
    "            return f\"{sayı} bir asal sayı değildir.\"\n",
    "        \n",
    "asal(13)"
   ]
  },
  {
   "cell_type": "markdown",
   "id": "85307c8e",
   "metadata": {},
   "source": [
    "10-Write a Python program to print the even numbers from a given list\n",
    "Verilen bir listeden çift sayıları yazdıran bir Python programı yazın"
   ]
  },
  {
   "cell_type": "code",
   "execution_count": 5,
   "id": "d2edecc0",
   "metadata": {},
   "outputs": [
    {
     "name": "stdout",
     "output_type": "stream",
     "text": [
      "Lütfen sayı listesini oluşturunuz : 1 2 3 4 5 6 7 8 9\n"
     ]
    },
    {
     "data": {
      "text/plain": [
       "[2, 4, 6, 8]"
      ]
     },
     "execution_count": 5,
     "metadata": {},
     "output_type": "execute_result"
    }
   ],
   "source": [
    "def çift(*sayı):\n",
    "    lst = []\n",
    "    for i in sayı:\n",
    "        if i % 2 == 0:\n",
    "            lst.append(i)\n",
    "    return lst\n",
    "\n",
    "listem = list(map(int, input(\"Lütfen sayı listesini oluşturunuz : \").split()))\n",
    "\n",
    "çift(*listem)"
   ]
  },
  {
   "cell_type": "markdown",
   "id": "bb1b1fd6",
   "metadata": {},
   "source": [
    "11-Write a Python function to check whether a number is perfect or not\n",
    "According to Wikipedia : In number theory, a perfect number is a positive integer that is equal to the sum of its proper positive divisors, that is, the sum of its positive divisors excluding the number itself (also known as its aliquot sum). Equivalently, a perfect number is a number that is half the sum of all of its positive divisors (including itself).\n",
    "Example : The first perfect number is 6, because 1, 2, and 3 are its proper positive divisors, and 1 + 2 + 3 = 6. Equivalently, the number 6 is equal to half the sum of all its positive divisors: ( 1 + 2 + 3 + 6 ) / 2 = 6. The next perfect number is 28 = 1 + 2 + 4 + 7 + 14. This is followed by the perfect numbers 496 and 8128.\n",
    "\n",
    "Wikipedia'ya göre: Sayı teorisinde, mükemmel bir sayı, uygun pozitif bölenlerinin toplamına, yani sayının kendisi hariç pozitif bölenlerinin toplamına eşit olan pozitif bir tam sayıdır (aynı zamanda bölüntü toplamı olarak da bilinir). Eşdeğer olarak, mükemmel bir sayı, tüm pozitif bölenlerinin (kendisi dahil) toplamının yarısı olan bir sayıdır.\n",
    "Örnek: İlk mükemmel sayı 6'dır, çünkü 1, 2 ve 3 onun uygun pozitif bölenleridir ve 1 + 2 + 3 = 6. Eşdeğer olarak, 6 sayısı tüm pozitif bölenlerinin toplamının yarısına eşittir: (1 + 2 + 3 + 6) / 2 = 6. Bir sonraki mükemmel sayı 28 = 1 + 2 + 4 + 7 + 14'tür. Bunu 496 ve 8128 mükemmel sayıları takip eder.      "
   ]
  },
  {
   "cell_type": "code",
   "execution_count": 14,
   "id": "3a13f732",
   "metadata": {},
   "outputs": [
    {
     "name": "stdout",
     "output_type": "stream",
     "text": [
      "Lütfen bir sayı giriniz :28\n",
      "28 bir mükemmel sayıdır.\n"
     ]
    }
   ],
   "source": [
    "def mükemmel(sayı):\n",
    "    toplam = 0\n",
    "    for i in range(1,sayı):\n",
    "        if sayı % i == 0:\n",
    "            toplam += i\n",
    "    if sayı == toplam:\n",
    "        return f\"{sayı} bir mükemmel sayıdır.\"\n",
    "    else:\n",
    "        return f\"{sayı} bir mükemmel sayı değildir.\"\n",
    "\n",
    "n = int(input(\"Lütfen bir sayı giriniz :\"))\n",
    "\n",
    "print(mükemmel(n))"
   ]
  },
  {
   "cell_type": "markdown",
   "id": "b2e0cf8b",
   "metadata": {},
   "source": [
    "12-Write a Python function that checks whether a passed string is palindrome or not.\n",
    "Note: A palindrome is a word, phrase, or sequence that reads the same backward as forward, e.g., madam or nurses run.\n",
    "    \n",
    "Geçirilen bir dizgenin palindrom olup olmadığını kontrol eden bir Python işlevi yazın.\n",
    "Not: Palindrom, ileriye doğru aynı şekilde geriye doğru okunan bir kelime, cümle veya dizidir"
   ]
  },
  {
   "cell_type": "code",
   "execution_count": 70,
   "id": "88f98838",
   "metadata": {},
   "outputs": [
    {
     "data": {
      "text/plain": [
       "False"
      ]
     },
     "execution_count": 70,
     "metadata": {},
     "output_type": "execute_result"
    }
   ],
   "source": [
    "def poli(ifade):\n",
    "    sol = 0\n",
    "    sağ = len(ifade) - 1\n",
    "    \n",
    "    while sağ >= sol:\n",
    "        if not ifade[sol] == ifade[sağ]:\n",
    "            return False\n",
    "        sol += 1\n",
    "        sağ -= 1\n",
    "        \n",
    "    return True\n",
    "\n",
    "poli(\"mustafa\")\n"
   ]
  },
  {
   "cell_type": "markdown",
   "id": "adeeeccb",
   "metadata": {},
   "source": [
    "13-Pascal üçgeninin ilk n satırını yazdıran bir Python işlevi yazın\n",
    " Write a Python function that prints out the first n rows of Pascal's triangle"
   ]
  },
  {
   "cell_type": "code",
   "execution_count": 12,
   "id": "561579f1",
   "metadata": {},
   "outputs": [
    {
     "name": "stdout",
     "output_type": "stream",
     "text": [
      "[1]\n",
      "[1, 1]\n",
      "[1, 2, 1]\n",
      "[1, 3, 3, 1]\n",
      "[1, 4, 6, 4, 1]\n",
      "True\n"
     ]
    }
   ],
   "source": [
    "def pascal(n):\n",
    "    ilk= [1]\n",
    "    m = [0]\n",
    "    for i in range(n):\n",
    "        print(ilk)\n",
    "        ilk = [j+k for j,k in zip(ilk + m, m + ilk)]\n",
    "    return n >= 1\n",
    "\n",
    "print(pascal(5))"
   ]
  },
  {
   "cell_type": "code",
   "execution_count": 87,
   "id": "92953aef",
   "metadata": {},
   "outputs": [
    {
     "name": "stdout",
     "output_type": "stream",
     "text": [
      "          1\n",
      "         1 1\n",
      "        1 2 1\n",
      "       1 3 3 1\n",
      "      1 4 6 4 1\n",
      "     1 5 10 10 5 1\n",
      "    1 6 15 20 15 6 1\n",
      "   1 7 21 35 35 21 7 1\n",
      "  1 8 28 56 70 56 28 8 1\n",
      " 1 9 36 84 126 126 84 36 9 1\n"
     ]
    }
   ],
   "source": [
    "p = [[1], [1,1]]\n",
    "for i in range(2,10):\n",
    "    a = [1]\n",
    "    for j in range(1,i):\n",
    "        a.append(p[i-1][j-1] + p[i-1][j])\n",
    "    a.append(1)\n",
    "    p.append(a)\n",
    "boşluk = len(p)\n",
    "for i in p:\n",
    "    print(\" \" * boşluk, end = \"\")\n",
    "    print(*i)\n",
    "    boşluk -= 1"
   ]
  },
  {
   "cell_type": "markdown",
   "id": "c4bea227",
   "metadata": {},
   "source": [
    "14-Bir dizenin pangram olup olmadığını kontrol etmek için bir Python işlevi yazın\n",
    "Not: Pangramlar, alfabenin her harfini en az bir kez içeren kelimeler veya cümlelerdir.\n",
    "    \n",
    "Write a Python function to check whether a string is a pangram or not\n",
    "Note : Pangrams are words or sentences containing every letter of the alphabet at least once."
   ]
  },
  {
   "cell_type": "code",
   "execution_count": 48,
   "id": "4724bffb",
   "metadata": {},
   "outputs": [
    {
     "data": {
      "text/plain": [
       "'ifade pangramdır'"
      ]
     },
     "execution_count": 48,
     "metadata": {},
     "output_type": "execute_result"
    }
   ],
   "source": [
    "def pang(*ifade):\n",
    "    lst = []\n",
    "    for i in ifade:\n",
    "        for j in i:\n",
    "            if j == \" \":\n",
    "                continue\n",
    "            lst.append(j)\n",
    "    alfabe = \"qwertyuopilkjhgfdsazxcvbnm\"\n",
    "    if len(set(lst)) == len(alfabe):\n",
    "        return \"ifade pangramdır\"\n",
    "    else:\n",
    "        return \"ifade pangram değildir\"\n",
    "\n",
    "    \n",
    "pang(\"the quick brown fox jumps over the lazy dog\")\n"
   ]
  },
  {
   "cell_type": "markdown",
   "id": "98482259",
   "metadata": {},
   "source": [
    "15-Write a Python program that accepts a hyphen-separated sequence of words as input and prints the words in a hyphen-separated sequence after sorting them alphabetically.\n",
    "\n",
    "\n",
    "Girdi olarak tire ile ayrılmış bir sözcük dizisini kabul eden ve sözcükleri alfabetik olarak sıraladıktan sonra tire ile ayrılmış bir dizide yazdıran bir Python programı yazın.\n",
    "Sample Items : green-red-yellow-black-white\n",
    "Expected Result : black-green-red-white-yellow\n",
    "    "
   ]
  },
  {
   "cell_type": "markdown",
   "id": "ba790824",
   "metadata": {},
   "source": [
    "16-Değerlerin 1 ile 30 arasındaki sayıların karesi olduğu bir liste oluşturmak ve yazdırmak için bir Python işlevi yazın\n"
   ]
  },
  {
   "cell_type": "code",
   "execution_count": 8,
   "id": "eb76c6be",
   "metadata": {},
   "outputs": [
    {
     "name": "stdout",
     "output_type": "stream",
     "text": [
      "mustafa-altaş\n",
      "altaş-mustafa\n"
     ]
    }
   ],
   "source": [
    "items=[n for n in input().split('-')]\n",
    "items.sort()\n",
    "print('-'.join(items))"
   ]
  },
  {
   "cell_type": "code",
   "execution_count": 47,
   "id": "5b572c2a",
   "metadata": {},
   "outputs": [
    {
     "name": "stdout",
     "output_type": "stream",
     "text": [
      "[1, 4, 9, 16, 25, 36, 49, 64, 81, 100, 121, 144, 169, 196, 225, 256, 289, 324, 361, 400, 441, 484, 529, 576, 625, 676, 729, 784, 841, 900]\n"
     ]
    }
   ],
   "source": [
    "def kareler():\n",
    "    lst = []\n",
    "    for i in range(1,31):\n",
    "        i = i ** 2\n",
    "        lst.append(i)\n",
    "    return lst\n",
    "\n",
    "print(kareler())"
   ]
  },
  {
   "cell_type": "code",
   "execution_count": 58,
   "id": "5abab594",
   "metadata": {},
   "outputs": [
    {
     "name": "stdout",
     "output_type": "stream",
     "text": [
      "hello world\n",
      "Multiply of 2 and 3 is:  6\n"
     ]
    }
   ],
   "source": [
    "mycode = 'print(\"hello world\")'\n",
    "code = \"\"\"\n",
    "def mutiply(x,y):\n",
    "    return x*y\n",
    "\n",
    "print('Multiply of 2 and 3 is: ',mutiply(2,3))\n",
    "\"\"\"\n",
    "exec(mycode)\n",
    "exec(code)"
   ]
  },
  {
   "cell_type": "markdown",
   "id": "8ac20153",
   "metadata": {},
   "source": [
    "Write a Python program to access a function inside a function.\n",
    "Bir işlev içindeki bir işleve erişmek için bir Python programı yazın"
   ]
  },
  {
   "cell_type": "code",
   "execution_count": 66,
   "id": "34d680ea",
   "metadata": {},
   "outputs": [
    {
     "name": "stdout",
     "output_type": "stream",
     "text": [
      "11\n"
     ]
    }
   ],
   "source": [
    "def test(a):\n",
    "        def add(b):\n",
    "                nonlocal a\n",
    "                a += 1\n",
    "                return a+b\n",
    "        return add\n",
    "\n",
    "func = test(5)\n",
    "print(func(5))"
   ]
  },
  {
   "cell_type": "markdown",
   "id": "00beab72",
   "metadata": {},
   "source": [
    "Write a Python program to detect the number of local variables declared in a function\n",
    "\n",
    "Bir fonksiyonda bildirilen yerel değişkenlerin sayısını tespit etmek için bir Python programı yazın\n"
   ]
  },
  {
   "cell_type": "code",
   "execution_count": 68,
   "id": "41d17c10",
   "metadata": {},
   "outputs": [
    {
     "name": "stdout",
     "output_type": "stream",
     "text": [
      "4\n"
     ]
    }
   ],
   "source": [
    "def abc():\n",
    "    x = 1\n",
    "    y = 2\n",
    "    z = 3\n",
    "    str1= \"w3resource\"\n",
    "    \n",
    "    print(\"Python Exercises\")\n",
    "\n",
    "print(abc.__code__.co_nlocals)"
   ]
  },
  {
   "cell_type": "code",
   "execution_count": null,
   "id": "aaa2cf55",
   "metadata": {},
   "outputs": [],
   "source": []
  },
  {
   "cell_type": "code",
   "execution_count": null,
   "id": "2ee59080",
   "metadata": {},
   "outputs": [],
   "source": []
  }
 ],
 "metadata": {
  "kernelspec": {
   "display_name": "Python 3",
   "language": "python",
   "name": "python3"
  },
  "language_info": {
   "codemirror_mode": {
    "name": "ipython",
    "version": 3
   },
   "file_extension": ".py",
   "mimetype": "text/x-python",
   "name": "python",
   "nbconvert_exporter": "python",
   "pygments_lexer": "ipython3",
   "version": "3.8.8"
  }
 },
 "nbformat": 4,
 "nbformat_minor": 5
}
