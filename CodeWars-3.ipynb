{
 "cells": [
  {
   "cell_type": "markdown",
   "id": "1872586b",
   "metadata": {},
   "source": [
    "Welcome. In this kata, you are asked to square every digit of a number and concatenate them.\n",
    "\n",
    "For example, if we run 9119 through the function, 811181 will come out, because 92 is 81 and 12 is 1.\n",
    "\n",
    "Note: The function accepts an integer and returns an integer"
   ]
  },
  {
   "cell_type": "code",
   "execution_count": 2,
   "id": "3c5cfdba",
   "metadata": {},
   "outputs": [
    {
     "data": {
      "text/plain": [
       "149"
      ]
     },
     "execution_count": 2,
     "metadata": {},
     "output_type": "execute_result"
    }
   ],
   "source": [
    "def square_digits(num):\n",
    "    sonuc = \"\"\n",
    "    for i in str(num):\n",
    "        sonuc += str(int(i) ** 2)\n",
    "    return int(sonuc)\n",
    "\n",
    "square_digits(123)"
   ]
  },
  {
   "cell_type": "markdown",
   "id": "ad94c3af",
   "metadata": {},
   "source": [
    "\n",
    "Çeviri sonuçları\n",
    "x,y,z ∈ ℕ boyutlarında bir küboidiniz var. x, y ve z değerleri 1 ile 10^9 arasındadır. Bu küboidin bir alt küboidinin uzunluk, genişlik, yükseklik ∈ ℕ boyutları vardır ve burada 1≤uzunluk≤x, 1≤genişlik≤y, 1≤yükseklik≤z. İki alt küboid aynı uzunluk, genişlik ve yüksekliğe sahipse, ancak bunlar küboid içinde farklı konumlardaysa, bunlar farklıdır. Verilen küboid için toplam alt küboid sayısını bulun. \n"
   ]
  },
  {
   "cell_type": "code",
   "execution_count": null,
   "id": "17ba1871",
   "metadata": {},
   "outputs": [],
   "source": [
    "def subcuboids(x,y,z):\n",
    "    return x*(x+1)*y*(y+1)*z*(z+1)//8"
   ]
  },
  {
   "cell_type": "markdown",
   "id": "24d425ce",
   "metadata": {},
   "source": [
    "Bu fonksiyon, faktörün bir taban faktörü olup olmadığını test etmelidir.\n",
    "Return true if it is a factor or false if it is not.\n",
    "Faktörler hakkında\n",
    "Faktörler, başka bir sayı elde etmek için birlikte çarpabileceğiniz sayılardır.\n",
    "\n",
    "2 ve 3, 6'nın çarpanlarıdır çünkü: 2 * 3 = 6\n",
    "Sayıları bölerek bir çarpan bulabilirsiniz. Kalan 0 ise, sayı bir faktördür.\n",
    "Kalanı kontrol etmek için çoğu dilde mod operatörünü (%) kullanabilirsiniz.\n",
    "Örneğin 2, 7'nin bir faktörü değildir çünkü: %7 2 = 1\n",
    "\n",
    "Not: taban negatif olmayan bir sayıdır, faktör pozitif bir sayıdır."
   ]
  },
  {
   "cell_type": "code",
   "execution_count": 3,
   "id": "452f6636",
   "metadata": {},
   "outputs": [],
   "source": [
    "def check_for_factor(base, factor):\n",
    "    if base%factor == 0:\n",
    "        return True\n",
    "    else:\n",
    "        return False"
   ]
  },
  {
   "cell_type": "markdown",
   "id": "da56ba57",
   "metadata": {},
   "source": [
    "Bir hayvanat bahçesine gittiğinizi ve bazı zoologların sizden yardım istediğini hayal edin. Kendi türünün en güçlü maymununu bulmanızı istiyorlar ve hayvanat bahçesinde 4 çeşit maymun var. (Goril, Gibbon, Orangutan, Şempanze)\n",
    "\n",
    "Çok sayıda sözlük içeren bir liste olan tek bir parametre olacaktır.\n",
    "Each dictionary will be like this: {\"name\": name, \"weight\": weight, \"height\": height, \"type\": type}\n",
    "\n",
    "En güçlü maymunu bulmak için, o türden her bir maymunun ağırlık ve boylarının toplamını karşılaştırmanız gerekir.\n",
    "En yüksek ağırlık ve boydaki maymun, en güçlü maymun olacaktır.\n",
    "\n",
    "Her türden en güçlü maymunların adlarını içeren bir sözlük döndürmen gerekiyor.{\"Gorilla\": Strong_gorilla, \"Gibbon\": Strong_gibbon, \"Orangutan\": Strong_orangutan, \"Chimpanzee\": Strong_chimpanzee}\n",
    "Aynı en yüksek ağırlık ve yüksekliğe sahip 2 veya daha fazla maymun olabilir. Bu durumda, isimlerini alfabeye göre sıralamanız ve ardından en güçlü maymun olarak ilkini seçmeniz gerekir.\n",
    "If there are no apes for a kind (e.g. Gorilla), you need to return a dictionary like this: {\"Gorilla\": None, \"Gibbon\": strongest_gibbon, \"Orangutan\": strongest_orangutan, \"Chimpanzee\": strongest_chimpanzee}\n",
    "find_the_strongest_apes(\n",
    "            [{\"name\": \"aba\", \"weight\": 101, \"height\": 99, \"type\": \"Gorilla\"},\n",
    "             {\"name\": \"abb\", \"weight\": 99, \"height\": 101, \"type\": \"Gorilla\"},\n",
    "             {\"name\": \"abc\", \"weight\": 101, \"height\": 99, \"type\": \"Orangutan\"},\n",
    "             {\"name\": \"abd\", \"weight\": 99, \"height\": 101, \"type\": \"Orangutan\"}])\n",
    "Should return {'Gorilla': 'aba', 'Gibbon': None, 'Orangutan': 'abc', 'Chimpanzee': None}"
   ]
  },
  {
   "cell_type": "code",
   "execution_count": 51,
   "id": "23d3921c",
   "metadata": {},
   "outputs": [
    {
     "data": {
      "text/plain": [
       "{'Gorilla': None, 'Gibbon': 'abb', 'Orangutan': None, 'Chimpanzee': 'abd'}"
      ]
     },
     "execution_count": 51,
     "metadata": {},
     "output_type": "execute_result"
    }
   ],
   "source": [
    "def find_the_strongest_apes(_list):\n",
    "    goril = 0\n",
    "    gibbon = 0\n",
    "    oran = 0\n",
    "    chim = 0\n",
    "    goril_name = {}\n",
    "    gibbon_name = {}\n",
    "    oran_name = {}\n",
    "    chim_name = {}\n",
    "    sonuc = {}\n",
    "    for i in _list:\n",
    "        if i[\"type\"] == \"Gorilla\":\n",
    "            if i[\"weight\"]+i[\"height\"] > goril:\n",
    "                goril = 0\n",
    "                goril_name.clear()\n",
    "                goril += i[\"weight\"]+i[\"height\"]\n",
    "                goril_name[i[\"name\"]] = goril\n",
    "            elif i[\"weight\"]+i[\"height\"] == goril:\n",
    "                goril = 0\n",
    "                goril += i[\"weight\"]+i[\"height\"]\n",
    "                goril_name[i[\"name\"]] = goril           \n",
    "        elif i[\"type\"] == \"Gibbon\":\n",
    "            if i[\"weight\"]+i[\"height\"] > gibbon:\n",
    "                gibbon = 0\n",
    "                gibbon_name.clear()\n",
    "                gibbon += i[\"weight\"]+i[\"height\"]\n",
    "                gibbon_name[i[\"name\"]] = gibbon\n",
    "            elif i[\"weight\"]+i[\"height\"] == gibbon:\n",
    "                gibbon = 0\n",
    "                gibbon += i[\"weight\"]+i[\"height\"]\n",
    "                gibbon_name[i[\"name\"]] = gibbon\n",
    "        elif i[\"type\"] == \"Orangutan\":\n",
    "            if i[\"weight\"]+i[\"height\"] > oran:\n",
    "                oran = 0\n",
    "                oran_name.clear()\n",
    "                oran += i[\"weight\"]+i[\"height\"]\n",
    "                oran_name[i[\"name\"]] = oran\n",
    "            elif i[\"weight\"]+i[\"height\"] == oran:\n",
    "                oran = 0\n",
    "                oran += i[\"weight\"]+i[\"height\"]\n",
    "                oran_name[i[\"name\"]] = oran\n",
    "        elif i[\"type\"] == \"Chimpanzee\":\n",
    "            if i[\"weight\"]+i[\"height\"] > chim:\n",
    "                chim = 0\n",
    "                chim_name.clear()\n",
    "                chim += i[\"weight\"]+i[\"height\"]\n",
    "                chim_name[i[\"name\"]] = chim\n",
    "            elif i[\"weight\"]+i[\"height\"] == chim:\n",
    "                chim = 0\n",
    "                chim += i[\"weight\"]+i[\"height\"]\n",
    "                chim_name[i[\"name\"]] = chim\n",
    "            \n",
    "    if len(goril_name) != 0:\n",
    "        sonuc[\"Gorilla\"] = sorted(goril_name)[0]\n",
    "    else:\n",
    "        sonuc[\"Gorilla\"] = None\n",
    "    \n",
    "    \n",
    "    if len(gibbon_name) != 0:\n",
    "        sonuc[\"Gibbon\"] = sorted(gibbon_name)[0]\n",
    "    else:\n",
    "        sonuc[\"Gibbon\"] = None\n",
    "        \n",
    "    if len(oran_name) != 0:\n",
    "        sonuc[\"Orangutan\"] = sorted(oran_name)[0]\n",
    "    else:\n",
    "        sonuc[\"Orangutan\"] = None\n",
    "        \n",
    "    if len(chim_name) != 0:\n",
    "        sonuc[\"Chimpanzee\"] = sorted(chim_name)[0]\n",
    "    else:\n",
    "        sonuc[\"Chimpanzee\"] = None\n",
    "        \n",
    "    return sonuc\n",
    "        \n",
    "                \n",
    "                \n",
    "                \n",
    "find_the_strongest_apes( [{\"name\": \"aba\", \"weight\": 10, \"height\": 50, \"type\": \"Gibbon\"},\n",
    "             {\"name\": \"abb\", \"weight\": 15, \"height\": 60, \"type\": \"Gibbon\"},\n",
    "             {\"name\": \"abc\", \"weight\": 20, \"height\": 50, \"type\": \"Gibbon\"},\n",
    "             {\"name\": \"abd\", \"weight\": 50, \"height\": 100, \"type\": \"Chimpanzee\"}])"
   ]
  },
  {
   "cell_type": "markdown",
   "id": "c108512a",
   "metadata": {},
   "source": [
    "Şehirde Yüzme - 2D (TowerFlood ve PlainFlood)\n",
    "Her kulenin genişliği 1 olan 2 boyutlu bir düzlemde kulelerin yüksekliğini temsil eden bir dizi verildiğinde, yağmur yağdığında kuleler arasında tutulabilecek maksimum su birimi miktarı nedir?\n",
    "\n",
    "Her kule, dizide hemen yanındaki kulenin yanındadır, ancak yüksekliğin 0 olduğu durumlar dışında, kule bulunmaz.\n",
    "\n",
    "Tek bir birim, genişliği 1 olan 2d kare olarak düşünülebilir.\n",
    "Examples\n",
    "          [5,2,10] should return 3\n",
    "  [1,0,5,2,6,3,10] should return 7\n",
    "[15,0,6,10,11,2,5] should return 20\n",
    "           [1,5,1] should return 0\n",
    "             [6,5] should return 0\n",
    "                [] should return 0\n",
    "\n",
    "Performanslar:\n",
    "Performanslara dikkat edin: kule sayısı ile doğrusal bir çözüme ihtiyacınız olacak."
   ]
  },
  {
   "cell_type": "code",
   "execution_count": 5,
   "id": "8fddcf5c",
   "metadata": {},
   "outputs": [
    {
     "data": {
      "text/plain": [
       "3"
      ]
     },
     "execution_count": 5,
     "metadata": {},
     "output_type": "execute_result"
    }
   ],
   "source": [
    "def rain_volume(towers):\n",
    "    l=len(towers)\n",
    "    if l<3: return 0\n",
    "    h=[0]*l\n",
    "    k=[0]*l\n",
    "    h[0]=towers[0]\n",
    "    k[l-1]=towers[l-1]\n",
    "    for i in range(1,l):\n",
    "        h[i]=max(h[i-1],towers[i])\n",
    "        k[l-i-1]=max(k[l-i],towers[l-i-1])\n",
    "    return sum(max(0,min(h[i]-towers[i],k[i]-towers[i])) for i in range(l))\n",
    "\n",
    "rain_volume([5,2,10])"
   ]
  },
  {
   "cell_type": "markdown",
   "id": "05ae1baf",
   "metadata": {},
   "source": [
    "Your task, is to create NxN multiplication table, of size provided in parameter.\n",
    "\n",
    "for example, when given size is 3:\n",
    "\n",
    "1 2 3\n",
    "2 4 6\n",
    "3 6 9\n",
    "for given example, the return value should be: [[1,2,3],[2,4,6],[3,6,9]]"
   ]
  },
  {
   "cell_type": "code",
   "execution_count": 9,
   "id": "284f19ec",
   "metadata": {},
   "outputs": [
    {
     "data": {
      "text/plain": [
       "[[1, 2, 3], [2, 4, 6], [3, 6, 9]]"
      ]
     },
     "execution_count": 9,
     "metadata": {},
     "output_type": "execute_result"
    }
   ],
   "source": [
    "def multiplication_table(size):\n",
    "    lst1 = []\n",
    "    for i in range(1,size + 1):\n",
    "        lst2 = []\n",
    "        for j in range(i, size * i + 1,i):\n",
    "            lst2.append(j)\n",
    "        lst1.append(lst2)\n",
    "    return lst1\n",
    "\n",
    "multiplication_table(3)"
   ]
  },
  {
   "cell_type": "code",
   "execution_count": 19,
   "id": "d836be5d",
   "metadata": {},
   "outputs": [
    {
     "name": "stdout",
     "output_type": "stream",
     "text": [
      "1 2 3 4 5 \n",
      "2 4 6 8 10 \n",
      "3 6 9 12 15 \n",
      "4 8 12 16 20 \n",
      "5 10 15 20 25 \n"
     ]
    }
   ],
   "source": [
    "def multiplication_table(size):\n",
    "    lst1 = []\n",
    "    for i in range(1,size + 1):\n",
    "        lst2 = []\n",
    "        for j in range(i, size * i + 1,i):\n",
    "            lst2.append(j)\n",
    "        lst1.append(lst2)\n",
    "    for i in range(len(lst1)):\n",
    "        for j in lst1:\n",
    "            print(j[i],end = \" \")\n",
    "        print(\"\")\n",
    "\n",
    "multiplication_table(5)"
   ]
  },
  {
   "cell_type": "markdown",
   "id": "29fc8d02",
   "metadata": {},
   "source": [
    "Given two arrays of integers m and n, test if they contain at least one identical element. Return true if they do; false if not.\n",
    "\n",
    "Your code must handle any value within the range of a 32-bit integer, and must be capable of handling either array being empty (which is a false result, as there are no duplicated elements)."
   ]
  },
  {
   "cell_type": "code",
   "execution_count": null,
   "id": "eeab8cbb",
   "metadata": {},
   "outputs": [],
   "source": [
    "def duplicate_elements(m, n):\n",
    "    kontrol = 0\n",
    "    for i in m :\n",
    "        if i in n:\n",
    "            kontrol += 1\n",
    "    if kontrol == 0:\n",
    "        return False\n",
    "    else:\n",
    "        return True\n",
    "    \n",
    "    "
   ]
  },
  {
   "cell_type": "markdown",
   "id": "6075608c",
   "metadata": {},
   "source": [
    "Sen dünyadaki en büyük şefsin. Kimse senin gibi yumurta kaynatmaz! Restoranınız her zaman haşlanmış yumurtalarınızı seven konuklarla dolu. Ama daha fazla haşlanmış yumurta olduğunda, biraz zamana ihtiyacın var çünkü senin işin için sadece bir tenceren var. Ne kadar zamana ihtiyacın var?\n",
    "Senin görevin\n",
    "Kaynatılacak yumurta sayısını temsil eden, negatif olmayan bir tamsayı alan bir fonksiyon uygulayın. Tüm yumurtaların kaynatılması için gereken süreyi dakika (tam sayı) cinsinden döndürmelidir.\n",
    "Tüzük\n",
    "tencereye aynı anda en fazla 8 yumurta koyabilirsiniz\n",
    "bir yumurtayı kaynatmak 5 dakika sürer\n",
    "suyun her zaman kaynadığını varsayıyoruz (ısınmak için zaman yok)\n",
    "basitlik için, yumurtaları tencereye koymak veya tencereden çıkarmak için geçen süreyi de hesaba katmıyoruz.\n",
    "Örnek (Giriş --> Çıkış)\n",
    "0 --> 0\n",
    "5 --> 5\n",
    "10 --> 10"
   ]
  },
  {
   "cell_type": "code",
   "execution_count": 36,
   "id": "f51ce918",
   "metadata": {},
   "outputs": [
    {
     "data": {
      "text/plain": [
       "35"
      ]
     },
     "execution_count": 36,
     "metadata": {},
     "output_type": "execute_result"
    }
   ],
   "source": [
    "def cooking_time(eggs):\n",
    "    a = eggs % 8\n",
    "    b = eggs // 8\n",
    "    if eggs == 0:\n",
    "        return 0\n",
    "    elif a == 0:\n",
    "        return b * 5 + ((a // 8))\n",
    "    else:\n",
    "        return b * 5 + ((a // 8) + 1) * 5\n",
    "\n",
    "cooking_time(56)"
   ]
  }
 ],
 "metadata": {
  "kernelspec": {
   "display_name": "Python 3",
   "language": "python",
   "name": "python3"
  },
  "language_info": {
   "codemirror_mode": {
    "name": "ipython",
    "version": 3
   },
   "file_extension": ".py",
   "mimetype": "text/x-python",
   "name": "python",
   "nbconvert_exporter": "python",
   "pygments_lexer": "ipython3",
   "version": "3.8.8"
  }
 },
 "nbformat": 4,
 "nbformat_minor": 5
}
