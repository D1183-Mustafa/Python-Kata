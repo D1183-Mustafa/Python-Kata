{
 "cells": [
  {
   "cell_type": "code",
   "execution_count": 4,
   "id": "4e0b900d",
   "metadata": {},
   "outputs": [
    {
     "name": "stdout",
     "output_type": "stream",
     "text": [
      "1\n",
      "3\n",
      "9\n",
      "27\n",
      "81\n",
      "243\n",
      "729\n",
      "2187\n"
     ]
    }
   ],
   "source": [
    "class Kuvvet3():\n",
    "    def __init__(self,max = 0):\n",
    "\n",
    "        self.max = max\n",
    "        self.kuvvet = 0\n",
    "\n",
    "    def __iter__(self):\n",
    "\n",
    "        return self\n",
    "    def __next__(self):\n",
    "        if (self.kuvvet <= self.max):\n",
    "            sonuc = 3 ** self.kuvvet\n",
    "\n",
    "            self.kuvvet += 1\n",
    "\n",
    "            return sonuc\n",
    "        else:\n",
    "            self.kuvvet = 0\n",
    "            raise StopIteration\n",
    "\n",
    "\n",
    "kuvvet = Kuvvet3(7)\n",
    "\n",
    "for i in kuvvet:\n",
    "    print(i)\n",
    "\n"
   ]
  },
  {
   "cell_type": "code",
   "execution_count": 5,
   "id": "a3d99b11",
   "metadata": {},
   "outputs": [
    {
     "name": "stdout",
     "output_type": "stream",
     "text": [
      "1\n",
      "1\n",
      "2\n",
      "3\n",
      "5\n",
      "8\n",
      "13\n",
      "21\n",
      "34\n",
      "55\n",
      "89\n",
      "144\n",
      "233\n",
      "377\n",
      "610\n",
      "987\n",
      "1597\n",
      "2584\n",
      "4181\n",
      "6765\n",
      "10946\n",
      "17711\n",
      "28657\n",
      "46368\n",
      "75025\n"
     ]
    }
   ],
   "source": [
    "def fibonacci():\n",
    "\n",
    "    a = 1\n",
    "    b = 1\n",
    "    yield a\n",
    "    yield b\n",
    "\n",
    "    while True:\n",
    "\n",
    "        a,b = b, a+b\n",
    "\n",
    "        yield b\n",
    "\n",
    "for sayı in fibonacci():\n",
    "\n",
    "    if (sayı > 100000):\n",
    "        break\n",
    "    print(sayı)\n",
    "\n"
   ]
  },
  {
   "cell_type": "code",
   "execution_count": null,
   "id": "79133a43",
   "metadata": {},
   "outputs": [],
   "source": []
  }
 ],
 "metadata": {
  "kernelspec": {
   "display_name": "Python 3",
   "language": "python",
   "name": "python3"
  },
  "language_info": {
   "codemirror_mode": {
    "name": "ipython",
    "version": 3
   },
   "file_extension": ".py",
   "mimetype": "text/x-python",
   "name": "python",
   "nbconvert_exporter": "python",
   "pygments_lexer": "ipython3",
   "version": "3.8.8"
  }
 },
 "nbformat": 4,
 "nbformat_minor": 5
}
