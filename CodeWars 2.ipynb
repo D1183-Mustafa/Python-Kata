{
 "cells": [
  {
   "cell_type": "markdown",
   "id": "bc4c8842",
   "metadata": {},
   "source": [
    "Bir Fibonacci dizisindeki tüm çift sayıların toplamını maksimum değere kadar ancak dahil etmeden verin.\n",
    "\n",
    "Fibonacci dizisi, bir sonraki değerin önceki iki değerin toplamı olduğu bir sayı dizisidir. Seri 0 ve 1 ile başlar:\n",
    "\n",
    "0 1 1 2 3 5 8 13 21 ...\n",
    "\n",
    "Örneğin:\n",
    "eve_fib(0)==0\n",
    "eve_fib(33)==10\n",
    "eve_fib(25997544)==19544084\n",
    "\n",
    "\n"
   ]
  },
  {
   "cell_type": "code",
   "execution_count": 8,
   "id": "aa04e17e",
   "metadata": {},
   "outputs": [
    {
     "name": "stdout",
     "output_type": "stream",
     "text": [
      "19544084\n"
     ]
    }
   ],
   "source": [
    "def even_fib(m):\n",
    "    toplam = 0\n",
    "    fibo = [1,1]\n",
    "    sayac = 0\n",
    "    index = 2\n",
    "    while sayac < m:\n",
    "        sayac += fibo[index - 1] + fibo[index - 2]\n",
    "        fibo.append(fibo[index - 1] + fibo[index - 2])\n",
    "        index += 1\n",
    "    for i in fibo:\n",
    "        if i % 2 == 0:\n",
    "            toplam += i\n",
    "    return toplam\n",
    "\n",
    "print(even_fib(25997544))\n",
    "        "
   ]
  },
  {
   "cell_type": "markdown",
   "id": "9228e68b",
   "metadata": {},
   "source": [
    "Cadılar Bayramı yaklaşıyor ve çikolataları dağıtmamız gerekiyor. Bir paket hedef gram çikolata toplamamız gerekiyor. Hedefin her zaman pozitif bir tamsayı değeri olduğu varsayılabilir.\n",
    "Küçük çikolatalar (her biri 2 gram) ve büyük çikolatalar (her biri 5 gram) vardır.\n",
    "Hedefe ulaşmak için çikolatalar (büyük ve küçük) olduğu gibi kullanılmalıdır, yani çikolatalar daha küçük parçalara bölünemez.\n",
    "İstenilen hedefe ulaşmak için mevcut olan büyük çikolataların kullanımını en üst düzeye çıkarın. Ve ancak o zaman küçük çikolataları kullanmaya devam etmelisiniz.\n",
    "NOT: \"Maksimize Et\", küçük çikolataları kullanmadan önce mevcut tüm büyük çikolataları kullanmanız gerektiği anlamına gelmez.\n",
    "Örneğin, 6 ve büyük = 1, küçük = 3 hedefini düşünün. Mevcut bir büyük çikolatayı kullanarak, 1'in ağırlığının kalanını elde etmek mümkün değildir. Bu nedenle, büyük çikolatayı kullanmaktan kaçının. Mevcut 3 küçük çikolatayı kullanın ve hedefe ulaşın.\n",
    "İstenilen koli ağırlığına ulaşmak için gereken küçük çikolata sayısını belirleyin.\n",
    "\n",
    "Aşağıdaki sırayla, argüman olarak üç tamsayı değeri kabul edecek bir make_chocolates işlevi yazın:\n",
    "\n",
    "küçük -> mevcut küçük çikolata sayısı\n",
    "büyük -> mevcut büyük çikolata sayısı\n",
    "hedef -> nihai parselin istenen ağırlığı\n",
    "İşlev, hedefe ulaşmak için gereken küçük çikolata sayısını döndürmelidir. İşlev, yalnızca büyük çikolatalar ve küçük çikolataların olası herhangi bir kombinasyonu ile hedefe ulaşılamıyorsa -1 döndürmelidir.\n",
    "Example\n",
    "make_chocolates (4, 1, 13) => 4  \n",
    "make_chocolates (4, 1, 14) => -1  \n",
    "make_chocolates (2, 1, 7) => 1  \n",
    "\n",
    "#using the big chocolate prevents goal \n",
    "#accomplishment, therefore don't use it!\n",
    "make_chocolates (3, 1, 6) => 3  "
   ]
  },
  {
   "cell_type": "code",
   "execution_count": null,
   "id": "0edd291c",
   "metadata": {},
   "outputs": [],
   "source": [
    "def make_chocolates(small, big, goal):\n",
    "    for i in range(1,small + 1):\n",
    "        if (goal - (i * 2)) % 5 ==\n",
    "    \n",
    "    "
   ]
  },
  {
   "cell_type": "code",
   "execution_count": 73,
   "id": "be5432b9",
   "metadata": {},
   "outputs": [
    {
     "data": {
      "text/plain": [
       "(2, 1)"
      ]
     },
     "execution_count": 73,
     "metadata": {},
     "output_type": "execute_result"
    }
   ],
   "source": [
    "divmod()"
   ]
  },
  {
   "cell_type": "markdown",
   "id": "6b5bb3c2",
   "metadata": {},
   "source": [
    "Given a string, turn each character into its ASCII character code and join them together to create a number - let's call this number total1:\n",
    "\n",
    "'ABC' --> 'A' = 65, 'B' = 66, 'C' = 67 --> 656667\n",
    "Then replace any incidence of the number 7 with the number 1, and call this number 'total2':\n",
    "\n",
    "total1 = 656667\n",
    "              ^\n",
    "total2 = 656661\n",
    "              ^\n",
    "Then return the difference between the sum of the digits in total1 and total2:\n",
    "\n",
    "  (6 + 5 + 6 + 6 + 6 + 7)\n",
    "- (6 + 5 + 6 + 6 + 6 + 1)\n",
    "-------------------------\n",
    "                       6"
   ]
  },
  {
   "cell_type": "code",
   "execution_count": 106,
   "id": "badcc971",
   "metadata": {},
   "outputs": [
    {
     "data": {
      "text/plain": [
       "30"
      ]
     },
     "execution_count": 106,
     "metadata": {},
     "output_type": "execute_result"
    }
   ],
   "source": [
    "def calc(x):\n",
    "    total1 = \"\"\n",
    "    for i in x:\n",
    "        total1 += str(ord(i))\n",
    "    total2 = total1.maketrans(\"7\", \"1\")\n",
    "    \n",
    "    toplam = 0\n",
    "    for i in str(int(total1) - int((total1.translate(total2)))):\n",
    "        toplam += int(i)\n",
    "    return toplam\n",
    "\n",
    "calc('aaaaaddddr')\n",
    "    "
   ]
  },
  {
   "cell_type": "markdown",
   "id": "d9593df9",
   "metadata": {},
   "source": [
    "Diyelim ki 4 numaranız var: '0', '9', '6', '4' ve bunlardan oluşan 3 dize:\n",
    "s1 = \"6900690040\"\n",
    "s2 = \"4690606946\"\n",
    "s3 = \"9990494604\"\n",
    "Kaç tane ortak konuma sahip olduklarını görmek için s1 ve s2'yi karşılaştırın: 0 dizin 3'te, 6 dizin 4'te, 4 dizin 8'de yani on üzerinden 3 ortak konum.\n",
    "Kaç tane ortak konuma sahip olduklarını görmek için s1 ve s3'ü karşılaştırın: Dizin 1'de 9, Dizin 3'te 0, Dizin 5'te 9, yani on üzerinden 3 ortak konum.\n",
    "S2 ve s3'ü karşılaştırın. On üzerinden 2 ortak pozisyon buluyoruz.\n",
    "Yani 3 dizi için 30'dan 8'i ortak konumumuz var, yani 0.2666... veya %26.666...\n",
    "358 / 5000\n",
    "Çeviri sonuçları\n",
    "Bir dizgede n alt dizge (n >= 2) verildiğinde, pos_average işlevimiz, (n * (n-1)) / verilen n alt dizgi arasında alınan 2 alt dizgi kümesi arasında aynı olan konumların ortalama yüzdesini hesaplayacaktır. Bazı alt diziler kopya olabilir, ancak sıraları s'de aynı olmadığından farklı alt diziler olarak kabul edilir. \n",
    "İşlev, 10 ondalık basamaklı bir kayan nokta olarak biçimlendirilmiş yüzdeyi döndürür, ancak sonuç 1e.-9'da test edilir (testlerde assertFuzzy işlevine bakın).\n",
    "322 / 5000\n",
    "Çeviri sonuçları\n",
    "Örnek:\n",
    "Verilen s = \"444996, 699990, 666690, 096904, 600644, 640646, 606469, 409694, 666094, 606490\", n = 10 alt dizeden (dolayısıyla 45 kombinasyon) oluşan bir dizi oluşturur, pos_average 29.2592592593 döndürür.\n",
    "\n",
    "Bir kümede n alt dizgisi aynı uzunluğa ( > 0 ) sahip olacaktır.\n",
    "\n",
    "notlar\n",
    "Diğer örnekleri \"Örnek testler\" bölümünde görebilirsiniz. \n"
   ]
  },
  {
   "cell_type": "code",
   "execution_count": 118,
   "id": "a6996cfb",
   "metadata": {},
   "outputs": [
    {
     "data": {
      "text/plain": [
       "29.259259259259256"
      ]
     },
     "execution_count": 118,
     "metadata": {},
     "output_type": "execute_result"
    }
   ],
   "source": [
    "def pos_average(s):\n",
    "    values = s.split(\", \")\n",
    "    count, total = 0, 0\n",
    "    for i in range(len(values)-1):\n",
    "        for j in range(i+1,len(values)):\n",
    "            for k in range(len(values[i])):\n",
    "                if values[i][k] == values[j][k]: count += 1\n",
    "                total += 1\n",
    "    return count / total * 100\n",
    "pos_average(\"444996, 699990, 666690, 096904, 600644, 640646, 606469, 409694, 666094, 606490\")"
   ]
  },
  {
   "cell_type": "markdown",
   "id": "2cf0ec31",
   "metadata": {},
   "source": [
    "Write function bmi that calculates body mass index (bmi = weight / height2).\n",
    "\n",
    "if bmi <= 18.5 return \"Underweight\"\n",
    "\n",
    "if bmi <= 25.0 return \"Normal\"\n",
    "\n",
    "if bmi <= 30.0 return \"Overweight\"\n",
    "\n",
    "if bmi > 30 return \"Obese\"\n"
   ]
  },
  {
   "cell_type": "code",
   "execution_count": null,
   "id": "43f7865e",
   "metadata": {},
   "outputs": [],
   "source": [
    "def bmi(weight, height):\n",
    "    result = weight / (height ** 2)\n",
    "    if result <= 18.5:\n",
    "        return f\"Underweight\"\n",
    "    elif result > 18.5 and result <= 25.0:\n",
    "        return f\"Normal\"\n",
    "    elif result > 25 and result <= 30.0:\n",
    "        return \"Overweight\"\n",
    "    else:\n",
    "        return f\"Obese\"\n"
   ]
  },
  {
   "cell_type": "markdown",
   "id": "9133d499",
   "metadata": {},
   "source": [
    "Write an algorithm that takes an array and moves all of the zeros to the end, preserving the order of the other elements.\n",
    "\n",
    "move_zeros([1, 0, 1, 2, 0, 1, 3]) # returns [1, 1, 2, 1, 3, 0, 0]"
   ]
  },
  {
   "cell_type": "code",
   "execution_count": 15,
   "id": "6d60ee70",
   "metadata": {},
   "outputs": [
    {
     "data": {
      "text/plain": [
       "[9, 9, 1, 2, 1, 1, 3, 1, 9, 9, 0, 0, 0, 0, 0, 0, 0, 0, 0, 0]"
      ]
     },
     "execution_count": 15,
     "metadata": {},
     "output_type": "execute_result"
    }
   ],
   "source": [
    "def move_zeros(n):\n",
    "    lst1 = []\n",
    "    lst2 = []\n",
    "    for i in n:\n",
    "        if i != 0:\n",
    "            lst1.append(i)\n",
    "        else:\n",
    "            lst2.append(i)\n",
    "            \n",
    "    return lst1 + lst2\n",
    "\n",
    "move_zeros([9, 0, 0, 9, 1, 2, 0, 1, 0, 1, 0, 3, 0, 1, 9, 0, 0, 0, 0, 9])"
   ]
  },
  {
   "cell_type": "code",
   "execution_count": 17,
   "id": "f4a748c5",
   "metadata": {},
   "outputs": [
    {
     "data": {
      "text/plain": [
       "3102"
      ]
     },
     "execution_count": 17,
     "metadata": {},
     "output_type": "execute_result"
    }
   ],
   "source": [
    "num = 2013\n",
    "int(str(num)[::-1])"
   ]
  },
  {
   "cell_type": "markdown",
   "id": "fe237717",
   "metadata": {},
   "source": [
    "Perfect powers are numbers that can be written mkm^km \n",
    "k\n",
    " , where mmm and kkk are both integers greater than 1.\n",
    "\n",
    "Your task is to write a function that returns the perfect power nearest any number.\n",
    "\n",
    "Notes\n",
    "When the input itself is a perfect power, return this number\n",
    "Since 4 is the smallest perfect power, for inputs < 4 (including 0, 1, and negatives) return 4\n",
    "The input can be either a floating-point number or an integer\n",
    "If there are two perfect powers equidistant from the input, return the smaller one\n",
    "Examples\n",
    "For instance,\n",
    "\n",
    " 0  -->   4\n",
    "11  -->   9    #  9 = 3^2\n",
    "34  -->  32    # 32 = 2^5 and 36 = 6^2 --> same distance, pick the smaller"
   ]
  },
  {
   "cell_type": "code",
   "execution_count": 32,
   "id": "253967a3",
   "metadata": {},
   "outputs": [
    {
     "name": "stdout",
     "output_type": "stream",
     "text": [
      "giriniz : 11\n",
      "9\n"
     ]
    }
   ],
   "source": [
    "lst = []\n",
    "n = int(input(\"giriniz : \"))\n",
    "if n >= 2:\n",
    "    for i in range(2,n + 1):\n",
    "        for j in range(2,n + 1):\n",
    "            if i ** j < n:\n",
    "                lst.append(i ** j)\n",
    "elif n == 1:\n",
    "    lst = [4]\n",
    "else:\n",
    "    lst = [4]\n",
    "lst.sort()\n",
    "print(lst[-1])"
   ]
  },
  {
   "cell_type": "code",
   "execution_count": 2,
   "id": "3ff81f40",
   "metadata": {},
   "outputs": [
    {
     "data": {
      "text/plain": [
       "81"
      ]
     },
     "execution_count": 2,
     "metadata": {},
     "output_type": "execute_result"
    }
   ],
   "source": [
    "def closest_power(n):\n",
    "    lst = []\n",
    "    if n >= 2:\n",
    "        for i in range(2,n + 1):\n",
    "            for j in range(2,n + 1):\n",
    "                if i ** j < n:\n",
    "                    lst.append(i ** j)\n",
    "    elif n == 1:\n",
    "        lst = [4]\n",
    "    else:\n",
    "        lst = [4]\n",
    "    lst.sort()\n",
    "    return lst[-1]\n",
    "\n",
    "closest_power(100)\n",
    "    "
   ]
  },
  {
   "cell_type": "code",
   "execution_count": null,
   "id": "9d6acd08",
   "metadata": {},
   "outputs": [],
   "source": [
    "def closest_power(n):\n",
    "    return 4 if n < 4 else min(around_power(n), key=lambda x: (abs(n-x), x))\n",
    "\n",
    "\n",
    "def around_power(n):\n",
    "    for x in range(2, 11):\n",
    "        a = int(n**(1/x))\n",
    "        yield from (a**x, (a+1)**x)"
   ]
  },
  {
   "cell_type": "markdown",
   "id": "991e2020",
   "metadata": {},
   "source": [
    "Bu sorun adını antik tarihçi Josephus'un hayatındaki tartışmasız en önemli olaydan alır: Hikâyesine göre o ve 40 askeri bir kuşatma sırasında Romalılar tarafından bir mağarada mahsur kalmışlardır.\n",
    "Düşmana teslim olmayı reddederek, bunun yerine bir bükülme ile toplu intiharı seçtiler: bir daire oluşturdular ve son bir adam kalana kadar her üç adamdan birini öldürmeye devam ettiler (ve eylemi sona erdirmek için kendini öldürmesi gerekiyordu). ).\n",
    "\n",
    "Pekala, Josephus ve başka bir adam son ikisiydi ve artık hikayenin her detayını bildiğimize göre, orijinal fikri tam olarak takip etmediklerini doğru tahmin etmiş olabilirsiniz.\n",
    "\n",
    "Şimdi, bir daire içindeymiş gibi izin verilecek öğelerin ilk dizisini/listesini parametre olarak alarak ve hiçbiri kalmayana kadar her k yeri sayarak, bir Josephus permütasyonu döndüren bir işlev yaratacaksınız.\n",
    "\n",
    "İpuçları ve notlar: 0..n-1 normal aralığı yerine 1'den n'ye kadar saymaya başlamak yardımcı olur; k her zaman > = 1 olacaktır.\n",
    "For example, with n=7 and k=3 josephus(7,3) should act this way.\n",
    "[1,2,3,4,5,6,7] - initial sequence\n",
    "[1,2,4,5,6,7] => 3 is counted out and goes into the result [3]\n",
    "[1,2,4,5,7] => 6 is counted out and goes into the result [3,6]\n",
    "[1,4,5,7] => 2 is counted out and goes into the result [3,6,2]\n",
    "[1,4,5] => 7 is counted out and goes into the result [3,6,2,7]\n",
    "[1,4] => 5 is counted out and goes into the result [3,6,2,7,5]\n",
    "[4] => 1 is counted out and goes into the result [3,6,2,7,5,1]\n",
    "[] => 4 is counted out and goes into the result [3,6,2,7,5,1,4]\n",
    "So our final result is:\n",
    "\n",
    "josephus([1,2,3,4,5,6,7],3)==[3,6,2,7,5,1,4]"
   ]
  },
  {
   "cell_type": "code",
   "execution_count": null,
   "id": "b0d78893",
   "metadata": {},
   "outputs": [],
   "source": [
    "def josephus(n,k):\n",
    "    i, ans = 0, []\n",
    "    while n: i = (i + k - 1) % len(n); ans.append(n.pop(i))\n",
    "    return ans"
   ]
  },
  {
   "cell_type": "code",
   "execution_count": 5,
   "id": "dda480b5",
   "metadata": {},
   "outputs": [
    {
     "data": {
      "text/plain": [
       "[3, 6, 2, 7, 5, 1, 4]"
      ]
     },
     "execution_count": 5,
     "metadata": {},
     "output_type": "execute_result"
    }
   ],
   "source": [
    "def josephus(n,k):\n",
    "    i = 0\n",
    "    lst = []\n",
    "    while n:\n",
    "        i = (i + k - 1) % len(n)\n",
    "        lst.append(n.pop(i))\n",
    "    return lst\n",
    "josephus([1,2,3,4,5,6,7],3)"
   ]
  },
  {
   "cell_type": "markdown",
   "id": "bc8fa825",
   "metadata": {},
   "source": [
    "Her ünlem işaretinin ağırlığı 2'dir; her soru işaretinin ağırlığı 3'tür. Terazinin sağına ve soluna iki ip koymak - bunlar dengeli midir?\n",
    "Sol taraf daha ağırsa, \"Sol\" döndürün; sağ taraf daha ağırsa, \"Sağ\" döndürün; dengeliyse, \"Denge\" döndürün.\n",
    "Examples\n",
    "\"!!\", \"??\"     -->  \"Right\"\n",
    "\"!??\", \"?!!\"   -->  \"Left\"\n",
    "\"!?!!\", \"?!?\"  -->  \"Left\"\n",
    "\"!!???!????\", \"??!!?!!!!!!!\"  -->  \"Balance\""
   ]
  },
  {
   "cell_type": "code",
   "execution_count": 18,
   "id": "dc4775d0",
   "metadata": {},
   "outputs": [
    {
     "data": {
      "text/plain": [
       "'Left'"
      ]
     },
     "execution_count": 18,
     "metadata": {},
     "output_type": "execute_result"
    }
   ],
   "source": [
    "def balance(sol, sağ):\n",
    "    sol_toplam = 0\n",
    "    sağ_toplam = 0\n",
    "    for i in sol:\n",
    "        if i == \"!\":\n",
    "            sol_toplam += 2\n",
    "        else:\n",
    "            sol_toplam += 3\n",
    "    for j in sağ:\n",
    "        if j == \"!\":\n",
    "            sağ_toplam += 2\n",
    "        else:\n",
    "            sağ_toplam += 3\n",
    "        \n",
    "    if sol_toplam > sağ_toplam:\n",
    "        return \"Left\"\n",
    "    elif sol_toplam < sağ_toplam:\n",
    "        return \"Right\"\n",
    "    else:\n",
    "        return \"Balance\"\n",
    "    \n",
    "balance(\"!??\", \"?!!\")"
   ]
  },
  {
   "cell_type": "markdown",
   "id": "02e30eae",
   "metadata": {},
   "source": [
    "Given an array of ints, return the index such that the sum of the elements to the right of that index equals the sum of the elements to the left of that index. If there is no such index, return -1. If there is more than one such index, return the left-most index.\n",
    "\n",
    "For example:\n",
    "\n",
    "--For Haskell\n",
    "peak [1,12,3,3,6,3,1] == Just 2\n",
    "peak [10,20,30,40]  == Nothing \n",
    "The special case of an array of zeros (for instance [0,0,0,0]) will not be tested.\n",
    "\n",
    "More examples in the test cases."
   ]
  },
  {
   "cell_type": "code",
   "execution_count": 23,
   "id": "33e762f3",
   "metadata": {},
   "outputs": [
    {
     "data": {
      "text/plain": [
       "2"
      ]
     },
     "execution_count": 23,
     "metadata": {},
     "output_type": "execute_result"
    }
   ],
   "source": [
    "def peak(arr):\n",
    "    index = 0\n",
    "    for i in range(len(arr)):\n",
    "        if sum(arr[0:i]) == sum(arr[i+1::]):\n",
    "            index += i\n",
    "    if index == 0:\n",
    "        index = -1\n",
    "    return index\n",
    "\n",
    "peak([1,12,3,3,6,3,1])\n",
    "        "
   ]
  },
  {
   "cell_type": "markdown",
   "id": "0de1cade",
   "metadata": {},
   "source": [
    "Given an array of integers, find the one that appears an odd number of times.\n",
    "\n",
    "There will always be only one integer that appears an odd number of times.\n",
    "\n",
    "Examples\n",
    "[7] should return 7, because it occurs 1 time (which is odd).\n",
    "[0] should return 0, because it occurs 1 time (which is odd).\n",
    "[1,1,2] should return 2, because it occurs 1 time (which is odd).\n",
    "[0,1,0,1,0] should return 0, because it occurs 3 times (which is odd).\n",
    "[1,2,2,3,3,3,4,3,3,3,2,2,1] should return 4, because it appears 1 time (which is odd)."
   ]
  },
  {
   "cell_type": "code",
   "execution_count": 28,
   "id": "b2de503d",
   "metadata": {},
   "outputs": [
    {
     "data": {
      "text/plain": [
       "4"
      ]
     },
     "execution_count": 28,
     "metadata": {},
     "output_type": "execute_result"
    }
   ],
   "source": [
    "def find_it(seq):\n",
    "    for i in seq:\n",
    "        kont = 0\n",
    "        for j in seq:\n",
    "            if j == i:\n",
    "                kont += 1\n",
    "        if kont % 2 != 0:\n",
    "            return i\n",
    "            \n",
    "find_it([1,2,2,3,3,3,4,3,3,3,2,2,1])"
   ]
  },
  {
   "cell_type": "markdown",
   "id": "b24c9268",
   "metadata": {},
   "source": [
    "Let us consider this example (array written in general format):\n",
    "\n",
    "ls = [0, 1, 3, 6, 10]\n",
    "\n",
    "Its following parts:\n",
    "\n",
    "ls = [0, 1, 3, 6, 10]\n",
    "ls = [1, 3, 6, 10]\n",
    "ls = [3, 6, 10]\n",
    "ls = [6, 10]\n",
    "ls = [10]\n",
    "ls = []\n",
    "The corresponding sums are (put together in a list): [20, 20, 19, 16, 10, 0]\n",
    "\n",
    "The function parts_sums (or its variants in other languages) will take as parameter a list ls and return a list of the sums of its parts as defined above.\n",
    "\n",
    "Other Examples:\n",
    "ls = [1, 2, 3, 4, 5, 6] \n",
    "parts_sums(ls) -> [21, 20, 18, 15, 11, 6, 0]\n",
    "\n",
    "ls = [744125, 935, 407, 454, 430, 90, 144, 6710213, 889, 810, 2579358]\n",
    "parts_sums(ls) -> [10037855, 9293730, 9292795, 9292388, 9291934, 9291504, 9291414, 9291270, 2581057, 2580168, 2579358, 0]\n",
    "\n",
    "Notes\n",
    "Take a look at performance: some lists have thousands of elements.\n",
    "Please ask before translating."
   ]
  },
  {
   "cell_type": "code",
   "execution_count": 5,
   "id": "930de5e1",
   "metadata": {},
   "outputs": [
    {
     "name": "stdout",
     "output_type": "stream",
     "text": [
      "[10037855, 9293730, 9292795, 9292388, 9291934, 9291504, 9291414, 9291270, 2581057, 2580168, 2579358, 0]\n"
     ]
    }
   ],
   "source": [
    "def parts_sums(ls):\n",
    "    lst = [sum(ls)]\n",
    "    for i in range(len(ls)):\n",
    "        lst.append(sum(ls[i+1:]))\n",
    "    return lst\n",
    "    \n",
    "    \n",
    "    \n",
    "print(parts_sums([744125, 935, 407, 454, 430, 90, 144, 6710213, 889, 810, 2579358]))"
   ]
  },
  {
   "cell_type": "code",
   "execution_count": null,
   "id": "42e6dbbf",
   "metadata": {},
   "outputs": [],
   "source": [
    "def parts_sums(ls):\n",
    "    L=[sum(ls)]\n",
    "    for i in range(len(ls)):\n",
    "        L.append(L[i]-ls[i])\n",
    "    return L"
   ]
  },
  {
   "cell_type": "markdown",
   "id": "5892968d",
   "metadata": {},
   "source": [
    "Verilen bir sayı için çarpanlar üreten bir fonksiyon yazın.\n",
    "\n",
    "İşlev, standart girdide bir tamsayı alır ve bir tamsayı listesi döndürür (ObjC: tamsayıları temsil eden NSNumbers dizisi). Bu liste, sayısal dizideki asal faktörleri içerir.\n",
    "1  ==>  []\n",
    "3  ==>  [3]\n",
    "8  ==>  [2, 2, 2]\n",
    "9  ==>  [3, 3]\n",
    "12 ==>  [2, 2, 3]\n",
    "\n"
   ]
  },
  {
   "cell_type": "code",
   "execution_count": 13,
   "id": "9fb5de0b",
   "metadata": {},
   "outputs": [
    {
     "data": {
      "text/plain": [
       "[2, 2, 5, 5]"
      ]
     },
     "execution_count": 13,
     "metadata": {},
     "output_type": "execute_result"
    }
   ],
   "source": [
    "def prime_factors (n):\n",
    "    asal = []\n",
    "    for i in range(2,n+1):\n",
    "        sayac = 0\n",
    "        for j in range(2, i):\n",
    "            if i % j == 0:\n",
    "                sayac += 1\n",
    "        if sayac == 0:\n",
    "            asal.append(i)\n",
    "            \n",
    "    asal_çarpan = []\n",
    "    while n != 1:\n",
    "        for i in asal:\n",
    "            if n % i == 0:\n",
    "                asal_çarpan.append(i)\n",
    "                n = n // i\n",
    "                break\n",
    "    return asal_çarpan\n",
    "prime_factors(100)"
   ]
  },
  {
   "cell_type": "markdown",
   "id": "ddd6535f",
   "metadata": {},
   "source": [
    "Union of closed disjoint intervals\n",
    "Write a function interval_insert which takes as input\n",
    "\n",
    "a list myl of disjoint closed intervals with integer endpoints, sorted by increasing order of left endpoints\n",
    "an interval interval\n",
    "and returns the union of interval with the intervals in myl, as an array of disjoint closed intervals.\n",
    "\n",
    "Terminology\n",
    "A closed interval includes its endpoints. For example [0,5] means greater than or equal to 0 and less than or equal to 5. For more, refer to Wikipedia.\n",
    "\n",
    "Two intervals are said to be disjoint if they have no element in common. Equivalently, disjoint intervals are intervals whose intersection is the empty interval. For example,\n",
    "[1,3] and [4,6] are disjoint\n",
    "[1,3] and [3,5] are not."
   ]
  },
  {
   "cell_type": "code",
   "execution_count": null,
   "id": "0981e6bf",
   "metadata": {},
   "outputs": [],
   "source": []
  },
  {
   "cell_type": "code",
   "execution_count": null,
   "id": "09f82afb",
   "metadata": {},
   "outputs": [],
   "source": [
    "Get the next prime number!\n",
    "\n",
    "You will get a numbern (>= 0) and your task is to find the next prime number.\n",
    "\n",
    "Make sure to optimize your code: there will numbers tested up to about 10^12.\n",
    "\n",
    "Examples\n",
    "5   =>  7\n",
    "12  =>  13"
   ]
  },
  {
   "cell_type": "code",
   "execution_count": 16,
   "id": "f78c7f9f",
   "metadata": {},
   "outputs": [
    {
     "data": {
      "text/plain": [
       "7"
      ]
     },
     "execution_count": 16,
     "metadata": {},
     "output_type": "execute_result"
    }
   ],
   "source": [
    "def is_prime(num):\n",
    "    if num < 2:\n",
    "        return False\n",
    "    for i in range(2, int(num**0.5)+1):\n",
    "        if num % i == 0:\n",
    "            return False\n",
    "    return True\n",
    "\n",
    "\n",
    "def next_prime(n):\n",
    "    n += 1\n",
    "    while not is_prime(n):\n",
    "        n += 1\n",
    "    return n\n",
    "\n",
    "next_prime(5)"
   ]
  },
  {
   "cell_type": "markdown",
   "id": "4be52756",
   "metadata": {},
   "source": [
    "You certainly can tell which is the larger number between 210 and 215.\n",
    "\n",
    "But what about, say, 210 and 310? You know this one too.\n",
    "Things tend to get a bit more complicated with both different bases and exponents: which is larger between 39 and 56?\n",
    "Şimdiye kadar, güçleri karşılaştırmak için bir fonksiyon oluşturmanız gerektiğini tahmin etmişsinizdir, ilk üye daha büyükse -1, eşitse 0, aksi takdirde 1 döndürür; karşılaştırma yetkisi verilecektir.\n",
    "\n",
    "compare_powers([2,10],[2,15])==1\n",
    "compare_powers([2,10],[3,10])==1\n",
    "compare_powers([2,10],[2,10])==0\n",
    "compare_powers([3,9],[5,6])==-1\n",
    "compare_powers([7,7],[5,8])==-1\n",
    "\n",
    "\n",
    "Daha büyük sayılar da dahil olmak üzere yalnızca pozitif tamsayılar test edilecektir - şimdi uyarıldınız, bu nedenle CW kaynaklarını çok fazla tüketmemek için verimli bir çözüm uygulamaya çalışın;)!\n"
   ]
  },
  {
   "cell_type": "code",
   "execution_count": 28,
   "id": "ea6328be",
   "metadata": {},
   "outputs": [
    {
     "data": {
      "text/plain": [
       "-1"
      ]
     },
     "execution_count": 28,
     "metadata": {},
     "output_type": "execute_result"
    }
   ],
   "source": [
    "def compare_powers(n1,n2):\n",
    "    if n1[0] ** n1[1] > n2[0] ** n2[1]:\n",
    "        return -1\n",
    "    elif n1[0] ** n1[1] < n2[0] ** n2[1]:\n",
    "        return 1\n",
    "    else:\n",
    "        return 0\n",
    "    \n",
    "compare_powers([7,7],[5,8])"
   ]
  },
  {
   "cell_type": "code",
   "execution_count": 30,
   "id": "79bb9c9a",
   "metadata": {},
   "outputs": [
    {
     "data": {
      "text/plain": [
       "-1"
      ]
     },
     "execution_count": 30,
     "metadata": {},
     "output_type": "execute_result"
    }
   ],
   "source": [
    "from math import log\n",
    "\n",
    "def compare(x, y):\n",
    "    if x == y:\n",
    "        return 0\n",
    "    if x < y:\n",
    "        return 1\n",
    "    if x > y:\n",
    "        return -1\n",
    "        \n",
    "def compare_powers(x, y):\n",
    "    a, c = x\n",
    "    b, d = y\n",
    "    x = (c * log(a)) / log(2)\n",
    "    y = (d * log(b)) / log(2)\n",
    "    return compare(x, y)\n",
    "\n",
    "compare_powers([7,7],[5,8])"
   ]
  },
  {
   "cell_type": "code",
   "execution_count": null,
   "id": "c9ea9f5c",
   "metadata": {},
   "outputs": [],
   "source": [
    "Your granny, who lives in town X0, has friends. These friends are given in an array, for example: array of friends is [\"A1\", \"A2\", \"A3\", \"A4\", \"A5\"].\n",
    "Bu dizideki arkadaşların sırası, ziyaret edilecekleri sırayı verdiği için değiştirilmemelidir.\n",
    "Friends inhabit towns and you get an array with friends and their towns (or an associative array), for example:[[\"A1\", \"X1\"], [\"A2\", \"X2\"], [\"A3\", \"X3\"], [\"A4\", \"X4\"]]\n",
    "yani A1, X1 kasabasında, A2 X2 kasabasında... Arkadaşlardan birinin kasabasını bilmediğimiz için ziyaret edilmeyecek.\n",
    "Büyükanneniz arkadaşlarını ziyaret etmek ve yaklaşık olarak kaç mil seyahat etmesini bilmek istiyor.\n",
    "Arkadaşlarını ziyaret etmesine izin veren devreyi yapacaksın.\n",
    "Örneğin burada devre: X0, X1, X2, X3, X4, X0 olacak ve yaklaşık olarak X0X1 + X1X2 + .. + X4X0 toplam mesafesini hesaplayacaksınız.\n"
   ]
  },
  {
   "cell_type": "markdown",
   "id": "712be6be",
   "metadata": {},
   "source": [
    "The two oldest ages function/method needs to be completed. It should take an array of numbers as its argument and return the two highest numbers within the array. The returned value should be an array in the format [second oldest age, oldest age].\n",
    "\n",
    "The order of the numbers passed in could be any order. The array will always include at least 2 items. If there are two or more oldest age, then return both of them in array format.\n",
    "\n",
    "For example:\n",
    "\n",
    "two_oldest_ages([1, 3, 10, 0]) # should return [3, 10]"
   ]
  },
  {
   "cell_type": "code",
   "execution_count": 20,
   "id": "9884016c",
   "metadata": {},
   "outputs": [
    {
     "name": "stdout",
     "output_type": "stream",
     "text": [
      "[18, 83]\n"
     ]
    }
   ],
   "source": [
    "def two_oldest_ages(ages) :\n",
    "    liste = []\n",
    "    for i in ages:\n",
    "        liste.append(i)\n",
    "    liste.sort()\n",
    "    return [liste[-2], liste[-1]]\n",
    "print(two_oldest_ages([6, 5, 83, 5, 3, 18]))"
   ]
  },
  {
   "cell_type": "code",
   "execution_count": 28,
   "id": "efa7e2a9",
   "metadata": {},
   "outputs": [
    {
     "name": "stdout",
     "output_type": "stream",
     "text": [
      "{'a': 1}\n"
     ]
    }
   ],
   "source": [
    "def işlem(**a):\n",
    "    return a\n",
    "    \n",
    "print(işlem(a = 1))"
   ]
  },
  {
   "cell_type": "code",
   "execution_count": 32,
   "id": "5df702e9",
   "metadata": {},
   "outputs": [
    {
     "name": "stdout",
     "output_type": "stream",
     "text": [
      "5\n",
      "5\n"
     ]
    }
   ],
   "source": [
    "a = 10\n",
    "\n",
    "def fonk():\n",
    "    global a \n",
    "    a = 5\n",
    "    print(a)\n",
    "    \n",
    "fonk()\n",
    "print(a)"
   ]
  },
  {
   "cell_type": "markdown",
   "id": "b07a100f",
   "metadata": {},
   "source": [
    "Not: Bu kata, GCJ 2010'un \"Mağaza kredisi\", gerçek girişi de ayrıştırmak zorundadır. Eğer bu katayı çözdüysen, onu da dene. GCJ'nin sürümünün her zaman bir çözümü olduğunu, ancak bu katanın olmayabilir.\n",
    "\n",
    "Hikaye\n",
    "Yerel mağazanız için bir hediye kartınız var. Bir şeyler satın almak için kullanabileceğiniz bazı kredileri vardır, ancak yalnızca en fazla iki öğe için kullanılabilir ve kullanmadığınız tüm krediler kaybolur. Bir arkadaşın ve kendin için bir şey istiyorsun. Bu nedenle, tüm hediye kartı değerini ekleyen iki ürün satın almak istiyorsunuz.\n",
    "\n",
    "Görev\n",
    "Hediye kartının değerini ve öğe değerlerinin sınırlı bir listesini alırsınız. 'ye ekleyen değerlere karşılık gelen bir dizin çifti döndürmelisiniz:cc\n",
    "\n",
    "buy(2,[1,1])       = [0,1]\n",
    "buy(3,[1,1])       = None\n",
    "buy(5,[5,2,3,4,5]) = [1,2]\n",
    "Endeksler ' den başlar. İlk dizin her zaman ikinci dizinden daha küçük olmalıdır. Birden çok çözüm varsa, minimum (sözcükbilimsel olarak) döndürün:0\n",
    "\n",
    "buy(5,[1,2,3,4,5]) = [0,3] # the values at [1,2] also adds up to five, but [0,3] < [1,2]"
   ]
  },
  {
   "cell_type": "code",
   "execution_count": 37,
   "id": "84710f3f",
   "metadata": {},
   "outputs": [
    {
     "data": {
      "text/plain": [
       "[1, 2]"
      ]
     },
     "execution_count": 37,
     "metadata": {},
     "output_type": "execute_result"
    }
   ],
   "source": [
    "def buy(x,arr):\n",
    "    for i in range(len(arr)):\n",
    "        for j in range(i+1,len(arr)):\n",
    "            if arr[i] + arr[j] == x:\n",
    "                return [i,j]\n",
    "buy(5,[5,2,3,4,5])"
   ]
  },
  {
   "cell_type": "markdown",
   "id": "7e3e457b",
   "metadata": {},
   "source": [
    "Given an input of an array of digits, return the array with each digit incremented by its position in the array: the first digit will be incremented by 1, the second digit by 2, etc. Make sure to start counting your positions from 1 (and not 0).\n",
    "\n",
    "Your result can only contain single digit numbers, so if adding a digit with it's position gives you a multiple-digit number, only the last digit of the number should be returned.\n",
    "\n",
    "Notes:\n",
    "return an empty array if your array is empty\n",
    "arrays will only contain numbers so don't worry about checking that\n",
    "Examples\n",
    "[1, 2, 3]  -->  [2, 4, 6]   #  [1+1, 2+2, 3+3]\n",
    "\n",
    "[4, 6, 9, 1, 3]  -->  [5, 8, 2, 5, 8]  #  [4+1, 6+2, 9+3, 1+4, 3+5]\n",
    "                                       #  9+3 = 12  -->  2"
   ]
  },
  {
   "cell_type": "code",
   "execution_count": 8,
   "id": "2956e651",
   "metadata": {},
   "outputs": [
    {
     "data": {
      "text/plain": [
       "[2, 4, 6, 8, 0, 2, 4, 6, 8, 9, 0, 1, 2, 2]"
      ]
     },
     "execution_count": 8,
     "metadata": {},
     "output_type": "execute_result"
    }
   ],
   "source": [
    "def array(n):\n",
    "    lst = []\n",
    "    m = 1\n",
    "    \n",
    "    for i in n:\n",
    "        if i + m >= 10:\n",
    "            lst.append((i + m) % 10)\n",
    "        else:\n",
    "            lst.append(i + m)\n",
    "        m += 1\n",
    "    return lst\n",
    "\n",
    "array([1, 2, 3, 4, 5, 6, 7, 8, 9, 9, 9, 9, 9, 8])"
   ]
  },
  {
   "cell_type": "markdown",
   "id": "47e8cc06",
   "metadata": {},
   "source": [
    "Pair of gloves\n",
    "Winter is coming, you must prepare your ski holidays. The objective of this kata is to determine the number of pair of gloves you can constitute from the gloves you have in your drawer.\n",
    "\n",
    "A pair of gloves is constituted of two gloves of the same color.\n",
    "\n",
    "You are given an array containing the color of each glove.\n",
    "\n",
    "You must return the number of pair you can constitute.\n",
    "\n",
    "You must not change the input array.\n",
    "\n",
    "Examples :\n",
    "\n",
    "my_gloves = [\"red\",\"green\",\"red\",\"blue\",\"blue\"]\n",
    "number_of_pairs(my_gloves) == 2; # red and blue\n",
    "\n",
    "red_gloves = [\"red\",\"red\",\"red\",\"red\",\"red\",\"red\"];\n",
    "number_of_pairs(red_gloves) == 3; # 3 red pairs"
   ]
  },
  {
   "cell_type": "code",
   "execution_count": 28,
   "id": "078f1c68",
   "metadata": {
    "scrolled": true
   },
   "outputs": [
    {
     "data": {
      "text/plain": [
       "3"
      ]
     },
     "execution_count": 28,
     "metadata": {},
     "output_type": "execute_result"
    }
   ],
   "source": [
    "def number_of_pairs(gloves):\n",
    "    lst = []\n",
    "    glo_set = set(gloves)\n",
    "    for i in glo_set:\n",
    "        lst.append(gloves.count(i) // 2)\n",
    "    return sum(lst)\n",
    "                \n",
    "                \n",
    "\n",
    "number_of_pairs([\"red\",\"red\",\"red\",\"red\",\"red\",\"red\"])"
   ]
  },
  {
   "cell_type": "markdown",
   "id": "815dbb0c",
   "metadata": {},
   "source": [
    "\n",
    "Bu örnekte, bir kullanıcı giriş dizesinin alfanümerik olup olmadığını doğrulamanız gerekir.Verilen dize nil / null / NULL / None değildir, bu nedenle bunu kontrol etmeniz gerekmez.\n",
    "\n",
    "Dize, alfasayısal olması için aşağıdaki koşullara sahiptir:\n",
    "\n",
    "En az bir karakter (\"\" geçerli değil)\n",
    "İzin verilen karakterler büyük/küçük latin harfleri ve 0 ile 9 arasındaki rakamlardır.\n",
    "Boşluk / alt çizgi yok"
   ]
  },
  {
   "cell_type": "code",
   "execution_count": 6,
   "id": "d0fb98fb",
   "metadata": {},
   "outputs": [
    {
     "data": {
      "text/plain": [
       "False"
      ]
     },
     "execution_count": 6,
     "metadata": {},
     "output_type": "execute_result"
    }
   ],
   "source": [
    "def alphanumeric(password):\n",
    "    return password.isalnum()\n",
    "\n",
    "alphanumeric(\"mustafa_\")"
   ]
  },
  {
   "cell_type": "markdown",
   "id": "7a2e974e",
   "metadata": {},
   "source": [
    "Açgözlülük beş altı yüzlü zarla oynanan bir zar oyunudur.Kabul etmeyi seçerseniz göreviniz bu kurallara göre bir atış yapmaktır.Size her zaman beş altı yüzlü zar değerlerine sahip bir dizi verilecektir.\n",
    "Three 1's => 1000 points\n",
    " Three 6's =>  600 points\n",
    " Three 5's =>  500 points\n",
    " Three 4's =>  400 points\n",
    " Three 3's =>  300 points\n",
    " Three 2's =>  200 points\n",
    " One   1   =>  100 points\n",
    " One   5   =>   50 point\n",
    "    \n",
    "Tek bir zar, her atışta yalnızca bir kez sayılabilir.Örneğin, belirli bir \"5\", yalnızca üçlünün bir parçası (500 puana katkıda bulunur) veya tek bir 50 puan olarak sayılabilir, ancak her ikisi de aynı ruloda sayılmaz.\n",
    "Example scoring\n",
    "\n",
    " Throw       Score\n",
    " ---------   ------------------\n",
    " 5 1 3 4 1   250:  50 (for the 5) + 2 * 100 (for the 1s)\n",
    " 1 1 1 3 1   1100: 1000 (for three 1s) + 100 (for the other 1)\n",
    " 2 4 4 5 4   450:  400 (for three 4s) + 50 (for the 5)\n",
    "    \n",
    "\n",
    "Bazı dillerde işlevin girişini değiştirmek mümkündür.Bu asla yapmamanız gereken bir şeydir.Girişi değiştirirseniz tüm testleri geçemezsiniz."
   ]
  },
  {
   "cell_type": "code",
   "execution_count": 28,
   "id": "0ba159c4",
   "metadata": {},
   "outputs": [
    {
     "data": {
      "text/plain": [
       "400"
      ]
     },
     "execution_count": 28,
     "metadata": {},
     "output_type": "execute_result"
    }
   ],
   "source": [
    "def score(dice):\n",
    "    score = 0\n",
    "    set_dice = set(dice)\n",
    "    \n",
    "    \n",
    "    for i in set_dice:\n",
    "        if i == 1:\n",
    "            if dice.count(1) >= 3 or 0 < dice.count(1) < 3:\n",
    "                score += 1000 * (dice.count(1) //3 ) + 100 * (dice.count(1) % 3)\n",
    "        elif i == 2:\n",
    "            if dice.count(2) >= 3:\n",
    "                score += 200 * (dice.count(2) //3 )\n",
    "        elif i == 3:\n",
    "            if dice.count(3) >= 3:\n",
    "                score += 300 * (dice.count(3) //3 )\n",
    "        elif i == 4:\n",
    "            if dice.count(4) >= 3:\n",
    "                score += 400 * (dice.count(4) //3 )\n",
    "        elif i == 5:\n",
    "            if dice.count(5) >= 3 or 0 < dice.count(5) < 3:\n",
    "                score += 500 * (dice.count(5) //3 ) + 50 * (dice.count(5) % 3)\n",
    "        elif i == 6:\n",
    "            if dice.count(6) >= 3:\n",
    "                score += 600 * (dice.count(6) // 3)\n",
    "        \n",
    "    return score\n",
    "\n",
    "score([4, 4, 4, 3, 3])"
   ]
  },
  {
   "cell_type": "markdown",
   "id": "1029050b",
   "metadata": {},
   "source": [
    "\n",
    "John, üç çalışanına, söz konusu dönem boyunca devamsızlık günlerini mümkün olduğunca adil bir şekilde dikkate alarak toplam 851 $ ikramiye vermek istiyor.Çalışan A 18 gün, B 15 gün ve C 12 gün yoktu.\n",
    "The more absences, the lower the bonus ...\n",
    "\n",
    "John, 230 * 18 = 276 * 15 = 345 * 12 ve 230 + 276 + 345 = 851 olduğundan, A'nın 230 $, B $ 276, C $ 345 alması gerektiğini düşünüyor.\n",
    "Task:\n",
    "Given an array arr (numbers of days of absence for each employee) and a number s (total bonus) the function bonus(arr, s) will follow John's way and return an array of the fair bonuses of all employees in the same order as their numbers of days of absences.\n",
    "\n",
    "s and all elements of arr are positive integers.\n",
    "Examples:\n",
    "bonus([18, 15, 12], 851) -> [230, 276, 345]\n",
    "\n",
    "bonus([30, 27, 8, 14, 7], 34067) -> [2772, 3080, 10395, 5940, 11880]\n",
    "\n",
    "\n",
    "notlar\n",
    "Daha fazla örnek için Örnek Test Durumlarına bakın.\n",
    "Lütfen çevirmeden önce sorunuz.\n",
    "Bazı testlerde arr öğelerinin sayısı büyük olabilir."
   ]
  },
  {
   "cell_type": "code",
   "execution_count": 39,
   "id": "6d699577",
   "metadata": {},
   "outputs": [],
   "source": [
    "def bonus(arr, s):\n",
    "    s=s/(sum(1/n for n in arr))\n",
    "    return [round(s/n) for n in arr]\n",
    "\n"
   ]
  },
  {
   "cell_type": "markdown",
   "id": "4a8709f6",
   "metadata": {},
   "source": [
    "Task\n",
    "The hamming distance between a pair of numbers is the number of binary bits that differ in their binary notation.\n",
    "\n",
    "Example\n",
    "For a = 25, b= 87, the result should be 4\n",
    "\n",
    "25: 00011001\n",
    "87: 01010111\n",
    "The hamming distance between these two would be 4 ( the 2nd, 5th, 6th, 7th bit ).\n",
    "\n",
    "Input/Output\n",
    "[input] integer a\n",
    "First Number. 1 <= a <= 2^20\n",
    "\n",
    "[input] integer b\n",
    "Second Number. 1 <= b <= 2^20\n",
    "\n",
    "[output] an integer\n",
    "Hamming Distance"
   ]
  },
  {
   "cell_type": "code",
   "execution_count": 28,
   "id": "3b54780b",
   "metadata": {},
   "outputs": [
    {
     "data": {
      "text/plain": [
       "4"
      ]
     },
     "execution_count": 28,
     "metadata": {},
     "output_type": "execute_result"
    }
   ],
   "source": [
    "def hamming_distance(a, b):\n",
    "    a = list(reversed(bin(a).lstrip(\"0b\")))\n",
    "    b = list(reversed(bin(b).lstrip(\"0b\")))\n",
    "    kontrol = 0\n",
    "    \n",
    "    if len(a) > len(b):\n",
    "        for i in range(len(a) - len(b)):\n",
    "            b.append(\"0\")\n",
    "    elif len(b) > len(a):\n",
    "        for i in range(len(b) - len(a)):\n",
    "            a.append(\"0\")\n",
    "    else:\n",
    "        pass\n",
    "    \n",
    "    for i in range(len(a)):\n",
    "        if a[i] != b[i]:\n",
    "            kontrol += 1\n",
    "    return kontrol\n",
    "\n",
    "hamming_distance(25,87)\n",
    "    \n",
    "    \n",
    "    \n",
    "    \n",
    "    \n",
    "    \n",
    "    "
   ]
  },
  {
   "cell_type": "markdown",
   "id": "964d9922",
   "metadata": {},
   "source": [
    "The Hamming Distance is a measure of similarity between two strings of equal length. Complete the function so that it returns the number of positions where the input strings do not match.\n",
    "\n",
    "Examples (in JavaScript):\n",
    "\n",
    "hamming(\"I like turtles\",\"I like turkeys\")  //returns 3\n",
    "hamming(\"Hello World\",\"Hello World\")  //returns 0\n",
    "You can assume that the two input strings are of equal length."
   ]
  },
  {
   "cell_type": "code",
   "execution_count": 6,
   "id": "2868ae15",
   "metadata": {},
   "outputs": [],
   "source": [
    "def hamming(a,b):\n",
    "    a = list(a)\n",
    "    b = list(b)\n",
    "    kontrol = 0\n",
    "    \n",
    "    for i in range(len(a)):\n",
    "        if a[i] != b[i]:\n",
    "            kontrol += 1\n",
    "            \n",
    "    return kontrol\n",
    "\n",
    "hamming()"
   ]
  },
  {
   "cell_type": "markdown",
   "id": "0a42bbcd",
   "metadata": {},
   "source": [
    "A spoonerism is a spoken phrase in which the first letters of two of the words are swapped around, often with amusing results.\n",
    "\n",
    "In its most basic form a spoonerism is a two word phrase in which only the first letters of each word are swapped:\n",
    "\n",
    "\"not picking\" --> \"pot nicking\"\n",
    "\n",
    "Your task is to create a function that takes a string of two words, separated by a space: words and returns a spoonerism of those words in a string, as in the above example.\n",
    "\n",
    "NOTE: All input strings will contain only two words. Spoonerisms can be more complex. For example, three-word phrases in which the first letters of the first and last words are swapped: \"pack of lies\" --> \"lack of pies\" or more than one letter from a word is swapped: \"flat battery --> \"bat flattery\" You are NOT expected to account for these, or any other nuances involved in spoonerisms."
   ]
  },
  {
   "cell_type": "code",
   "execution_count": 38,
   "id": "cbbdd939",
   "metadata": {},
   "outputs": [
    {
     "name": "stdout",
     "output_type": "stream",
     "text": [
      "austafa mltaş\n"
     ]
    }
   ],
   "source": [
    "def spoonerize(words):\n",
    "    words = words.split()\n",
    "    \n",
    "    a = words[0][0]\n",
    "    b = words[1][0]\n",
    "    \n",
    "    str_ = \"\"\n",
    "    \n",
    "    for i in range(len(words)):\n",
    "        for j in range(len(words[i])):\n",
    "            if i == 0 and j == 0:\n",
    "                str_ += b\n",
    "            elif i == 1 and j == 0:\n",
    "                str_ += a\n",
    "            else:\n",
    "                str_ += words[i][j]\n",
    "        if i != len(words) - 1:\n",
    "            str_ += \" \"\n",
    "        else:\n",
    "            pass\n",
    "            \n",
    "\n",
    "                \n",
    "    return str_\n",
    "    \n",
    "    \n",
    "print(spoonerize(\"mustafa altaş\"))"
   ]
  },
  {
   "cell_type": "code",
   "execution_count": null,
   "id": "c45bfb00",
   "metadata": {},
   "outputs": [],
   "source": []
  }
 ],
 "metadata": {
  "kernelspec": {
   "display_name": "Python 3",
   "language": "python",
   "name": "python3"
  },
  "language_info": {
   "codemirror_mode": {
    "name": "ipython",
    "version": 3
   },
   "file_extension": ".py",
   "mimetype": "text/x-python",
   "name": "python",
   "nbconvert_exporter": "python",
   "pygments_lexer": "ipython3",
   "version": "3.8.8"
  }
 },
 "nbformat": 4,
 "nbformat_minor": 5
}
