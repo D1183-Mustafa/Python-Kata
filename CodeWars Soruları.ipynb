{
 "cells": [
  {
   "cell_type": "markdown",
   "id": "f472e18c",
   "metadata": {},
   "source": [
    "Amerikalılar tuhaf insanlar: binalarında birinci kat aslında zemin kat ve 13. kat yok (batıl inançtan dolayı).\n",
    "\n",
    "Amerikan sisteminde bir kat verilen Avrupa sisteminde katını döndüren bir fonksiyon yazın.\n",
    "\n",
    "1. katın zemin katın yerini alması ve 13. katın kaldırılmasıyla birlikte rakamlar aşağıya doğru inerek yerlerini alıyor. 13'ün üzerinde olması durumunda, ikişer aşağı hareket ederler çünkü altlarında atlanmış iki sayı vardır.\n",
    "\n",
    "Bodrumlar (negatifler) evrensel seviye ile aynı kalır.\n",
    "1  =>  0 \n",
    "0  =>  0\n",
    "5  =>  4\n",
    "15  =>  13"
   ]
  },
  {
   "cell_type": "code",
   "execution_count": 5,
   "id": "afd58e39",
   "metadata": {},
   "outputs": [
    {
     "data": {
      "text/plain": [
       "-1"
      ]
     },
     "execution_count": 5,
     "metadata": {},
     "output_type": "execute_result"
    }
   ],
   "source": [
    "def get_real_floor(n):\n",
    "    if n <= 0:\n",
    "        return n\n",
    "    elif n > 0 and n < 13:\n",
    "        return n - 1\n",
    "    elif n > 13:\n",
    "        return n - 2\n",
    "    \n",
    "get_real_floor(-1)"
   ]
  },
  {
   "cell_type": "markdown",
   "id": "f56bec70",
   "metadata": {},
   "source": [
    "Bir sayı verildiğinde, ters rakamlarını çıkaracak bir fonksiyon yazın. (ör. 123 verildiğinde cevap 321'dir)\n",
    "\n",
    "Sayılar işaretlerini korumalıdır; yani negatif bir sayı, tersine çevrildiğinde yine de negatif olmalıdır.\n",
    " 123 ->  321\n",
    "-456 -> -654\n",
    "1000 ->    1"
   ]
  },
  {
   "cell_type": "code",
   "execution_count": 45,
   "id": "ac918d34",
   "metadata": {},
   "outputs": [
    {
     "name": "stdout",
     "output_type": "stream",
     "text": [
      "321"
     ]
    }
   ],
   "source": [
    "def reverseNumber(n):\n",
    "    if n >= 0:\n",
    "        return int(str(n)[::-1])\n",
    "    else:\n",
    "        return int(str(n).strip('-')[::-1])*-1\n",
    "\n",
    "reverse_number(123)"
   ]
  },
  {
   "cell_type": "markdown",
   "id": "f433ca09",
   "metadata": {},
   "source": [
    "Bir lisenin tuhaf bir müdürü vardır. İlk gün öğrencilerine tuhaf bir açılış töreni yaptırır:\n",
    "\n",
    "Okulda kilitli dolap sayısı \"n\" ve öğrenci sayısı \"n\" bulunmaktadır. Müdür, ilk öğrenciden her dolaba gitmesini ve açmasını ister. Sonra ikinci öğrenciye her ikinci dolaba gitmesini ve kapatmasını sağlar. Üçüncüsü her üç dolaba gider ve kapalıysa açar, açıksa kapatır. Dördüncü öğrenci bunu her dört dolaba bir yapar ve bu böyle devam eder. \"n\" numaralı öğrenci ile işlem tamamlandıktan sonra kaç tane dolap açık olur?\n",
    "\n",
    "Görev, herhangi bir sayıyı girdi olarak alan ve sonuncusu etkinliğini tamamladıktan sonra açık dolapların sayısını döndüren bir fonksiyon yazmaktır. Yani fonksiyonun girişi, dolap sayısını ve öğrenci sayısını gösteren sadece bir sayıdır. Örneğin, okulda 1000 dolap ve 1000 öğrenci varsa, giriş 1000'dir ve işlev, 1000. öğrenci işlemini tamamladıktan sonra açık dolap sayısını döndürür.\n",
    "\n",
    "Verilen girdi her zaman sıfırdan büyük veya sıfıra eşit bir tamsayıdır, bu nedenle doğrulamaya gerek yoktur.\n"
   ]
  },
  {
   "cell_type": "code",
   "execution_count": 59,
   "id": "0b6978d9",
   "metadata": {},
   "outputs": [
    {
     "name": "stdout",
     "output_type": "stream",
     "text": [
      "0 -> [True, True, True, True, True, True, True, True, True, True]\n",
      "1 -> [True, False, True, False, True, False, True, False, True, False]\n",
      "2 -> [True, False, False, False, True, True, True, False, False, False]\n",
      "3 -> [True, False, False, True, True, True, True, True, False, False]\n",
      "4 -> [True, False, False, True, False, True, True, True, False, True]\n",
      "5 -> [True, False, False, True, False, False, True, True, False, True]\n",
      "6 -> [True, False, False, True, False, False, False, True, False, True]\n",
      "7 -> [True, False, False, True, False, False, False, False, False, True]\n",
      "8 -> [True, False, False, True, False, False, False, False, True, True]\n",
      "9 -> [True, False, False, True, False, False, False, False, True, False]\n"
     ]
    },
    {
     "data": {
      "text/plain": [
       "3"
      ]
     },
     "execution_count": 59,
     "metadata": {},
     "output_type": "execute_result"
    }
   ],
   "source": [
    "def num_of_open_lockers_(n):\n",
    "    lockers = [False] * n\n",
    "    for i in range(n):\n",
    "        for j in range(i, n, i + 1):\n",
    "            lockers[j] = not lockers[j]\n",
    "        print(f\"{i} -> {lockers}\")\n",
    "    return sum(lockers)\n",
    "\n",
    "num_of_open_lockers_(10)"
   ]
  },
  {
   "cell_type": "code",
   "execution_count": 61,
   "id": "adf129bc",
   "metadata": {},
   "outputs": [
    {
     "data": {
      "text/plain": [
       "100"
      ]
     },
     "execution_count": 61,
     "metadata": {},
     "output_type": "execute_result"
    }
   ],
   "source": [
    "def num_of_open_lockers(n):\n",
    "    return int(n**.5)\n",
    "\n",
    "num_of_open_lockers(10000)"
   ]
  },
  {
   "cell_type": "markdown",
   "id": "c823d735",
   "metadata": {},
   "source": [
    "Write a function that returns only the decimal part of the given number.\n",
    "\n",
    "You only have to handle valid numbers, not Infinity, NaN, or similar. Always return a positive decimal part.\n",
    "\n",
    "Examples\n",
    "get_decimal(2.4)  # 0.4\n",
    "get_decimal(-0.2) # 0.2"
   ]
  },
  {
   "cell_type": "code",
   "execution_count": 84,
   "id": "20caeeef",
   "metadata": {},
   "outputs": [
    {
     "data": {
      "text/plain": [
       "0.54"
      ]
     },
     "execution_count": 84,
     "metadata": {},
     "output_type": "execute_result"
    }
   ],
   "source": [
    "def get_demical(n):\n",
    "    n = abs(n)\n",
    "    n = str(n)\n",
    "    m = n.index(\".\")\n",
    "    k = str(n)[m:]\n",
    "    j = (\"0\" + k)\n",
    "    return float(j)\n",
    "\n",
    "get_demical(-21.54)"
   ]
  },
  {
   "cell_type": "code",
   "execution_count": 86,
   "id": "14efdead",
   "metadata": {},
   "outputs": [
    {
     "data": {
      "text/plain": [
       "0.3100000000000005"
      ]
     },
     "execution_count": 86,
     "metadata": {},
     "output_type": "execute_result"
    }
   ],
   "source": [
    "def get_decimal(n): \n",
    "    n = abs(n)\n",
    "    return n - int(n)\n",
    "\n",
    "get_decimal(12.31)"
   ]
  },
  {
   "cell_type": "markdown",
   "id": "e47b61b9",
   "metadata": {},
   "source": [
    "Tanım\n",
    "Rakamlar yalnızca 0, 1, 2, 3, 4 veya 5'ten oluşuyorsa bir sayı Özel Sayıdır.\n",
    "\n",
    "Verilen bir sayının özel sayı olup olmadığını belirleyiniz."
   ]
  },
  {
   "cell_type": "code",
   "execution_count": 36,
   "id": "36be89dd",
   "metadata": {},
   "outputs": [
    {
     "data": {
      "text/plain": [
       "'NOT!!'"
      ]
     },
     "execution_count": 36,
     "metadata": {},
     "output_type": "execute_result"
    }
   ],
   "source": [
    "def special_number(number):\n",
    "    a = list(range(0,6))\n",
    "    sayac = 0\n",
    "    for i in str(number):\n",
    "        if int(i) not in a:\n",
    "            sayac += 1\n",
    "    \n",
    "    if sayac == 0:\n",
    "        return \"Special!!\"\n",
    "    else:\n",
    "        return \"NOT!!\"\n",
    "    \n",
    "special_number(12346)"
   ]
  },
  {
   "cell_type": "markdown",
   "id": "66710793",
   "metadata": {},
   "source": [
    "Kenarları a ve b olan bir dikdörtgende, alt köşeleri dikdörtgenin üst kenarının orta noktası ve merkeziyle birleştirilerek bir ok oluşturulur.\n"
   ]
  },
  {
   "cell_type": "code",
   "execution_count": 43,
   "id": "f625de94",
   "metadata": {},
   "outputs": [
    {
     "data": {
      "text/plain": [
       "10.5"
      ]
     },
     "execution_count": 43,
     "metadata": {},
     "output_type": "execute_result"
    }
   ],
   "source": [
    "def arrow_area(a, b):\n",
    "    n = (a * b) / 2\n",
    "    m = n / 2\n",
    "    return m\n",
    "arrow_area(7,6)"
   ]
  },
  {
   "cell_type": "markdown",
   "id": "ca88d2c2",
   "metadata": {},
   "source": [
    "Bir sayı, ancak ve ancak karesi sayının kendisi ile aynı basamaklarda bitiyorsa Otomorfik sayı olarak adlandırılır.\n",
    "Input >> Output Examples\n",
    "autoMorphic (25) -->> return \"Automorphic\" \n",
    "Explanation:\n",
    "25 squared is 625 , Ends with the same number's digits which are 25 .\n",
    "autoMorphic (13) -->> return \"Not!!\"\n",
    "Explanation:\n",
    "13 squared is 169 , Not ending with the same number's digits which are 69 ."
   ]
  },
  {
   "cell_type": "code",
   "execution_count": 62,
   "id": "cf84a3ae",
   "metadata": {},
   "outputs": [
    {
     "data": {
      "text/plain": [
       "'Not!!'"
      ]
     },
     "execution_count": 62,
     "metadata": {},
     "output_type": "execute_result"
    }
   ],
   "source": [
    "def automorphic(n):\n",
    "    m = n ** 2\n",
    "    sayac = 0\n",
    "    for i in range(-1,-(len(str(n)) + 1),-1):\n",
    "        if str(n)[i] == str(m)[i]:\n",
    "            sayac += 1\n",
    "    if sayac == len(str(n)):\n",
    "        return \"Automorphic\"\n",
    "    else:\n",
    "        return \"Not!!\"\n",
    "        \n",
    "        \n",
    "automorphic(13)\n",
    "        "
   ]
  },
  {
   "cell_type": "markdown",
   "id": "24456532",
   "metadata": {},
   "source": [
    "Pronik Sayı -Bir pronik sayı, dikdörtgen sayı, dikdörtgen sayı veya heteromekik sayı, ardışık iki tamsayının, yani n(n + 1) çarpımı olan bir sayıdır.\n",
    "  0 = 0 × 1   // ∴  0 is a Pronic Number\n",
    "  2 = 1 × 2   // ∴  2 is a Pronic Number\n",
    "  6 = 2 × 3   // ∴  6 is a Pronic Number\n",
    " 12 = 3 × 4   // ∴ 12 is a Pronic Number\n",
    " 20 = 4 × 5   // ∴ 20 is a Pronic Number\n",
    " 30 = 5 × 6   // ∴ 30 is a Pronic Number\n",
    " 42 = 6 × 7   // ∴ 42 is a Pronic Number"
   ]
  },
  {
   "cell_type": "code",
   "execution_count": 67,
   "id": "b9a0fa55",
   "metadata": {},
   "outputs": [
    {
     "data": {
      "text/plain": [
       "True"
      ]
     },
     "execution_count": 67,
     "metadata": {},
     "output_type": "execute_result"
    }
   ],
   "source": [
    "def is_pronic(n):\n",
    "    sayac = 0\n",
    "    for i in range(n + 1):\n",
    "        if i*(i+1) == n:\n",
    "            sayac += 1\n",
    "    if sayac >= 1:\n",
    "        return True\n",
    "    else:\n",
    "        return False\n",
    "\n",
    "is_pronic(0)\n",
    "            "
   ]
  },
  {
   "cell_type": "markdown",
   "id": "d5800934",
   "metadata": {},
   "source": [
    "Bu alıştırmada, bir tamsayı alan bir fonksiyon yaratacaksınız, i. Bununla birlikte şunları yapmalısınız.\n",
    "100 dahil tüm katlarını bul,\n",
    "\n",
    "Sonra her katın basamak toplamını alın (örn. 45 -> 4 + 5 = 9),\n",
    "\n",
    "Ve son olarak, her yeni basamak toplamının toplamını alın.\n",
    "Not: Bir sayının basamak toplamı 9'dan büyükse (örn. 99 -> 9 + 9 = 18), o zaman bir basamağa ulaşana kadar onu daha fazla bölmeniz GEREKMEZ.\n",
    "Example (if i is 25):\n",
    "\n",
    "Multiples of 25 up to 100 --> [25, 50, 75, 100]\n",
    "\n",
    "Digit sum of each multiple --> [7, 5, 12, 1]\n",
    "\n",
    "Sum of each new digit sum --> 25\n",
    "\n",
    "If you can, try writing it in one line of code.\n",
    "\n",
    "Edit (3/17/2017): Added random tests"
   ]
  },
  {
   "cell_type": "code",
   "execution_count": 4,
   "id": "c4112ce5",
   "metadata": {},
   "outputs": [
    {
     "name": "stdout",
     "output_type": "stream",
     "text": [
      "25\n",
      "25\n"
     ]
    }
   ],
   "source": [
    "def procedure(m):\n",
    "    liste = []\n",
    "    sayac = 1\n",
    "    while m * sayac <= 100:\n",
    "        liste.append(m * sayac)\n",
    "        sayac += 1\n",
    "    liste2 = []\n",
    "    for i in liste:\n",
    "        sayac2 = 0\n",
    "        for j in str(i):\n",
    "            sayac2 += int(j)\n",
    "        liste2.append(sayac2)\n",
    "    return sum(liste2)\n",
    "print(procedure(25))"
   ]
  },
  {
   "cell_type": "markdown",
   "id": "f1ead04a",
   "metadata": {},
   "source": [
    "Fast & Furious Driving School's (F&F) charges for lessons are as below:\n",
    "\n",
    "Hızlı ve Öfkeli Sürüş Okulu'nun (F&F) dersleri için ücretleri aşağıdaki gibidir:\n",
    "Time\tCost\n",
    "Up to 1st hour\t$30\n",
    "Every subsequent half hour**\t$10\n",
    "Örneğin, X öğrencisinin 1 saat 20 dakika dersi varsa, 1 saat 30 dakika için 40 USD (30 + 10) ve 5 dakika dersi varsa tam saat için 30 USD ücretlendirilir. .\n",
    "Dakika (dk) cinsinden belirli bir ders süresi için, dersin maliyetini hesaplamak için bir fonksiyon fiyatı yazın.\n",
    "F&F, kalbinin nezaketinden dolayı 5 dakikalık bir ödemesiz süre de sağlar. Yani, X öğrencisi 65 dakika veya 1 saat 35 dakika ders alacaksa, sırasıyla sadece bir saat veya 1 saat 30 dakika ödemek zorunda kalacaktır.\n"
   ]
  },
  {
   "cell_type": "code",
   "execution_count": 31,
   "id": "773405ab",
   "metadata": {},
   "outputs": [
    {
     "data": {
      "text/plain": [
       "100"
      ]
     },
     "execution_count": 31,
     "metadata": {},
     "output_type": "execute_result"
    }
   ],
   "source": [
    "def cost(mins):\n",
    "    if mins <= 5:\n",
    "        return 0\n",
    "    elif 5 < mins <= 65:\n",
    "        return 30\n",
    "    elif mins > 65:\n",
    "        if int(str(mins)[-1]) < 5:\n",
    "            x = round(((mins - 60) / 30))\n",
    "            y = x * 10 + 30\n",
    "            return y\n",
    "        else:\n",
    "            x = round(((mins - 60) / 30) + 0.5)\n",
    "            y = x * 10 + 30\n",
    "            return y\n",
    "    \n",
    "cost(273)"
   ]
  },
  {
   "cell_type": "markdown",
   "id": "8e35207b",
   "metadata": {},
   "source": [
    "Fonksiyona girdi olarak verilen (n> = 0) tamsayıdaki toplam basamak sayısını belirleyin. Örneğin, 9 tek basamaklı, 66 2 basamaklı ve 128685 6 basamaklıdır. Taşmalardan / taşmalardan kaçınmaya dikkat edin.\n"
   ]
  },
  {
   "cell_type": "code",
   "execution_count": 32,
   "id": "c3a37d66",
   "metadata": {},
   "outputs": [
    {
     "data": {
      "text/plain": [
       "10"
      ]
     },
     "execution_count": 32,
     "metadata": {},
     "output_type": "execute_result"
    }
   ],
   "source": [
    "def digits(n):\n",
    "    return len(str(n))\n",
    "\n",
    "digits(9876543210)"
   ]
  },
  {
   "cell_type": "markdown",
   "id": "5a32bdc9",
   "metadata": {},
   "source": [
    "Yarıçapı r olan bir dairenin içine sığabilecek en büyük karenin alanını belirleyin."
   ]
  },
  {
   "cell_type": "code",
   "execution_count": null,
   "id": "fe4292f6",
   "metadata": {},
   "outputs": [],
   "source": [
    "def area_largest_square(r):\n",
    "    area = r * r * 2\n",
    "    return area\n"
   ]
  },
  {
   "cell_type": "markdown",
   "id": "d38b3e01",
   "metadata": {},
   "source": [
    "Write a function getNumberOfSquares (C, F#, Haskell) / get_number_of_squares (Python, Ruby) that will return how many integer (starting from 1, 2...) numbers raised to power of 2 and then summed up are less than some number given as a parameter.\n",
    "\n",
    "E.g 1: For n = 6 result should be 2 because 1^2 + 2^2 = 1 + 4 = 5 and 5 < 6 E.g 2: For n = 15 result should be 3 because 1^2 + 2^2 + 3^2 = 1 + 4 + 9 = 14 and 14 < 15"
   ]
  },
  {
   "cell_type": "code",
   "execution_count": 63,
   "id": "3a8f806f",
   "metadata": {},
   "outputs": [
    {
     "data": {
      "text/plain": [
       "2"
      ]
     },
     "execution_count": 63,
     "metadata": {},
     "output_type": "execute_result"
    }
   ],
   "source": [
    "def get_number_of_squares(n):\n",
    "    toplam = 0\n",
    "    sayac = 0\n",
    "    for i in range(1,n+1):\n",
    "        if toplam < n:\n",
    "            toplam += i ** 2\n",
    "            sayac += 1\n",
    "    return sayac - 1\n",
    "    \n",
    "get_number_of_squares(6)\n",
    "        "
   ]
  },
  {
   "cell_type": "markdown",
   "id": "0d852fe9",
   "metadata": {},
   "source": [
    "\n",
    "İşleve iletilen parametreler (bölen, sınır) yalnızca pozitif değerlerdir.\n",
    "Bir bölenin Bulunduğu garanti edilir.\n",
    "maxMultiple (2,7) ==> return (6)\n",
    "maxMultiple (37,200) ==> return (185)\n",
    "Explanation:\n",
    "(185) is divisible by (37) , (185) is less than or equal to bound (200) , and (185) is > 0 ."
   ]
  },
  {
   "cell_type": "code",
   "execution_count": 1,
   "id": "0358acba",
   "metadata": {},
   "outputs": [
    {
     "data": {
      "text/plain": [
       "185"
      ]
     },
     "execution_count": 1,
     "metadata": {},
     "output_type": "execute_result"
    }
   ],
   "source": [
    "def max_multiple(divisor, bound):\n",
    "    sınır = 0\n",
    "    for i in range(bound + 1):\n",
    "        if i % divisor == 0:\n",
    "            sınır = i\n",
    "    return sınır\n",
    "\n",
    "max_multiple(37,200)"
   ]
  },
  {
   "cell_type": "markdown",
   "id": "4cd58cf6",
   "metadata": {},
   "source": [
    "Richard Phillips Feynman tanınmış bir Amerikalı fizikçiydi ve Nobel Fizik Ödülü'nü aldı. Teorik fizikte çalıştı ve kuantum hesaplama alanına öncülük etti.\n",
    "Geçenlerde yaşlı bir çiftçi, Feynman'a ait olduğuna inanılan bazı kağıtlar ve notlar buldu. Mezonlar ve elektromanyetizma ile ilgili notlar arasında, basit bir bulmaca yazdığı bir peçete vardı: \"NxN karelerden oluşan bir ızgarada kaç farklı kare var?\"."
   ]
  },
  {
   "cell_type": "code",
   "execution_count": 3,
   "id": "d9985b43",
   "metadata": {},
   "outputs": [
    {
     "data": {
      "text/plain": [
       "55"
      ]
     },
     "execution_count": 3,
     "metadata": {},
     "output_type": "execute_result"
    }
   ],
   "source": [
    "def count_squares(n):\n",
    "    toplam = 0\n",
    "    for i in range(1,n + 1):\n",
    "        toplam += i ** 2\n",
    "    return toplam\n",
    "count_squares(5)"
   ]
  },
  {
   "cell_type": "markdown",
   "id": "887f5b67",
   "metadata": {},
   "source": [
    "for i from 1 to n, do i % m and return the sum\n",
    "\n",
    "f(n=10, m=5) // returns 20 (1+2+3+4+0 + 1+2+3+4+0)\n",
    "You'll need to get a little clever with performance, since n can be a very large number"
   ]
  },
  {
   "cell_type": "code",
   "execution_count": 5,
   "id": "93000586",
   "metadata": {},
   "outputs": [
    {
     "data": {
      "text/plain": [
       "190"
      ]
     },
     "execution_count": 5,
     "metadata": {},
     "output_type": "execute_result"
    }
   ],
   "source": [
    "def f(n, m):\n",
    "    toplam = 0\n",
    "    for i in range(1,n+1):\n",
    "        toplam += i % m\n",
    "    return toplam\n",
    "\n",
    "f(20,20)"
   ]
  },
  {
   "cell_type": "markdown",
   "id": "e6b163b3",
   "metadata": {},
   "source": [
    "Belirli bir negatif olmayan tamsayının iki güç olup olmadığını belirleyen işlevi / (veya dilinize bağlı olarak eşdeğeri)tamamlayın. İlgili Vikipedi girişinden:power_of_twopowerOfTwo\n",
    "\n",
    "ikinin gücü, formun bir numarasıdır 2n burada n bir tamsayıdır, yani üs olarak iki numaralı ve üs olarak tamsayı n olan üslenmenin sonucudur.\n",
    "\n",
    "Girişin her zaman geçerli olduğunu varsayabilirsiniz.\n",
    "\n",
    "Örnekler\n",
    "power_of_two(1024) ==> True\n",
    "power_of_two(4096) ==> True\n",
    "power_of_two(333)  ==> False\n"
   ]
  },
  {
   "cell_type": "code",
   "execution_count": 39,
   "id": "7da653c4",
   "metadata": {},
   "outputs": [
    {
     "data": {
      "text/plain": [
       "False"
      ]
     },
     "execution_count": 39,
     "metadata": {},
     "output_type": "execute_result"
    }
   ],
   "source": [
    "def power_of_two(x):\n",
    "    sayac = 0\n",
    "    for i in range(0,x):\n",
    "        if 2 ** i == x:\n",
    "            sayac += 1\n",
    "    if sayac == 0:\n",
    "        return False\n",
    "    else:\n",
    "        return True\n",
    "            \n",
    "power_of_two(1000)"
   ]
  },
  {
   "cell_type": "code",
   "execution_count": 43,
   "id": "a7046735",
   "metadata": {},
   "outputs": [
    {
     "data": {
      "text/plain": [
       "True"
      ]
     },
     "execution_count": 43,
     "metadata": {},
     "output_type": "execute_result"
    }
   ],
   "source": [
    "def power_of_two(x):\n",
    "    sayac = 0\n",
    "    while True:\n",
    "        if 2 ** sayac == x:\n",
    "            return True\n",
    "        elif 2 ** sayac > x:\n",
    "            return False\n",
    "        sayac += 1\n",
    "    \n",
    "power_of_two(1)"
   ]
  },
  {
   "cell_type": "markdown",
   "id": "4ddfe8d6",
   "metadata": {},
   "source": [
    "Write a program to determine if the two given numbers are coprime. A pair of numbers are coprime if their greatest shared factor is 1.\n",
    "\n",
    "The inputs will always be two positive integers between 2 and 99.\n",
    "20 and 27:\n",
    "\n",
    "Factors of 20: 1, 2, 4, 5, 10, 20\n",
    "Factors of 27: 1, 3, 9, 27\n",
    "Greatest shared factor: 1\n",
    "Result: 20 and 27 are coprime\n",
    "12 and 39:\n",
    "\n",
    "Factors of 12: 1, 2, 3, 4, 6, 12\n",
    "Factors of 39: 1, 3, 13, 39\n",
    "Greatest shared factor: 3\n",
    "Result: 12 and 39 are not coprimes"
   ]
  },
  {
   "cell_type": "code",
   "execution_count": 56,
   "id": "88231b17",
   "metadata": {},
   "outputs": [
    {
     "data": {
      "text/plain": [
       "False"
      ]
     },
     "execution_count": 56,
     "metadata": {},
     "output_type": "execute_result"
    }
   ],
   "source": [
    "def are_coprime(n,m):\n",
    "    kont = 0\n",
    "    for i in range(2,max(n,m) + 1):\n",
    "        if (n % i == 0) and (m % i == 0):\n",
    "            kont += 1\n",
    "    if kont == 0:\n",
    "        return True\n",
    "    else:\n",
    "        return False\n",
    "are_coprime(12,39)"
   ]
  },
  {
   "cell_type": "markdown",
   "id": "21bc859a",
   "metadata": {},
   "source": [
    "Üzerinde sayılar olan iki yüzük hayal edin. İç halka saat yönünde döner (her dönüşte 1 azalır) ve dış halka saat yönünün tersine döner (her dönüşte 1 artar). Her iki halka üstte 0 hizasında olacak şekilde başlıyoruz ve her harekette her halkayı bir artışla döndürüyoruz. Her iki halka da üstte aynı sayıyı tekrar göstermeden önce kaç hamle gerekir?\n",
    "\n",
    "İç halka 0 ile innerMax arasında tam sayılara sahiptir ve dış halka 0 ile externalMax arasında tam sayılara sahiptir, burada innerMax ve externalMax tam sayılardır >=\n",
    "e.g. if innerMax is 2 and outerMax is 3 then after\n",
    "1 move: inner = 2, outer = 1\n",
    "2 moves: inner = 1, outer = 2\n",
    "3 moves: inner = 0, outer = 3\n",
    "4 moves: inner = 2, outer = 0\n",
    "5 moves: inner = 1, outer = 1\n",
    "Therefore it takes 5 moves for the two rings to reach the same number\n",
    "Therefore spinningRings(2, 3) = 5\n",
    "e.g. if innerMax is 3 and outerMax is 2 then after\n",
    "1 move: inner = 3, outer = 1\n",
    "2 moves: inner = 2, outer = 2\n",
    "Therefore it takes 2 moves for the two rings to reach the same number\n",
    "spinningRings(3, 2) = 2\n"
   ]
  },
  {
   "cell_type": "code",
   "execution_count": null,
   "id": "23eb4731",
   "metadata": {},
   "outputs": [],
   "source": [
    "def spinning_rings(inner_max, outer_max):\n",
    "    sayac = 0\n",
    "    "
   ]
  },
  {
   "cell_type": "markdown",
   "id": "e0fdbca1",
   "metadata": {},
   "source": [
    "Metroda bir sihirbaz sana bir numara gösterdi, seni etkilemek için bir şişeye buz tuğlası koydu. Tuğlanın genişliği ve yüksekliği eşittir ve bir kare oluşturur. Hem eğlenmek hem de sihirbazı ve çevredeki insanları etkilemek için tuğlanın hacmini hesaplamaya karar verdiniz. Bu parametreleri kabul edecek bir iceBrickVolume işlevi yazın:\n",
    "radius = 5\n",
    "bottle_length = 30\n",
    "rim_length = 7\n",
    "\n",
    "volume = 1150"
   ]
  },
  {
   "cell_type": "code",
   "execution_count": 1,
   "id": "4027255c",
   "metadata": {},
   "outputs": [
    {
     "data": {
      "text/plain": [
       "1150"
      ]
     },
     "execution_count": 1,
     "metadata": {},
     "output_type": "execute_result"
    }
   ],
   "source": [
    "def ice_brick_volume(radius, bottle_length, rim_length):\n",
    "    return (bottle_length - rim_length) * radius * (radius * 2)\n",
    "\n",
    "ice_brick_volume(5,30,7)"
   ]
  },
  {
   "cell_type": "markdown",
   "id": "5fe47bf8",
   "metadata": {},
   "source": [
    "Complete the solution so that it reverses the string passed into it.\n",
    "\n",
    "'world'  =>  'dlrow'\n",
    "'word'   =>  'drow'"
   ]
  },
  {
   "cell_type": "code",
   "execution_count": 4,
   "id": "bfbc5284",
   "metadata": {},
   "outputs": [
    {
     "data": {
      "text/plain": [
       "'afatsuM'"
      ]
     },
     "execution_count": 4,
     "metadata": {},
     "output_type": "execute_result"
    }
   ],
   "source": [
    "def solution(string):\n",
    "    ters = \"\"\n",
    "    for i in string[::-1]:\n",
    "        ters += i\n",
    "    return ters\n",
    "        \n",
    "\n",
    "solution(\"Mustafa\")"
   ]
  },
  {
   "cell_type": "markdown",
   "id": "e44ea6b4",
   "metadata": {},
   "source": [
    "Complete the method that returns true if 2 integers share at least two 1 bits, otherwise return false. For simplicity assume that all numbers are non-negative.\n",
    "\n",
    "Examples\n",
    " 7  =  0111 in binary\n",
    "10  =  1010\n",
    "15  =  1111\n",
    "7 and 10 share only a single 1-bit (at index 2) --> false\n",
    "7 and 15 share 3 1-bits (at indexes 1, 2, and 3) --> true\n",
    "10 and 15 share 2 1-bits (at indexes 0 and 2) --> true\n",
    "Hint: you can do this with just string manipulation, but binary operators will make your life much easier."
   ]
  },
  {
   "cell_type": "code",
   "execution_count": 1,
   "id": "c3aa5ea6",
   "metadata": {},
   "outputs": [
    {
     "data": {
      "text/plain": [
       "True"
      ]
     },
     "execution_count": 1,
     "metadata": {},
     "output_type": "execute_result"
    }
   ],
   "source": [
    "def shared_bits(a, b):\n",
    "    return bin(a & b).count('1') > 1\n",
    "\n",
    "shared_bits(7,15)"
   ]
  },
  {
   "cell_type": "markdown",
   "id": "dbfdaa38",
   "metadata": {},
   "source": [
    "10'un altında 3 veya 5'in katı olan tüm doğal sayıları listelersek 3, 5, 6 ve 9 elde ederiz. Bu katların toplamı 23'tür.\n",
    "Çözümü, girilen sayının altındaki 3 veya 5'in tüm katlarının toplamını döndürecek şekilde bitirin. Ek olarak, sayı negatifse 0 döndürün (bunlara sahip diller için).\n",
    "Not: Sayı hem 3 hem de 5'in katıysa, yalnızca bir kez sayın."
   ]
  },
  {
   "cell_type": "code",
   "execution_count": 6,
   "id": "4271ff58",
   "metadata": {},
   "outputs": [
    {
     "data": {
      "text/plain": [
       "9168"
      ]
     },
     "execution_count": 6,
     "metadata": {},
     "output_type": "execute_result"
    }
   ],
   "source": [
    "def solution(number):\n",
    "    toplam = 0\n",
    "    if number > 0:\n",
    "        for i in range(number):\n",
    "            if i % 3 == 0 or i % 5 == 0:\n",
    "                toplam += i\n",
    "    else:\n",
    "        return 0\n",
    "    \n",
    "    return toplam\n",
    "\n",
    "solution(200)"
   ]
  },
  {
   "cell_type": "code",
   "execution_count": null,
   "id": "b321b53b",
   "metadata": {},
   "outputs": [],
   "source": [
    "\n",
    "Bir çocuk yüksek bir binanın n. katında topla oynuyor. Bu katın yüksekliği h, bilinmektedir.\n",
    "Topu camdan dışarı atıyor. Top (örneğin), yüksekliğinin üçte ikisine kadar seker (0.66'lık bir sıçrama).\n",
    "                                                                                  \n",
    "Annesi yerden 1.5 metre yükseklikte bir pencereden dışarı bakıyor.\n",
    "                                                                                  \n",
    "Anne, topun penceresinin önünden geçtiğini kaç kez görecek (düştüğü ve sıçradığı zamanlar dahil?\n",
    "Geçerli bir deney için üç koşulun karşılanması gerekir:\n",
    "Metre cinsinden kayan nokta parametresi \"h\" 0'dan büyük olmalıdır\n",
    "Float parametresi \"sıçrama\" 0'dan büyük ve 1'den küçük olmalıdır\n",
    "Float parametresi \"pencere\" h'den küçük olmalıdır.\n",
    "Yukarıdaki üç koşulun tümü yerine getirilirse, pozitif bir tamsayı döndürün, aksi takdirde -1 döndürün.\n",
    "\n",
    "Not:\n",
    "Top sadece, ribaund topunun yüksekliği pencere parametresinden kesinlikle daha büyükse görülebilir.\n",
    "- h = 3, bounce = 0.66, window = 1.5, result is 3\n",
    "\n",
    "- h = 3, bounce = 1, window = 1.5, result is -1 \n",
    "\n",
    "(Condition 2) not fulfilled).\n",
    "                                                                                  "
   ]
  },
  {
   "cell_type": "code",
   "execution_count": 7,
   "id": "0755b366",
   "metadata": {},
   "outputs": [
    {
     "data": {
      "text/plain": [
       "21"
      ]
     },
     "execution_count": 7,
     "metadata": {},
     "output_type": "execute_result"
    }
   ],
   "source": [
    "def bouncing_ball(h, bounce, window):\n",
    "    sayac = 0\n",
    "    if  0 < bounce < 1 and h > window:\n",
    "        while h > window : \n",
    "            if h * bounce > window:\n",
    "                sayac += 2\n",
    "            h = h * bounce\n",
    "    else:\n",
    "        return -1\n",
    "    \n",
    "    return sayac + 1\n",
    "\n",
    "bouncing_ball(30,0.75,1.5)\n",
    "            "
   ]
  },
  {
   "cell_type": "markdown",
   "id": "2bec163b",
   "metadata": {},
   "source": [
    "\n",
    "6969 ve 9116 sayılarını göz önünde bulundurun. Bunları 180 derece (ters çevirdiğinizde) döndürdüğünüzde bu sayılar aynı kalır. Açıklığa kavuşturmak gerekirse, bunları bir kağıda yazıp kağıdı ters çevirirsek sayılar aynı olacaktır. Deneyin ve görün! 2 veya 5 gibi bazı sayılar döndürüldüğünde sayı vermez.\n",
    "\n",
    "Bir aralık verildiğinde, o aralıktaki ters sayıların sayısını döndürür. Örneğin (0.10) = 3'ü çöz, çünkü sadece 3 ters sayı> = 0 ve <10 var. Bunlar 0, 1, 8'dir.\n"
   ]
  },
  {
   "cell_type": "code",
   "execution_count": null,
   "id": "4e045115",
   "metadata": {},
   "outputs": [],
   "source": [
    "def solve(a, b):\n",
    "    for i in range(a,b):\n",
    "        for j in i:\n",
    "            "
   ]
  },
  {
   "cell_type": "markdown",
   "id": "d44f3c14",
   "metadata": {},
   "source": [
    "\n",
    "Bilardodaki top üçgenini hatırlıyor musunuz? Klasik bir üçgen (5 seviye) oluşturmak için 15 topa ihtiyacınız var. 3 top ile 2 seviyeli bir üçgen vb. oluşturabilirsiniz.\n",
    "pyramid(1) == 1\n",
    "\n",
    "pyramid(3) == 2\n",
    "\n",
    "pyramid(6) == 3\n",
    "\n",
    "pyramid(10) == 4\n",
    "\n",
    "pyramid(15) == 5"
   ]
  },
  {
   "cell_type": "code",
   "execution_count": 51,
   "id": "fac877e8",
   "metadata": {},
   "outputs": [
    {
     "data": {
      "text/plain": [
       "66"
      ]
     },
     "execution_count": 51,
     "metadata": {},
     "output_type": "execute_result"
    }
   ],
   "source": [
    "def pyramid(balls):\n",
    "    toplam = 0\n",
    "    if balls == 1:\n",
    "        return 1\n",
    "    else:\n",
    "        \n",
    "        for i in range(balls + 1):\n",
    "            toplam += i\n",
    "            if toplam > balls:\n",
    "                return i - 1\n",
    "    \n",
    "pyramid(2211)"
   ]
  },
  {
   "cell_type": "markdown",
   "id": "9e12d518",
   "metadata": {},
   "source": [
    "Write a function that reverses the bits in an integer.\n",
    "\n",
    "For example, the number 417 is 110100001 in binary. Reversing the binary is 100001011 which is 267.\n",
    "\n",
    "You can assume that the number is not negative.\n",
    "\n"
   ]
  },
  {
   "cell_type": "code",
   "execution_count": 4,
   "id": "abc07161",
   "metadata": {},
   "outputs": [
    {
     "data": {
      "text/plain": [
       "267"
      ]
     },
     "execution_count": 4,
     "metadata": {},
     "output_type": "execute_result"
    }
   ],
   "source": [
    "def reverse_bits(n):\n",
    "    bins = \"\"\n",
    "    while n >= 1:\n",
    "        bins += str(n % 2)\n",
    "        n = n // 2\n",
    "        \n",
    "    bins2 = 0\n",
    "    index = 0\n",
    "    while index <= len(bins) - 1:\n",
    "        bins2 += int(bins[::-1][index]) * (2 ** index)\n",
    "        index += 1\n",
    "    return bins2\n",
    "        \n",
    "\n",
    "reverse_bits(417)"
   ]
  },
  {
   "cell_type": "code",
   "execution_count": 5,
   "id": "2d845972",
   "metadata": {},
   "outputs": [
    {
     "data": {
      "text/plain": [
       "267"
      ]
     },
     "execution_count": 5,
     "metadata": {},
     "output_type": "execute_result"
    }
   ],
   "source": [
    "def reverse_bits(n):\n",
    "    bins = \"\"\n",
    "    while n >= 1:\n",
    "        bins += str(n % 2)\n",
    "        n = n // 2\n",
    "        \n",
    "    sonuc = 0\n",
    "    index = 0\n",
    "    while index <= len(bins) - 1:\n",
    "        sonuc += int(bins[::-1][index]) * (2 ** index)\n",
    "        index += 1\n",
    "    return sonuc\n",
    "        \n",
    "\n",
    "reverse_bits(417)"
   ]
  },
  {
   "cell_type": "markdown",
   "id": "cee43963",
   "metadata": {},
   "source": [
    "Bu senin doğumgünün. İş arkadaşların sana pasta alıyor. Pastanın üzerindeki mumların sayısı verilmiştir (mumlar). Lütfen bunun gerçek olmadığını ve yaşınızın 1000'e kadar herhangi bir yerde olabileceğini unutmayın. Evet, berbat görünürdünüz.\n",
    "Sürpriz olarak, meslektaşlarınız arkadaşınızın pastanın içine saklanmasını ve patlamasını sağladı. Bunun senin yararına olduğunu düşünüyorlar, ama muhtemelen bunun nedeni seni kekle kaplanmış halde görmek istedikleri içindir. Kulağa eğlenceli geliyor!\n",
    "Arkadaşınız pastadan atladığında, mumların bir kısmını yere vuracaktır. Düşen mum sayısı toplam mumların %70'inden fazla ise halı alev alır.\n",
    "Sağlanan küçük harf dizisinden (enkaz) düşecek mum sayısını hesaplayacaksınız. Dizedeki her çift dizine alınmış (0 tabanlı bir dizin oluşturma varsayın) karakterin karakter ASCII kodunu, dizine eklenen her bir tek karakterin alfabetik konumuyla (\"a\" = 1, \"b\" = 2, vb.) eklemelisiniz. dizenin toplamını alın.\n",
    "\"abc\"  -->  \"a\" = 97, \"b\" = 2, \"c\" = 99  -->  total = 198\n",
    "notlar\n",
    "\n",
    "başlangıçta mum yoksa, halı alev alamaz;\n",
    "Bu gerçek olmadığı için, pastadan düşen mum toplamından daha fazla olabilir..."
   ]
  },
  {
   "cell_type": "code",
   "execution_count": 29,
   "id": "1b561721",
   "metadata": {},
   "outputs": [
    {
     "data": {
      "text/plain": [
       "'That was close!'"
      ]
     },
     "execution_count": 29,
     "metadata": {},
     "output_type": "execute_result"
    }
   ],
   "source": [
    "def cake(candles,debris):\n",
    "    toplam = 0\n",
    "    if candles > 0 and candles < 1000 : \n",
    "        for i in range(1,len(debris)):\n",
    "            if i % 2 == 0 :\n",
    "                toplam += i\n",
    "            else:\n",
    "                toplam += ord(debris[i])\n",
    "        if (toplam + candles) * 0.7 > candles:\n",
    "            return \"Fire!\"\n",
    "        else:\n",
    "            return \"That was close!\"\n",
    "    else:\n",
    "        return \"That was close!\"\n",
    "\n",
    "cake(1000, \"sbqtzpjdizgmxblu\")\n",
    "        "
   ]
  },
  {
   "cell_type": "markdown",
   "id": "2b06c639",
   "metadata": {},
   "source": [
    "Arabanız eski, kolay bozuluyor. Amortisörler gitti ve tamamen ölmeden önce yaklaşık 15 darbe daha kaldırabileceğini düşünüyorsunuz.\n",
    "\n",
    "Maalesef sizin için sürüşünüz çok engebeli! Düz bir yol (\"_\") veya tümsekler (\"n\") gösteren bir dize verildiğinde, eve güvenli bir şekilde varıp varmayacağınıza çalışın. 15 veya daha az tümsek, \"Woohoo!\" döndürür, 15'ten fazla tümsek \"Car Dead\" döndürür."
   ]
  },
  {
   "cell_type": "code",
   "execution_count": 35,
   "id": "3bb656da",
   "metadata": {},
   "outputs": [
    {
     "data": {
      "text/plain": [
       "'Woohoo!'"
      ]
     },
     "execution_count": 35,
     "metadata": {},
     "output_type": "execute_result"
    }
   ],
   "source": [
    "def bumps(road):\n",
    "    sayac = 0\n",
    "    for i in road:\n",
    "        if i == \"n\":\n",
    "            sayac += 1\n",
    "        else:\n",
    "            continue\n",
    "            \n",
    "    if sayac > 15:\n",
    "        return \"Car Dead\"\n",
    "    else:\n",
    "        return \"Woohoo!\"\n",
    "bumps(\"n__n_n_n_n_n_nn_n__nn___nn___nn_\")"
   ]
  },
  {
   "cell_type": "markdown",
   "id": "d146e830",
   "metadata": {},
   "source": [
    "Galaktik oyunlar! Tüm dünyaların varlıkları, boğuşmak, fışkırtmak ve vızıldamak gibi birkaç ilginç sporda rekabet etmek için bir araya gelir (sığır kuşları sonuncuyu sever). Ancak, geleneksel maraton koşusu da var.\n",
    "Ne yazık ki, son yıllarda hile yapanlar oldu ve komite raylara sensörler yerleştirmeye karar verdi. Komiteler, komite oldukları için aşağıdaki kuralı bulmuşlardır:\n",
    "    Başlangıçtan itibaren her 3 ve 5 metrede bir sensör yerleştirilmelidir, örn. 3m, 5m, 6m, 9m, 10m, 12m, 15m, 18m'de…\n",
    "    \n",
    "Pistten sorumlu olduğunuz için o sensörleri satın almanız gerekiyor. Daha da kötüsü, yolun ne kadar süreceğini bilmiyorsunuz! Ve tek bir parçadan daha fazlası olabileceğinden ve bunların hepsini elle yapmak zahmetine katlanamayacağınız için, bunun yerine bir program yazmaya karar veriyorsunuz.\n",
    "Görev\n",
    "Bir sayının altındaki 3 ve 5'in katlarının toplamını döndürür. Galaktik oyunlar olarak, parçalar oldukça büyüyebilir, bu nedenle çözümünüz gerçekten büyük sayılarda (1.000.000'den büyük) çalışmalıdır.\n"
   ]
  },
  {
   "cell_type": "code",
   "execution_count": 12,
   "id": "24e60b10",
   "metadata": {},
   "outputs": [
    {
     "data": {
      "text/plain": [
       "57918"
      ]
     },
     "execution_count": 12,
     "metadata": {},
     "output_type": "execute_result"
    }
   ],
   "source": [
    "def solution(n):\n",
    "    toplam = 0\n",
    "    for i in range(n):\n",
    "        if i % 3 == 0 or i % 5 == 0:\n",
    "            toplam += i\n",
    "            \n",
    "    return toplam\n",
    "\n",
    "solution(500)"
   ]
  },
  {
   "cell_type": "markdown",
   "id": "3a46222b",
   "metadata": {},
   "source": [
    "Görevi açıklamak basittir: başlangıç ​​olan ilk parametreden, üst limit olan ikinci parametreye (muhtemelen dahil edilmiştir), üçüncü parametre tarafından ifade edilen adımlarda ilerleyerek tüm sayıları toplamanız yeterlidir:\n",
    "\n",
    "sequence_sum(2, 2, 2) # 2\n",
    "sequence_sum(2, 6, 2) # 12 (= 2 + 4 + 6)\n",
    "sequence_sum(1, 5, 1) # (= 1 + 2 + 3 + 4 + 5)\n",
    "sequence_sum(1, 5, 3) # 5 (= 1 + 4)\n",
    "\n",
    "İmkansız bir dizi ise (başlangıç ​​daha büyük son ve olumlu bir adım veya tam tersi), sadece 0 döndürün. Daha fazla örnek için sağlanan test senaryolarına bakın :)\n",
    "\n",
    "Not: Diğer temel katalardan farklı olarak, çok daha geniş aralıklar test edilecektir, bu nedenle algonuzu optimize etmeyi ve çözüm boyunca kaba zorlamadan kaçınmayı ummalısınız."
   ]
  },
  {
   "cell_type": "code",
   "execution_count": null,
   "id": "9e26bbd8",
   "metadata": {},
   "outputs": [],
   "source": [
    "def sequence_sum(a, b, step):\n",
    "    n = (b-a)//step\n",
    "    return 0 if n<0 else (n+1)*(n*step+a+a)//2"
   ]
  },
  {
   "cell_type": "markdown",
   "id": "b6b078db",
   "metadata": {},
   "source": [
    "Bir tamsayı verildiğinde, bölenlerinin sayısı tek ise \"tek\" döndürür. Aksi takdirde \"çift\" olarak geri dönün.\n",
    "\n",
    "Not: büyük girdiler test edilecektir.\n",
    "Examples:\n",
    "All prime numbers have exactly two divisors (hence \"even\").\n",
    "\n",
    "For n = 12 the divisors are [1, 2, 3, 4, 6, 12] – \"even\".\n",
    "\n",
    "For n = 4 the divisors are [1, 2, 4] – \"odd\".\n",
    "\n"
   ]
  },
  {
   "cell_type": "code",
   "execution_count": 4,
   "id": "c5808a52",
   "metadata": {},
   "outputs": [
    {
     "data": {
      "text/plain": [
       "'even'"
      ]
     },
     "execution_count": 4,
     "metadata": {},
     "output_type": "execute_result"
    }
   ],
   "source": [
    "def oddity(n):\n",
    "    liste = []\n",
    "    for i in range(1, n + 1):\n",
    "        if n % i == 0:\n",
    "            liste.append(i)\n",
    "    if len(liste) % 2 == 0:\n",
    "        return \"even\"\n",
    "    else:\n",
    "        return \"odd\"\n",
    "    \n",
    "oddity(12)"
   ]
  },
  {
   "cell_type": "code",
   "execution_count": 7,
   "id": "bd36a89f",
   "metadata": {},
   "outputs": [
    {
     "data": {
      "text/plain": [
       "'even'"
      ]
     },
     "execution_count": 7,
     "metadata": {},
     "output_type": "execute_result"
    }
   ],
   "source": [
    "def oddity(n):\n",
    "    sayac = 0\n",
    "    kont = 1\n",
    "    while kont <= n:\n",
    "        if n % kont == 0:\n",
    "            sayac += 1\n",
    "        kont += 1\n",
    "            \n",
    "    if sayac % 2 == 0:\n",
    "        return \"even\"\n",
    "    else:\n",
    "        return \"odd\"\n",
    "    \n",
    "oddity(12)"
   ]
  },
  {
   "cell_type": "markdown",
   "id": "bd94a464",
   "metadata": {},
   "source": [
    "Pozitif veya negatif olabilen iki a ve b tamsayısı verildiğinde, aralarındaki ve bunlar dahil tüm tam sayıların toplamını bulun ve döndürün. İki sayı eşitse, a veya b döndürün.\n",
    "\n",
    "Not: a ve b sıralanmamıştır!\n",
    "    \n",
    "(1, 0) --> 1 (1 + 0 = 1)\n",
    "(1, 2) --> 3 (1 + 2 = 3)\n",
    "(0, 1) --> 1 (0 + 1 = 1)\n",
    "(1, 1) --> 1 (1 since both are same)\n",
    "(-1, 0) --> -1 (-1 + 0 = -1)\n",
    "(-1, 2) --> 2 (-1 + 0 + 1 + 2 = 2)"
   ]
  },
  {
   "cell_type": "code",
   "execution_count": 9,
   "id": "6d40298e",
   "metadata": {},
   "outputs": [
    {
     "data": {
      "text/plain": [
       "12"
      ]
     },
     "execution_count": 9,
     "metadata": {},
     "output_type": "execute_result"
    }
   ],
   "source": [
    "def get_sum(a,b):\n",
    "    toplam = 0\n",
    "    if a != b :\n",
    "        if a < b :\n",
    "            for i in range(a,b + 1):\n",
    "                toplam += i\n",
    "        elif a > b:\n",
    "            for i in range(a,b-1,-1):\n",
    "                toplam += i\n",
    "    else:\n",
    "        toplam = a\n",
    "        \n",
    "    return toplam\n",
    "\n",
    "get_sum(3,5)\n",
    "        "
   ]
  },
  {
   "cell_type": "code",
   "execution_count": null,
   "id": "f2c542af",
   "metadata": {},
   "outputs": [],
   "source": [
    "Baktığınız yönü (8 yönden biri: K, KD, D, GD, G, GB, W, NW) ve belirli bir derece döndürme (45'in katları, -1080 ve 1080 arasında) alırsınız; pozitif saat yönü, negatif saat yönünün tersi anlamına gelir.\n",
    "Return the direction you will face after the turn.\n",
    "\"S\",  180  -->  \"N\"\n",
    "\"SE\", -45  -->  \"E\"\n",
    "\"W\",  495  -->  \"NE\"\n",
    "                                                                                            "
   ]
  },
  {
   "cell_type": "code",
   "execution_count": 10,
   "id": "db296889",
   "metadata": {},
   "outputs": [
    {
     "name": "stdout",
     "output_type": "stream",
     "text": [
      "1620\n"
     ]
    }
   ],
   "source": [
    "toplam = 0\n",
    "for i in range(0,361,45):\n",
    "    toplam += i\n",
    "    \n",
    "print(toplam)"
   ]
  },
  {
   "cell_type": "code",
   "execution_count": null,
   "id": "8e52a8e4",
   "metadata": {},
   "outputs": [],
   "source": [
    "DIRECTIONS = ['N', 'NE', 'E', 'SE', 'S', 'SW', 'W', 'NW']\n",
    "\n",
    "\n",
    "def direction(facing, turn):\n",
    "    return DIRECTIONS[(turn // 45 + DIRECTIONS.index(facing)) % 8]"
   ]
  },
  {
   "cell_type": "markdown",
   "id": "fc96df93",
   "metadata": {},
   "source": [
    "1 1 1 1 1\n",
    " 2 2 2 2\n",
    "  3 3 3\n",
    "   4 4\n",
    "    5"
   ]
  },
  {
   "cell_type": "code",
   "execution_count": 4,
   "id": "1a07c1e1",
   "metadata": {},
   "outputs": [
    {
     "name": "stdout",
     "output_type": "stream",
     "text": [
      "1 1 1 1 1 1 1 1 1 1 1 1 1 1 1 1 1 1 1 1 1 1 1 1 1 1 1 1 1 1 1 1 1 1 1 1 1 1 1 1 1 1 1 1 1 1 1 1 1 1 \n",
      " 2 2 2 2 2 2 2 2 2 2 2 2 2 2 2 2 2 2 2 2 2 2 2 2 2 2 2 2 2 2 2 2 2 2 2 2 2 2 2 2 2 2 2 2 2 2 2 2 2 \n",
      "  3 3 3 3 3 3 3 3 3 3 3 3 3 3 3 3 3 3 3 3 3 3 3 3 3 3 3 3 3 3 3 3 3 3 3 3 3 3 3 3 3 3 3 3 3 3 3 3 \n",
      "   4 4 4 4 4 4 4 4 4 4 4 4 4 4 4 4 4 4 4 4 4 4 4 4 4 4 4 4 4 4 4 4 4 4 4 4 4 4 4 4 4 4 4 4 4 4 4 \n",
      "    5 5 5 5 5 5 5 5 5 5 5 5 5 5 5 5 5 5 5 5 5 5 5 5 5 5 5 5 5 5 5 5 5 5 5 5 5 5 5 5 5 5 5 5 5 5 \n",
      "     6 6 6 6 6 6 6 6 6 6 6 6 6 6 6 6 6 6 6 6 6 6 6 6 6 6 6 6 6 6 6 6 6 6 6 6 6 6 6 6 6 6 6 6 6 \n",
      "      7 7 7 7 7 7 7 7 7 7 7 7 7 7 7 7 7 7 7 7 7 7 7 7 7 7 7 7 7 7 7 7 7 7 7 7 7 7 7 7 7 7 7 7 \n",
      "       8 8 8 8 8 8 8 8 8 8 8 8 8 8 8 8 8 8 8 8 8 8 8 8 8 8 8 8 8 8 8 8 8 8 8 8 8 8 8 8 8 8 8 \n",
      "        9 9 9 9 9 9 9 9 9 9 9 9 9 9 9 9 9 9 9 9 9 9 9 9 9 9 9 9 9 9 9 9 9 9 9 9 9 9 9 9 9 9 \n",
      "         0 0 0 0 0 0 0 0 0 0 0 0 0 0 0 0 0 0 0 0 0 0 0 0 0 0 0 0 0 0 0 0 0 0 0 0 0 0 0 0 0 \n",
      "          1 1 1 1 1 1 1 1 1 1 1 1 1 1 1 1 1 1 1 1 1 1 1 1 1 1 1 1 1 1 1 1 1 1 1 1 1 1 1 1 \n",
      "           2 2 2 2 2 2 2 2 2 2 2 2 2 2 2 2 2 2 2 2 2 2 2 2 2 2 2 2 2 2 2 2 2 2 2 2 2 2 2 \n",
      "            3 3 3 3 3 3 3 3 3 3 3 3 3 3 3 3 3 3 3 3 3 3 3 3 3 3 3 3 3 3 3 3 3 3 3 3 3 3 \n",
      "             4 4 4 4 4 4 4 4 4 4 4 4 4 4 4 4 4 4 4 4 4 4 4 4 4 4 4 4 4 4 4 4 4 4 4 4 4 \n",
      "              5 5 5 5 5 5 5 5 5 5 5 5 5 5 5 5 5 5 5 5 5 5 5 5 5 5 5 5 5 5 5 5 5 5 5 5 \n",
      "               6 6 6 6 6 6 6 6 6 6 6 6 6 6 6 6 6 6 6 6 6 6 6 6 6 6 6 6 6 6 6 6 6 6 6 \n",
      "                7 7 7 7 7 7 7 7 7 7 7 7 7 7 7 7 7 7 7 7 7 7 7 7 7 7 7 7 7 7 7 7 7 7 \n",
      "                 8 8 8 8 8 8 8 8 8 8 8 8 8 8 8 8 8 8 8 8 8 8 8 8 8 8 8 8 8 8 8 8 8 \n",
      "                  9 9 9 9 9 9 9 9 9 9 9 9 9 9 9 9 9 9 9 9 9 9 9 9 9 9 9 9 9 9 9 9 \n",
      "                   0 0 0 0 0 0 0 0 0 0 0 0 0 0 0 0 0 0 0 0 0 0 0 0 0 0 0 0 0 0 0 \n",
      "                    1 1 1 1 1 1 1 1 1 1 1 1 1 1 1 1 1 1 1 1 1 1 1 1 1 1 1 1 1 1 \n",
      "                     2 2 2 2 2 2 2 2 2 2 2 2 2 2 2 2 2 2 2 2 2 2 2 2 2 2 2 2 2 \n",
      "                      3 3 3 3 3 3 3 3 3 3 3 3 3 3 3 3 3 3 3 3 3 3 3 3 3 3 3 3 \n",
      "                       4 4 4 4 4 4 4 4 4 4 4 4 4 4 4 4 4 4 4 4 4 4 4 4 4 4 4 \n",
      "                        5 5 5 5 5 5 5 5 5 5 5 5 5 5 5 5 5 5 5 5 5 5 5 5 5 5 \n",
      "                         6 6 6 6 6 6 6 6 6 6 6 6 6 6 6 6 6 6 6 6 6 6 6 6 6 \n",
      "                          7 7 7 7 7 7 7 7 7 7 7 7 7 7 7 7 7 7 7 7 7 7 7 7 \n",
      "                           8 8 8 8 8 8 8 8 8 8 8 8 8 8 8 8 8 8 8 8 8 8 8 \n",
      "                            9 9 9 9 9 9 9 9 9 9 9 9 9 9 9 9 9 9 9 9 9 9 \n",
      "                             0 0 0 0 0 0 0 0 0 0 0 0 0 0 0 0 0 0 0 0 0 \n",
      "                              1 1 1 1 1 1 1 1 1 1 1 1 1 1 1 1 1 1 1 1 \n",
      "                               2 2 2 2 2 2 2 2 2 2 2 2 2 2 2 2 2 2 2 \n",
      "                                3 3 3 3 3 3 3 3 3 3 3 3 3 3 3 3 3 3 \n",
      "                                 4 4 4 4 4 4 4 4 4 4 4 4 4 4 4 4 4 \n",
      "                                  5 5 5 5 5 5 5 5 5 5 5 5 5 5 5 5 \n",
      "                                   6 6 6 6 6 6 6 6 6 6 6 6 6 6 6 \n",
      "                                    7 7 7 7 7 7 7 7 7 7 7 7 7 7 \n",
      "                                     8 8 8 8 8 8 8 8 8 8 8 8 8 \n",
      "                                      9 9 9 9 9 9 9 9 9 9 9 9 \n",
      "                                       0 0 0 0 0 0 0 0 0 0 0 \n",
      "                                        1 1 1 1 1 1 1 1 1 1 \n",
      "                                         2 2 2 2 2 2 2 2 2 \n",
      "                                          3 3 3 3 3 3 3 3 \n",
      "                                           4 4 4 4 4 4 4 \n",
      "                                            5 5 5 5 5 5 \n",
      "                                             6 6 6 6 6 \n",
      "                                              7 7 7 7 \n",
      "                                               8 8 8 \n",
      "                                                9 9 \n",
      "                                                 0 \n"
     ]
    }
   ],
   "source": [
    "def pattern(n): \n",
    "    boşluk = \" \"\n",
    "    for i in range(1,n + 1):\n",
    "        print(boşluk * (i - 1), end = \"\")\n",
    "        for j in range(n,0,-1):\n",
    "            print(i % 10, end = \" \")\n",
    "        n -= 1\n",
    "        print(\"\")\n",
    "        \n",
    "pattern(50)"
   ]
  },
  {
   "cell_type": "code",
   "execution_count": 59,
   "id": "4c13d7c8",
   "metadata": {},
   "outputs": [
    {
     "data": {
      "text/plain": [
       "' 1 1 1 1 1 1 1 1 1 1\\n  2 2 2 2 2 2 2 2 2\\n   3 3 3 3 3 3 3 3\\n    4 4 4 4 4 4 4\\n     5 5 5 5 5 5\\n      6 6 6 6 6\\n       7 7 7 7\\n        8 8 8\\n         9 9\\n          0'"
      ]
     },
     "execution_count": 59,
     "metadata": {},
     "output_type": "execute_result"
    }
   ],
   "source": [
    "def pattern(_n):\n",
    "    return '\\n'.join(' '*i + (' ' + str((i+1)%10))*(_n-i) for i in range(_n))\n",
    "\n",
    "pattern(10)"
   ]
  },
  {
   "cell_type": "markdown",
   "id": "47919dab",
   "metadata": {},
   "source": [
    "The goal of this Kata is to reduce the passed integer to a single digit (if not already) by converting the number to binary, taking the sum of the binary digits, and if that sum is not a single digit then repeat the process.\n",
    "\n",
    "If the passed integer is already a single digit there is no need to reduce\n",
    "n will be an integer such that 0 < n < 10^20\n",
    "For example given 5665 the function should return 5:\n",
    "\n",
    "5665 --> (binary) 1011000100001\n",
    "1011000100001 --> (sum of binary digits) 5\n",
    "Given 123456789 the function should return 1:\n",
    "\n",
    "123456789 --> (binary) 111010110111100110100010101\n",
    "111010110111100110100010101 --> (sum of binary digits) 16\n",
    "16 --> (binary) 10000\n",
    "10000 --> (sum of binary digits) 1\n"
   ]
  },
  {
   "cell_type": "code",
   "execution_count": 41,
   "id": "66cbef0f",
   "metadata": {},
   "outputs": [
    {
     "data": {
      "text/plain": [
       "1101110100000010"
      ]
     },
     "execution_count": 41,
     "metadata": {},
     "output_type": "execute_result"
    }
   ],
   "source": [
    "def single_digi(n):\n",
    "    bins = \"\"\n",
    "    while n // 2 >= 1:\n",
    "        bins += str(n % 2)\n",
    "        n = n // 2\n",
    "    else:\n",
    "        bins += str(n)\n",
    "\n",
    "    return int(bins[::-1])\n",
    "    \n",
    "single_digi(56578)\n",
    "                \n",
    "        "
   ]
  },
  {
   "cell_type": "code",
   "execution_count": 42,
   "id": "13354067",
   "metadata": {},
   "outputs": [
    {
     "data": {
      "text/plain": [
       "1"
      ]
     },
     "execution_count": 42,
     "metadata": {},
     "output_type": "execute_result"
    }
   ],
   "source": [
    "def single_digi(n):\n",
    "    bins = \"\"\n",
    "    while n // 2 >= 1:\n",
    "        bins += str(n % 2)\n",
    "        n = n // 2\n",
    "    else:\n",
    "        bins += str(n)\n",
    "    toplam = 0\n",
    "    for i in bins:\n",
    "        toplam += int(i)\n",
    "    \n",
    "    if toplam > 9:\n",
    "        return single_digi(toplam)\n",
    "    else:\n",
    "        return toplam\n",
    "        \n",
    "single_digi(123456789)"
   ]
  },
  {
   "cell_type": "code",
   "execution_count": null,
   "id": "803c4388",
   "metadata": {},
   "outputs": [],
   "source": [
    "def single_digit(n):\n",
    "    while n > 9:\n",
    "        n = bin(n).count(\"1\")\n",
    "    return n"
   ]
  },
  {
   "cell_type": "markdown",
   "id": "a575746a",
   "metadata": {},
   "source": [
    "Ters Sayı, ters çevrildiğinde aynı olan bir sayıdır.\n",
    "For Example;\n",
    "  0, 1, 2, 3, 4, 5, 6, 7, 8, 9, 11, 22, 33, 44, 55, 66, 77, 88, 99, 101 => First 20 Reverse Numbers\n",
    "GÖREV:\n",
    "\n",
    "n'inci ters numarayı döndürmeniz gerekir. (Örnekte gösterildiği gibi ters sayıların 0'dan başladığını varsayın.)\n",
    "NOTES:\n",
    "\n",
    "0 < n <= 1000000"
   ]
  },
  {
   "cell_type": "code",
   "execution_count": 9,
   "id": "1afa0960",
   "metadata": {},
   "outputs": [
    {
     "data": {
      "text/plain": [
       "19"
      ]
     },
     "execution_count": 9,
     "metadata": {},
     "output_type": "execute_result"
    }
   ],
   "source": [
    "def find_reverse_number(n):\n",
    "    if 0 < n <= 1000000 :\n",
    "        sayac = 0\n",
    "        for i in range(n):\n",
    "            if str(i) == str(i)[::-1]:\n",
    "                sayac += 1\n",
    "    return sayac\n",
    "    \n",
    "find_reverse_number(100)"
   ]
  },
  {
   "cell_type": "code",
   "execution_count": 15,
   "id": "44072f21",
   "metadata": {},
   "outputs": [
    {
     "data": {
      "text/plain": [
       "1999"
      ]
     },
     "execution_count": 15,
     "metadata": {},
     "output_type": "execute_result"
    }
   ],
   "source": [
    "def find_reverse_number(n):\n",
    "    sayac = 0\n",
    "    while sayac <= n:\n",
    "        for i in range(1000000):\n",
    "            if str(i) == str(i)[::-1]:\n",
    "                sayac += 1\n",
    "                \n",
    "\n",
    "find_reverse_number(100)\n",
    "            "
   ]
  },
  {
   "cell_type": "markdown",
   "id": "722664e5",
   "metadata": {},
   "source": [
    "The Pell sequence is the sequence of integers defined by the initial values\n",
    "\n",
    "P(0) = 0, P(1) = 1\n",
    "and the recurrence relation\n",
    "\n",
    "P(n) = 2 * P(n-1) + P(n-2)\n",
    "The first few values of P(n) are\n",
    "\n",
    "0, 1, 2, 5, 12, 29, 70, 169, 408, 985, 2378, 5741, 13860, 33461, 80782, 195025, 470832, ...\n",
    "Task\n",
    "Your task is to write a method that returns nth Pell number"
   ]
  },
  {
   "cell_type": "code",
   "execution_count": 20,
   "id": "257f09b1",
   "metadata": {},
   "outputs": [
    {
     "name": "stdout",
     "output_type": "stream",
     "text": [
      "0, 1, 2, 5, 12, 29, 70, 169, 408, 985, 2378\n"
     ]
    }
   ],
   "source": [
    "def get(n):\n",
    "    liste = []\n",
    "    for i in range(n + 1):\n",
    "        if i == 0:\n",
    "            liste.append(i)\n",
    "        elif i == 1:\n",
    "            liste.append(i)\n",
    "        else:\n",
    "            liste.append(2 * liste[i - 1] + liste[i - 2])\n",
    "    return liste\n",
    "print(*get(10), sep= \", \")\n",
    "            \n",
    "        "
   ]
  },
  {
   "cell_type": "markdown",
   "id": "a329dc48",
   "metadata": {},
   "source": [
    "önsöz\n",
    "MS Paint'i tarayıcıya taşıyan bir ekibin parçasısınız ve şu anda kullanıcının tuval yakınlaştırma düzeyini kontrol etmesine olanak tanıyan yeni bir UI bileşeni üzerinde çalışıyorsunuz.\n",
    "\n",
    "PowerPoint formatında size teslim edilen tel çerçevelere göre, kullanıcı, kullanıcı arayüzündeki bir düğmeye art arda tıklayarak belirtilen yakınlaştırma seviyeleri arasında geçiş yapabilmelidir. Ters yön, shift tuşu basılı tutulduğunda çalışmalıdır.\n",
    "\n",
    "Bu davranışı desteklemek için yeni bir işleve ihtiyaç vardır, bu nedenle Visual Studio'ya alt sekme yapıp çalışmaya başlayabilirsiniz.\n",
    "Talimatlar\n",
    "Argümanlar verildiğinde bir işlev uygulayın\n",
    "\n",
    "Geçerli değerin döndürüleceği yön\n",
    "Değerler listesi\n",
    "Mevcut değer\n",
    "belirtilen yönde geçerli değerin yanındaki değeri döndürür.\n",
    "\n",
    "Verilen yönde herhangi bir değer olmaması durumunda fonksiyon listenin diğer tarafından bir sonraki değeri seçmelidir.\n",
    "\n",
    "Örnekler\n",
    "#Given the direction 1, returns the value next to 1 on the right\n",
    "cycGiven the direction -1 and value 1, wraps around list returning the last element\n",
    "cycle(-1, [1,2,3], 1)  # => 3\n",
    "\n",
    " 0 does not exist in the list, returns null\n",
    "cycle(1, [1,2,3], 0)   # => null\n",
    "\n",
    "#Corner case: multiple instances of given value, picks next relative to first occurrence\n",
    "cycle(1, [1,2,2,3], 2) # => 2\n",
    "    "
   ]
  },
  {
   "cell_type": "code",
   "execution_count": null,
   "id": "66b4c700",
   "metadata": {},
   "outputs": [],
   "source": []
  },
  {
   "cell_type": "markdown",
   "id": "3f638a04",
   "metadata": {},
   "source": [
    "Imagine a triangle of numbers which follows this pattern:\n",
    "\n",
    "Starting with the number \"1\", \"1\" is positioned at the top of the triangle. As this is the 1st row, it can only support a single number.\n",
    "The 2nd row can support the next 2 numbers: \"2\" and \"3\"\n",
    "Likewise, the 3rd row, can only support the next 3 numbers: \"4\", \"5\", \"6\"\n",
    "And so on; this pattern continues.\n",
    "    1\n",
    "   2 3\n",
    "  4 5 6\n",
    " 7 8 9 10\n",
    "...\n",
    "Given N, return the sum of all numbers on the Nth Row:\n",
    "\n",
    "1 <= N <= 10,000"
   ]
  },
  {
   "cell_type": "code",
   "execution_count": 9,
   "id": "b4f16cb5",
   "metadata": {},
   "outputs": [
    {
     "data": {
      "text/plain": [
       "[4, 5, 6, 7]"
      ]
     },
     "execution_count": 9,
     "metadata": {},
     "output_type": "execute_result"
    }
   ],
   "source": [
    "def cumulative_triangle(n):\n",
    "    satır = n\n",
    "    liste = []\n",
    "    for i in range(10001):\n",
    "        for j in range(i,i+i)\n",
    "\n",
    "cumulative_triangle(4)\n",
    "\n",
    "\n",
    "        \n",
    "            "
   ]
  },
  {
   "cell_type": "markdown",
   "id": "72f204c2",
   "metadata": {},
   "source": [
    "Given the triangle of consecutive odd numbers:\n",
    "\n",
    "             1\n",
    "          3     5\n",
    "       7     9    11\n",
    "   13    15    17    19\n",
    "21    23    25    27    29\n",
    "...\n",
    "Calculate the sum of the numbers in the nth row of this triangle (starting at index 1) e.g.: (Input --> Output)\n",
    "\n",
    "1 -->  1\n",
    "2 --> 3 + 5 = 8"
   ]
  },
  {
   "cell_type": "code",
   "execution_count": 1,
   "id": "388190bb",
   "metadata": {},
   "outputs": [
    {
     "data": {
      "text/plain": [
       "64"
      ]
     },
     "execution_count": 1,
     "metadata": {},
     "output_type": "execute_result"
    }
   ],
   "source": [
    "def row_sum_odd_numbers(n):\n",
    "    m = 1\n",
    "    liste = []\n",
    "    while m <= n:\n",
    "        for i in range((n * (n-1)) + 1, (n * n) + n, 2):\n",
    "            liste.append(i)\n",
    "        m += 1\n",
    "        break\n",
    "\n",
    "    return sum(liste)\n",
    "\n",
    "row_sum_odd_numbers(4)\n",
    "        "
   ]
  },
  {
   "cell_type": "markdown",
   "id": "fb3d8162",
   "metadata": {},
   "source": [
    "aşağıdaki IPv4 adresini alın: 128.32.10.1\n",
    "\n",
    "Bu adres, her bir sekizlinin tek bir bayt (veya 8 bit) olduğu 4 sekizliye sahiptir.\n",
    "\n",
    "1. sekizli 128 ikili gösterime sahiptir: 10000000\n",
    "2. sekizli 32 ​​ ikili gösterime sahiptir: 00100000\n",
    "3. sekizli 10 ikili gösterime sahiptir: 00001010\n",
    "4. sekizli 1 ikili gösterime sahiptir: 00000001\n",
    "Yani 128.32.10.1 == 10000000.00100000.00001010.00000001\n",
    "\n",
    "Yukarıdaki IP adresi 32 bit olduğundan, onu işaretsiz 32 bit sayı olarak gösterebiliriz: 2149583361\n",
    "\n",
    "İşaretsiz 32 bitlik bir sayı alan ve IPv4 adresinin dize gösterimini döndüren işlevi tamamlayın.\n",
    "2149583361 ==> \"128.32.10.1\"\n",
    "32         ==> \"0.0.0.32\"\n",
    "0          ==> \"0.0.0.0\""
   ]
  },
  {
   "cell_type": "code",
   "execution_count": 95,
   "id": "9a63611c",
   "metadata": {
    "scrolled": true
   },
   "outputs": [
    {
     "data": {
      "text/plain": [
       "'128.32.10.1'"
      ]
     },
     "execution_count": 95,
     "metadata": {},
     "output_type": "execute_result"
    }
   ],
   "source": [
    "def int32_to_ip(int32):\n",
    "    a = str(bin(int32)).lstrip(\"0b\")\n",
    "    liste = []\n",
    "    n = 0\n",
    "    m = 8\n",
    "    for i in range(4):\n",
    "        liste.append(a[n:m])\n",
    "        n += 8\n",
    "        m += 8\n",
    "    ip = \"\"    \n",
    "    for j in liste:\n",
    "        ip += str(int(j,2)) + \".\"\n",
    "    return (ip.rstrip(\".\"))\n",
    "\n",
    "int32_to_ip(2149583361)\n",
    "    "
   ]
  },
  {
   "cell_type": "code",
   "execution_count": 97,
   "id": "5f1f3210",
   "metadata": {},
   "outputs": [
    {
     "data": {
      "text/plain": [
       "'0.0.0.32'"
      ]
     },
     "execution_count": 97,
     "metadata": {},
     "output_type": "execute_result"
    }
   ],
   "source": [
    "from ipaddress import IPv4Address\n",
    "\n",
    "def int32_to_ip(int32):\n",
    "    return str(IPv4Address(int32))\n",
    "\n",
    "int32_to_ip(32)"
   ]
  },
  {
   "cell_type": "markdown",
   "id": "eaf2169a",
   "metadata": {},
   "source": [
    "A Narcissistic Number is a number of length n in which the sum of its digits to the power of n is equal to the original number. If this seems confusing, refer to the example below.\n",
    "\n",
    "Ex: 153, where n = 3 (number of digits in 153)\n",
    "13 + 53 + 33 = 153\n",
    "\n",
    "Write a method is_narcissistic(i) (in Haskell: isNarcissistic :: Integer -> Bool) which returns whether or not i is a Narcissistic Number."
   ]
  },
  {
   "cell_type": "code",
   "execution_count": 44,
   "id": "2214302a",
   "metadata": {},
   "outputs": [
    {
     "data": {
      "text/plain": [
       "False"
      ]
     },
     "execution_count": 44,
     "metadata": {},
     "output_type": "execute_result"
    }
   ],
   "source": [
    "def is_narcissistic(i):\n",
    "    toplam = 0\n",
    "    for j in str(i):\n",
    "        toplam += int(j) ** len(str(i))\n",
    "    if toplam == i:\n",
    "        return True\n",
    "    else:\n",
    "        return False\n",
    "    \n",
    "is_narcissistic(11)\n",
    "        "
   ]
  },
  {
   "cell_type": "markdown",
   "id": "708625d1",
   "metadata": {},
   "source": [
    "Pozitif bir tam sayı n: 0 < n < 1e6 verildiğinde, üçün katı olan bir sayı kalana kadar son basamağı kaldırın.\n",
    "\n",
    "Girdi zaten üçün katıysa n döndürün ve böyle bir sayı yoksa null/nil/None/-1 döndürün.\n",
    "1      => null\n",
    "25     => null\n",
    "36     => 36\n",
    "1244   => 12\n",
    "952406 => 9"
   ]
  },
  {
   "cell_type": "code",
   "execution_count": 61,
   "id": "b5d31f64",
   "metadata": {},
   "outputs": [
    {
     "data": {
      "text/plain": [
       "53283"
      ]
     },
     "execution_count": 61,
     "metadata": {},
     "output_type": "execute_result"
    }
   ],
   "source": [
    "def prev_mult_of_three(n):\n",
    "    if n % 3 == 0:\n",
    "        return n\n",
    "    else:\n",
    "        str_ = \"\"\n",
    "        for i in str(n):\n",
    "            if int(i) % 3 == 0:\n",
    "                str_ += i\n",
    "                return int(str_)\n",
    "            else:\n",
    "                str_ += i\n",
    "                if int(str_) % 3 == 0:\n",
    "                    return int(str_)\n",
    "            \n",
    "prev_mult_of_three(53283)\n",
    "        "
   ]
  },
  {
   "cell_type": "code",
   "execution_count": 63,
   "id": "ae88e3a8",
   "metadata": {},
   "outputs": [
    {
     "data": {
      "text/plain": [
       "53283"
      ]
     },
     "execution_count": 63,
     "metadata": {},
     "output_type": "execute_result"
    }
   ],
   "source": [
    "def prev_mult_of_three(n):\n",
    "    while n % 3:\n",
    "        n //= 10\n",
    "    return n or None\n",
    "\n",
    "prev_mult_of_three(53283)"
   ]
  },
  {
   "cell_type": "markdown",
   "id": "d6d989c9",
   "metadata": {},
   "source": [
    "3 a, b, c tamsayı değerini kabul eden bir fonksiyon uygulayın. Kenarları verilen uzunlukta bir üçgen oluşturulabiliyorsa işlev true, başka bir durumda false döndürmelidir.\n",
    "\n",
    "(Bu durumda, tüm üçgenlerin kabul edilmesi için 0'dan büyük bir yüzeye sahip olması gerekir).\n",
    " "
   ]
  },
  {
   "cell_type": "code",
   "execution_count": null,
   "id": "11daf617",
   "metadata": {},
   "outputs": [],
   "source": [
    "def is_triangle(a, b, c):\n",
    "    if a < b + c and b < a + c and c < a + b:\n",
    "        return True\n",
    "    else:\n",
    "        return False\n",
    "    \n"
   ]
  },
  {
   "cell_type": "markdown",
   "id": "1d07fa8c",
   "metadata": {},
   "source": [
    "You need to write a function grid that returns an alphabetical grid of size NxN, where a = 0, b = 1, c = 2....\n",
    "\n",
    "Examples:\n",
    "grid(4)\n",
    "\n",
    "a b c d\n",
    "b c d e\n",
    "c d e f\n",
    "d e f g\n",
    "grid(10)\n",
    "\n",
    "a b c d e f g h i j\n",
    "b c d e f g h i j k\n",
    "c d e f g h i j k l\n",
    "d e f g h i j k l m\n",
    "e f g h i j k l m n\n",
    "f g h i j k l m n o\n",
    "g h i j k l m n o p\n",
    "h i j k l m n o p q\n",
    "i j k l m n o p q r\n",
    "j k l m n o p q r s\n",
    "Notes:\n",
    "After \"z\" comes \"a\"\n",
    "If function receive N < 0 should return:"
   ]
  },
  {
   "cell_type": "code",
   "execution_count": 23,
   "id": "24b78594",
   "metadata": {},
   "outputs": [
    {
     "name": "stdout",
     "output_type": "stream",
     "text": [
      "a b c d e f g h i j \n",
      "b c d e f g h i j k \n",
      "c d e f g h i j k l \n",
      "d e f g h i j k l m \n",
      "e f g h i j k l m n \n",
      "f g h i j k l m n o \n",
      "g h i j k l m n o p \n",
      "h i j k l m n o p q \n",
      "i j k l m n o p q r \n",
      "j k l m n o p q r s \n"
     ]
    }
   ],
   "source": [
    "alpha = \"abcdefghijklmnopqrstuvwxyz\"\n",
    "def grid(n):\n",
    "    artış = 0\n",
    "    for i in range(n):\n",
    "        for j in alpha[i:n + artış]:\n",
    "            print(j, end = \" \")\n",
    "        artış += 1\n",
    "        print(\"\")\n",
    "        \n",
    "grid(10)\n",
    "    "
   ]
  },
  {
   "cell_type": "code",
   "execution_count": 10,
   "id": "35fa2d1c",
   "metadata": {},
   "outputs": [
    {
     "data": {
      "text/plain": [
       "15"
      ]
     },
     "execution_count": 10,
     "metadata": {},
     "output_type": "execute_result"
    }
   ],
   "source": [
    "def binary_array_to_number(arr):\n",
    "    return int(str(arr),2)\n",
    "\n",
    "binary_array_to_number(1111)\n",
    "    "
   ]
  },
  {
   "cell_type": "code",
   "execution_count": 15,
   "id": "8d08e675",
   "metadata": {},
   "outputs": [
    {
     "data": {
      "text/plain": [
       "15"
      ]
     },
     "execution_count": 15,
     "metadata": {},
     "output_type": "execute_result"
    }
   ],
   "source": [
    "def binary_array_to_number(arr):\n",
    "    toplam = 0\n",
    "    kuv = 0\n",
    "    for i in list(reversed(arr)):\n",
    "        toplam += i * 2 ** kuv\n",
    "        kuv += 1\n",
    "    return toplam\n",
    "\n",
    "binary_array_to_number([1,1,1,1])\n",
    "        "
   ]
  },
  {
   "cell_type": "markdown",
   "id": "3784ac23",
   "metadata": {},
   "source": [
    "Siz bir khmmadkhm bilimcisisiniz ve atomun kabukları arasında elektron dağılımı ile oynamaya karar verdiniz. Elektron dağılımının temel fikrinin, elektronların maksimum sayıda elektron tutana kadar bir kabuğu doldurması gerektiği olduğunu biliyorsunuz.\n",
    "Tüzük:\n",
    "\n",
    "Bir kabuktaki maksimum elektron sayısı 2n^2 kuralıyla dağıtılır (n bir kabuğun konumudur).\n",
    "Örneğin 3. kalkandaki maksimum elektron sayısı 2*3^2 = 18'dir.\n",
    "Elektronlar önce en düşük seviyeli kabuğu doldurmalıdır.\n",
    "Elektronlar en düşük seviyeli kabuğu tamamen doldurduysa, diğer boş elektronlar daha yüksek seviyeli kabuğu dolduracak ve bu böyle devam edecektir.\n",
    "Ex.:    atomicNumber(1); should return [1]\n",
    "        atomicNumber(10); should return [2, 8]\n",
    "        atomicNumber(11); should return [2, 8, 1]\n",
    "        atomicNumber(47); should return [2, 8, 18, 19]"
   ]
  },
  {
   "cell_type": "code",
   "execution_count": 16,
   "id": "628793e5",
   "metadata": {},
   "outputs": [
    {
     "data": {
      "text/plain": [
       "[2, 8, 18, 32, 1]"
      ]
     },
     "execution_count": 16,
     "metadata": {},
     "output_type": "execute_result"
    }
   ],
   "source": [
    "def atomic_number(n):\n",
    "    toplam = 0\n",
    "    sayac = 1\n",
    "    lst = []\n",
    "    while True:\n",
    "        toplam += 2 * (sayac ** 2)\n",
    "        if n == 1:\n",
    "            lst.append(1)\n",
    "        elif toplam <= n:\n",
    "            lst.append((2 * (sayac ** 2)))\n",
    "        else:\n",
    "            break\n",
    "        sayac += 1\n",
    "    lst.append(n-(toplam-(2 * (sayac ** 2))))\n",
    "    \n",
    "    return lst\n",
    "\n",
    "atomic_number(61)\n",
    "            \n",
    "            \n",
    "        \n",
    "    "
   ]
  },
  {
   "cell_type": "code",
   "execution_count": 18,
   "id": "8b52ff4e",
   "metadata": {},
   "outputs": [
    {
     "data": {
      "text/plain": [
       "[2, 8, 1]"
      ]
     },
     "execution_count": 18,
     "metadata": {},
     "output_type": "execute_result"
    }
   ],
   "source": [
    "def atomic_number(electrons):\n",
    "    result = []\n",
    "    i = 1\n",
    "    while electrons > 0:\n",
    "        result.append(min(2 * (i ** 2), electrons))\n",
    "        electrons -= result[-1]\n",
    "        i += 1\n",
    "    return result\n",
    "\n",
    "atomic_number(11)"
   ]
  },
  {
   "cell_type": "markdown",
   "id": "ac4db6c6",
   "metadata": {},
   "source": [
    "Bir ATM'de 10 dolarlık banknotlar bitti ve sadece 100, 50 ve 20 dolarlık banknotlar var.\n",
    "40 ila 10000 dolar (dahil) arasında bir miktar verildiğinde ve ATM'nin mümkün olduğunca az fatura kullanmak istediğini varsayarak, ATM'nin dağıtması gereken minimum 100, 50 ve 20 dolarlık banknot sayısını belirleyin (bu sırayla).\n",
    "Example\n",
    "For n = 250, the result should be [2, 1, 0].\n",
    "\n",
    "For n = 260, the result should be [2, 0, 3].\n",
    "\n",
    "For n = 370, the result should be [3, 1, 1].\n",
    "\n",
    "[giriş] tamsayı n Çekilecek para miktarı. n'nin her zaman [100, 50, 20] senetler ile değiştirilebildiğini varsayalım.\n",
    "[output] integer array An array of number of 100, 50 and 20 dollar bills needed to complete the withdraw (in that order).\n",
    "\n"
   ]
  },
  {
   "cell_type": "code",
   "execution_count": 18,
   "id": "63ea7ce8",
   "metadata": {},
   "outputs": [
    {
     "name": "stdout",
     "output_type": "stream",
     "text": [
      "[1, 1, 4]\n"
     ]
    }
   ],
   "source": [
    "def withdraw(n):\n",
    "    n50 = 0\n",
    "    n20, r = divmod(n, 20)\n",
    "    if r == 10:\n",
    "        n20 -= 2\n",
    "        n50 += 1\n",
    "    n100, n20 = divmod(n20, 5)\n",
    "    return [n100, n50, n20]\n",
    "    \n",
    "print(withdraw(230))"
   ]
  },
  {
   "cell_type": "markdown",
   "id": "efc08d26",
   "metadata": {},
   "source": [
    "Hisse senedi fiyatlarından en fazla karı döndürün.\n",
    "\n",
    "Hisse senedi fiyatları, tarih sırasına göre bir dizide saklanır. Hisse senedi karı, hisse senedi alım ve satımındaki fiyatlar arasındaki farktır. Her gün, bir birim hisse senedi satın alabilir, daha önce satın aldığınız herhangi bir sayıda hisse senedi birimini satabilir veya hiçbir şey yapmayabilirsiniz. Bu nedenle, en fazla kâr, bir dizi hisse senedi fiyatlarındaki tüm çiftlerin maksimum farkıdır.\n",
    "@param {array} quotes\n",
    "@return {number} max profit\n",
    "Example:\n",
    "\n",
    " [ 1, 2, 3, 4, 5, 6 ]        => 15  (buy at 1,2,3,4,5 and then sell all at 6)\n",
    " [ 6, 5, 4, 3, 2, 1 ]        => 0   (nothing to buy for profit)\n",
    " [ 1, 6, 5, 10, 8, 7 ]       => 18  (buy at 1,6,5 and sell all at 10)\n",
    " [ 1, 2, 10, 3, 2, 7, 3, 2 ] => 26  (buy at 1,2 and sell them at 10. Then buy at 3,2 and sell them at 7)"
   ]
  },
  {
   "cell_type": "code",
   "execution_count": 8,
   "id": "2d590d46",
   "metadata": {},
   "outputs": [
    {
     "data": {
      "text/plain": [
       "26"
      ]
     },
     "execution_count": 8,
     "metadata": {},
     "output_type": "execute_result"
    }
   ],
   "source": [
    "def get_most_profit_from_stock_quotes(quotes): \n",
    "    return sum(max(quotes[i:]) - q for i, q in enumerate(quotes))\n",
    "\n",
    "get_most_profit_from_stock_quotes([ 1, 2, 10, 3, 2, 7, 3, 2 ])"
   ]
  }
 ],
 "metadata": {
  "kernelspec": {
   "display_name": "Python 3",
   "language": "python",
   "name": "python3"
  },
  "language_info": {
   "codemirror_mode": {
    "name": "ipython",
    "version": 3
   },
   "file_extension": ".py",
   "mimetype": "text/x-python",
   "name": "python",
   "nbconvert_exporter": "python",
   "pygments_lexer": "ipython3",
   "version": "3.8.8"
  }
 },
 "nbformat": 4,
 "nbformat_minor": 5
}
