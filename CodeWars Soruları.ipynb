{
 "cells": [
  {
   "cell_type": "markdown",
   "id": "f472e18c",
   "metadata": {},
   "source": [
    "Amerikalılar tuhaf insanlar: binalarında birinci kat aslında zemin kat ve 13. kat yok (batıl inançtan dolayı).\n",
    "\n",
    "Amerikan sisteminde bir kat verilen Avrupa sisteminde katını döndüren bir fonksiyon yazın.\n",
    "\n",
    "1. katın zemin katın yerini alması ve 13. katın kaldırılmasıyla birlikte rakamlar aşağıya doğru inerek yerlerini alıyor. 13'ün üzerinde olması durumunda, ikişer aşağı hareket ederler çünkü altlarında atlanmış iki sayı vardır.\n",
    "\n",
    "Bodrumlar (negatifler) evrensel seviye ile aynı kalır.\n",
    "1  =>  0 \n",
    "0  =>  0\n",
    "5  =>  4\n",
    "15  =>  13"
   ]
  },
  {
   "cell_type": "code",
   "execution_count": 5,
   "id": "afd58e39",
   "metadata": {},
   "outputs": [
    {
     "data": {
      "text/plain": [
       "-1"
      ]
     },
     "execution_count": 5,
     "metadata": {},
     "output_type": "execute_result"
    }
   ],
   "source": [
    "def get_real_floor(n):\n",
    "    if n <= 0:\n",
    "        return n\n",
    "    elif n > 0 and n < 13:\n",
    "        return n - 1\n",
    "    elif n > 13:\n",
    "        return n - 2\n",
    "    \n",
    "get_real_floor(-1)"
   ]
  },
  {
   "cell_type": "markdown",
   "id": "f56bec70",
   "metadata": {},
   "source": [
    "Bir sayı verildiğinde, ters rakamlarını çıkaracak bir fonksiyon yazın. (ör. 123 verildiğinde cevap 321'dir)\n",
    "\n",
    "Sayılar işaretlerini korumalıdır; yani negatif bir sayı, tersine çevrildiğinde yine de negatif olmalıdır.\n",
    " 123 ->  321\n",
    "-456 -> -654\n",
    "1000 ->    1"
   ]
  },
  {
   "cell_type": "code",
   "execution_count": 45,
   "id": "ac918d34",
   "metadata": {},
   "outputs": [
    {
     "name": "stdout",
     "output_type": "stream",
     "text": [
      "321"
     ]
    }
   ],
   "source": [
    "def reverseNumber(n):\n",
    "    if n >= 0:\n",
    "        return int(str(n)[::-1])\n",
    "    else:\n",
    "        return int(str(n).strip('-')[::-1])*-1\n",
    "\n",
    "reverse_number(123)"
   ]
  },
  {
   "cell_type": "markdown",
   "id": "f433ca09",
   "metadata": {},
   "source": [
    "Bir lisenin tuhaf bir müdürü vardır. İlk gün öğrencilerine tuhaf bir açılış töreni yaptırır:\n",
    "\n",
    "Okulda kilitli dolap sayısı \"n\" ve öğrenci sayısı \"n\" bulunmaktadır. Müdür, ilk öğrenciden her dolaba gitmesini ve açmasını ister. Sonra ikinci öğrenciye her ikinci dolaba gitmesini ve kapatmasını sağlar. Üçüncüsü her üç dolaba gider ve kapalıysa açar, açıksa kapatır. Dördüncü öğrenci bunu her dört dolaba bir yapar ve bu böyle devam eder. \"n\" numaralı öğrenci ile işlem tamamlandıktan sonra kaç tane dolap açık olur?\n",
    "\n",
    "Görev, herhangi bir sayıyı girdi olarak alan ve sonuncusu etkinliğini tamamladıktan sonra açık dolapların sayısını döndüren bir fonksiyon yazmaktır. Yani fonksiyonun girişi, dolap sayısını ve öğrenci sayısını gösteren sadece bir sayıdır. Örneğin, okulda 1000 dolap ve 1000 öğrenci varsa, giriş 1000'dir ve işlev, 1000. öğrenci işlemini tamamladıktan sonra açık dolap sayısını döndürür.\n",
    "\n",
    "Verilen girdi her zaman sıfırdan büyük veya sıfıra eşit bir tamsayıdır, bu nedenle doğrulamaya gerek yoktur.\n"
   ]
  },
  {
   "cell_type": "code",
   "execution_count": 59,
   "id": "0b6978d9",
   "metadata": {},
   "outputs": [
    {
     "name": "stdout",
     "output_type": "stream",
     "text": [
      "0 -> [True, True, True, True, True, True, True, True, True, True]\n",
      "1 -> [True, False, True, False, True, False, True, False, True, False]\n",
      "2 -> [True, False, False, False, True, True, True, False, False, False]\n",
      "3 -> [True, False, False, True, True, True, True, True, False, False]\n",
      "4 -> [True, False, False, True, False, True, True, True, False, True]\n",
      "5 -> [True, False, False, True, False, False, True, True, False, True]\n",
      "6 -> [True, False, False, True, False, False, False, True, False, True]\n",
      "7 -> [True, False, False, True, False, False, False, False, False, True]\n",
      "8 -> [True, False, False, True, False, False, False, False, True, True]\n",
      "9 -> [True, False, False, True, False, False, False, False, True, False]\n"
     ]
    },
    {
     "data": {
      "text/plain": [
       "3"
      ]
     },
     "execution_count": 59,
     "metadata": {},
     "output_type": "execute_result"
    }
   ],
   "source": [
    "def num_of_open_lockers_(n):\n",
    "    lockers = [False] * n\n",
    "    for i in range(n):\n",
    "        for j in range(i, n, i + 1):\n",
    "            lockers[j] = not lockers[j]\n",
    "        print(f\"{i} -> {lockers}\")\n",
    "    return sum(lockers)\n",
    "\n",
    "num_of_open_lockers_(10)"
   ]
  },
  {
   "cell_type": "code",
   "execution_count": 61,
   "id": "adf129bc",
   "metadata": {},
   "outputs": [
    {
     "data": {
      "text/plain": [
       "100"
      ]
     },
     "execution_count": 61,
     "metadata": {},
     "output_type": "execute_result"
    }
   ],
   "source": [
    "def num_of_open_lockers(n):\n",
    "    return int(n**.5)\n",
    "\n",
    "num_of_open_lockers(10000)"
   ]
  },
  {
   "cell_type": "markdown",
   "id": "c823d735",
   "metadata": {},
   "source": [
    "Write a function that returns only the decimal part of the given number.\n",
    "\n",
    "You only have to handle valid numbers, not Infinity, NaN, or similar. Always return a positive decimal part.\n",
    "\n",
    "Examples\n",
    "get_decimal(2.4)  # 0.4\n",
    "get_decimal(-0.2) # 0.2"
   ]
  },
  {
   "cell_type": "code",
   "execution_count": 84,
   "id": "20caeeef",
   "metadata": {},
   "outputs": [
    {
     "data": {
      "text/plain": [
       "0.54"
      ]
     },
     "execution_count": 84,
     "metadata": {},
     "output_type": "execute_result"
    }
   ],
   "source": [
    "def get_demical(n):\n",
    "    n = abs(n)\n",
    "    n = str(n)\n",
    "    m = n.index(\".\")\n",
    "    k = str(n)[m:]\n",
    "    j = (\"0\" + k)\n",
    "    return float(j)\n",
    "\n",
    "get_demical(-21.54)"
   ]
  },
  {
   "cell_type": "code",
   "execution_count": 86,
   "id": "14efdead",
   "metadata": {},
   "outputs": [
    {
     "data": {
      "text/plain": [
       "0.3100000000000005"
      ]
     },
     "execution_count": 86,
     "metadata": {},
     "output_type": "execute_result"
    }
   ],
   "source": [
    "def get_decimal(n): \n",
    "    n = abs(n)\n",
    "    return n - int(n)\n",
    "\n",
    "get_decimal(12.31)"
   ]
  },
  {
   "cell_type": "markdown",
   "id": "e47b61b9",
   "metadata": {},
   "source": [
    "Tanım\n",
    "Rakamlar yalnızca 0, 1, 2, 3, 4 veya 5'ten oluşuyorsa bir sayı Özel Sayıdır.\n",
    "\n",
    "Verilen bir sayının özel sayı olup olmadığını belirleyiniz."
   ]
  },
  {
   "cell_type": "code",
   "execution_count": 36,
   "id": "36be89dd",
   "metadata": {},
   "outputs": [
    {
     "data": {
      "text/plain": [
       "'NOT!!'"
      ]
     },
     "execution_count": 36,
     "metadata": {},
     "output_type": "execute_result"
    }
   ],
   "source": [
    "def special_number(number):\n",
    "    a = list(range(0,6))\n",
    "    sayac = 0\n",
    "    for i in str(number):\n",
    "        if int(i) not in a:\n",
    "            sayac += 1\n",
    "    \n",
    "    if sayac == 0:\n",
    "        return \"Special!!\"\n",
    "    else:\n",
    "        return \"NOT!!\"\n",
    "    \n",
    "special_number(12346)"
   ]
  },
  {
   "cell_type": "markdown",
   "id": "66710793",
   "metadata": {},
   "source": [
    "Kenarları a ve b olan bir dikdörtgende, alt köşeleri dikdörtgenin üst kenarının orta noktası ve merkeziyle birleştirilerek bir ok oluşturulur.\n"
   ]
  },
  {
   "cell_type": "code",
   "execution_count": 43,
   "id": "f625de94",
   "metadata": {},
   "outputs": [
    {
     "data": {
      "text/plain": [
       "10.5"
      ]
     },
     "execution_count": 43,
     "metadata": {},
     "output_type": "execute_result"
    }
   ],
   "source": [
    "def arrow_area(a, b):\n",
    "    n = (a * b) / 2\n",
    "    m = n / 2\n",
    "    return m\n",
    "arrow_area(7,6)"
   ]
  },
  {
   "cell_type": "markdown",
   "id": "ca88d2c2",
   "metadata": {},
   "source": [
    "Bir sayı, ancak ve ancak karesi sayının kendisi ile aynı basamaklarda bitiyorsa Otomorfik sayı olarak adlandırılır.\n",
    "Input >> Output Examples\n",
    "autoMorphic (25) -->> return \"Automorphic\" \n",
    "Explanation:\n",
    "25 squared is 625 , Ends with the same number's digits which are 25 .\n",
    "autoMorphic (13) -->> return \"Not!!\"\n",
    "Explanation:\n",
    "13 squared is 169 , Not ending with the same number's digits which are 69 ."
   ]
  },
  {
   "cell_type": "code",
   "execution_count": 62,
   "id": "cf84a3ae",
   "metadata": {},
   "outputs": [
    {
     "data": {
      "text/plain": [
       "'Not!!'"
      ]
     },
     "execution_count": 62,
     "metadata": {},
     "output_type": "execute_result"
    }
   ],
   "source": [
    "def automorphic(n):\n",
    "    m = n ** 2\n",
    "    sayac = 0\n",
    "    for i in range(-1,-(len(str(n)) + 1),-1):\n",
    "        if str(n)[i] == str(m)[i]:\n",
    "            sayac += 1\n",
    "    if sayac == len(str(n)):\n",
    "        return \"Automorphic\"\n",
    "    else:\n",
    "        return \"Not!!\"\n",
    "        \n",
    "        \n",
    "automorphic(13)\n",
    "        "
   ]
  },
  {
   "cell_type": "markdown",
   "id": "24456532",
   "metadata": {},
   "source": [
    "Pronik Sayı -Bir pronik sayı, dikdörtgen sayı, dikdörtgen sayı veya heteromekik sayı, ardışık iki tamsayının, yani n(n + 1) çarpımı olan bir sayıdır.\n",
    "  0 = 0 × 1   // ∴  0 is a Pronic Number\n",
    "  2 = 1 × 2   // ∴  2 is a Pronic Number\n",
    "  6 = 2 × 3   // ∴  6 is a Pronic Number\n",
    " 12 = 3 × 4   // ∴ 12 is a Pronic Number\n",
    " 20 = 4 × 5   // ∴ 20 is a Pronic Number\n",
    " 30 = 5 × 6   // ∴ 30 is a Pronic Number\n",
    " 42 = 6 × 7   // ∴ 42 is a Pronic Number"
   ]
  },
  {
   "cell_type": "code",
   "execution_count": 67,
   "id": "b9a0fa55",
   "metadata": {},
   "outputs": [
    {
     "data": {
      "text/plain": [
       "True"
      ]
     },
     "execution_count": 67,
     "metadata": {},
     "output_type": "execute_result"
    }
   ],
   "source": [
    "def is_pronic(n):\n",
    "    sayac = 0\n",
    "    for i in range(n + 1):\n",
    "        if i*(i+1) == n:\n",
    "            sayac += 1\n",
    "    if sayac >= 1:\n",
    "        return True\n",
    "    else:\n",
    "        return False\n",
    "\n",
    "is_pronic(0)\n",
    "            "
   ]
  },
  {
   "cell_type": "markdown",
   "id": "d5800934",
   "metadata": {},
   "source": [
    "Bu alıştırmada, bir tamsayı alan bir fonksiyon yaratacaksınız, i. Bununla birlikte şunları yapmalısınız.\n",
    "100 dahil tüm katlarını bul,\n",
    "\n",
    "Sonra her katın basamak toplamını alın (örn. 45 -> 4 + 5 = 9),\n",
    "\n",
    "Ve son olarak, her yeni basamak toplamının toplamını alın.\n",
    "Not: Bir sayının basamak toplamı 9'dan büyükse (örn. 99 -> 9 + 9 = 18), o zaman bir basamağa ulaşana kadar onu daha fazla bölmeniz GEREKMEZ.\n",
    "Example (if i is 25):\n",
    "\n",
    "Multiples of 25 up to 100 --> [25, 50, 75, 100]\n",
    "\n",
    "Digit sum of each multiple --> [7, 5, 12, 1]\n",
    "\n",
    "Sum of each new digit sum --> 25\n",
    "\n",
    "If you can, try writing it in one line of code.\n",
    "\n",
    "Edit (3/17/2017): Added random tests"
   ]
  },
  {
   "cell_type": "code",
   "execution_count": 4,
   "id": "c4112ce5",
   "metadata": {},
   "outputs": [
    {
     "name": "stdout",
     "output_type": "stream",
     "text": [
      "25\n",
      "25\n"
     ]
    }
   ],
   "source": [
    "def procedure(m):\n",
    "    liste = []\n",
    "    sayac = 1\n",
    "    while m * sayac <= 100:\n",
    "        liste.append(m * sayac)\n",
    "        sayac += 1\n",
    "    liste2 = []\n",
    "    for i in liste:\n",
    "        sayac2 = 0\n",
    "        for j in str(i):\n",
    "            sayac2 += int(j)\n",
    "        liste2.append(sayac2)\n",
    "    return sum(liste2)\n",
    "print(procedure(25))"
   ]
  },
  {
   "cell_type": "markdown",
   "id": "f1ead04a",
   "metadata": {},
   "source": [
    "Fast & Furious Driving School's (F&F) charges for lessons are as below:\n",
    "\n",
    "Hızlı ve Öfkeli Sürüş Okulu'nun (F&F) dersleri için ücretleri aşağıdaki gibidir:\n",
    "Time\tCost\n",
    "Up to 1st hour\t$30\n",
    "Every subsequent half hour**\t$10\n",
    "Örneğin, X öğrencisinin 1 saat 20 dakika dersi varsa, 1 saat 30 dakika için 40 USD (30 + 10) ve 5 dakika dersi varsa tam saat için 30 USD ücretlendirilir. .\n",
    "Dakika (dk) cinsinden belirli bir ders süresi için, dersin maliyetini hesaplamak için bir fonksiyon fiyatı yazın.\n",
    "F&F, kalbinin nezaketinden dolayı 5 dakikalık bir ödemesiz süre de sağlar. Yani, X öğrencisi 65 dakika veya 1 saat 35 dakika ders alacaksa, sırasıyla sadece bir saat veya 1 saat 30 dakika ödemek zorunda kalacaktır.\n"
   ]
  },
  {
   "cell_type": "code",
   "execution_count": 31,
   "id": "773405ab",
   "metadata": {},
   "outputs": [
    {
     "data": {
      "text/plain": [
       "100"
      ]
     },
     "execution_count": 31,
     "metadata": {},
     "output_type": "execute_result"
    }
   ],
   "source": [
    "def cost(mins):\n",
    "    if mins <= 5:\n",
    "        return 0\n",
    "    elif 5 < mins <= 65:\n",
    "        return 30\n",
    "    elif mins > 65:\n",
    "        if int(str(mins)[-1]) < 5:\n",
    "            x = round(((mins - 60) / 30))\n",
    "            y = x * 10 + 30\n",
    "            return y\n",
    "        else:\n",
    "            x = round(((mins - 60) / 30) + 0.5)\n",
    "            y = x * 10 + 30\n",
    "            return y\n",
    "    \n",
    "cost(273)"
   ]
  },
  {
   "cell_type": "markdown",
   "id": "8e35207b",
   "metadata": {},
   "source": [
    "Fonksiyona girdi olarak verilen (n> = 0) tamsayıdaki toplam basamak sayısını belirleyin. Örneğin, 9 tek basamaklı, 66 2 basamaklı ve 128685 6 basamaklıdır. Taşmalardan / taşmalardan kaçınmaya dikkat edin.\n"
   ]
  },
  {
   "cell_type": "code",
   "execution_count": 32,
   "id": "c3a37d66",
   "metadata": {},
   "outputs": [
    {
     "data": {
      "text/plain": [
       "10"
      ]
     },
     "execution_count": 32,
     "metadata": {},
     "output_type": "execute_result"
    }
   ],
   "source": [
    "def digits(n):\n",
    "    return len(str(n))\n",
    "\n",
    "digits(9876543210)"
   ]
  },
  {
   "cell_type": "markdown",
   "id": "5a32bdc9",
   "metadata": {},
   "source": [
    "Yarıçapı r olan bir dairenin içine sığabilecek en büyük karenin alanını belirleyin."
   ]
  },
  {
   "cell_type": "code",
   "execution_count": null,
   "id": "fe4292f6",
   "metadata": {},
   "outputs": [],
   "source": [
    "def area_largest_square(r):\n",
    "    area = r * r * 2\n",
    "    return area\n"
   ]
  },
  {
   "cell_type": "markdown",
   "id": "d38b3e01",
   "metadata": {},
   "source": [
    "Write a function getNumberOfSquares (C, F#, Haskell) / get_number_of_squares (Python, Ruby) that will return how many integer (starting from 1, 2...) numbers raised to power of 2 and then summed up are less than some number given as a parameter.\n",
    "\n",
    "E.g 1: For n = 6 result should be 2 because 1^2 + 2^2 = 1 + 4 = 5 and 5 < 6 E.g 2: For n = 15 result should be 3 because 1^2 + 2^2 + 3^2 = 1 + 4 + 9 = 14 and 14 < 15"
   ]
  },
  {
   "cell_type": "code",
   "execution_count": 63,
   "id": "3a8f806f",
   "metadata": {},
   "outputs": [
    {
     "data": {
      "text/plain": [
       "2"
      ]
     },
     "execution_count": 63,
     "metadata": {},
     "output_type": "execute_result"
    }
   ],
   "source": [
    "def get_number_of_squares(n):\n",
    "    toplam = 0\n",
    "    sayac = 0\n",
    "    for i in range(1,n+1):\n",
    "        if toplam < n:\n",
    "            toplam += i ** 2\n",
    "            sayac += 1\n",
    "    return sayac - 1\n",
    "    \n",
    "get_number_of_squares(6)\n",
    "        "
   ]
  },
  {
   "cell_type": "markdown",
   "id": "0d852fe9",
   "metadata": {},
   "source": [
    "\n",
    "İşleve iletilen parametreler (bölen, sınır) yalnızca pozitif değerlerdir.\n",
    "Bir bölenin Bulunduğu garanti edilir.\n",
    "maxMultiple (2,7) ==> return (6)\n",
    "maxMultiple (37,200) ==> return (185)\n",
    "Explanation:\n",
    "(185) is divisible by (37) , (185) is less than or equal to bound (200) , and (185) is > 0 ."
   ]
  },
  {
   "cell_type": "code",
   "execution_count": 1,
   "id": "0358acba",
   "metadata": {},
   "outputs": [
    {
     "data": {
      "text/plain": [
       "185"
      ]
     },
     "execution_count": 1,
     "metadata": {},
     "output_type": "execute_result"
    }
   ],
   "source": [
    "def max_multiple(divisor, bound):\n",
    "    sınır = 0\n",
    "    for i in range(bound + 1):\n",
    "        if i % divisor == 0:\n",
    "            sınır = i\n",
    "    return sınır\n",
    "\n",
    "max_multiple(37,200)"
   ]
  },
  {
   "cell_type": "markdown",
   "id": "4cd58cf6",
   "metadata": {},
   "source": [
    "Richard Phillips Feynman tanınmış bir Amerikalı fizikçiydi ve Nobel Fizik Ödülü'nü aldı. Teorik fizikte çalıştı ve kuantum hesaplama alanına öncülük etti.\n",
    "Geçenlerde yaşlı bir çiftçi, Feynman'a ait olduğuna inanılan bazı kağıtlar ve notlar buldu. Mezonlar ve elektromanyetizma ile ilgili notlar arasında, basit bir bulmaca yazdığı bir peçete vardı: \"NxN karelerden oluşan bir ızgarada kaç farklı kare var?\"."
   ]
  },
  {
   "cell_type": "code",
   "execution_count": 3,
   "id": "d9985b43",
   "metadata": {},
   "outputs": [
    {
     "data": {
      "text/plain": [
       "55"
      ]
     },
     "execution_count": 3,
     "metadata": {},
     "output_type": "execute_result"
    }
   ],
   "source": [
    "def count_squares(n):\n",
    "    toplam = 0\n",
    "    for i in range(1,n + 1):\n",
    "        toplam += i ** 2\n",
    "    return toplam\n",
    "count_squares(5)"
   ]
  },
  {
   "cell_type": "markdown",
   "id": "887f5b67",
   "metadata": {},
   "source": [
    "for i from 1 to n, do i % m and return the sum\n",
    "\n",
    "f(n=10, m=5) // returns 20 (1+2+3+4+0 + 1+2+3+4+0)\n",
    "You'll need to get a little clever with performance, since n can be a very large number"
   ]
  },
  {
   "cell_type": "code",
   "execution_count": 5,
   "id": "93000586",
   "metadata": {},
   "outputs": [
    {
     "data": {
      "text/plain": [
       "190"
      ]
     },
     "execution_count": 5,
     "metadata": {},
     "output_type": "execute_result"
    }
   ],
   "source": [
    "def f(n, m):\n",
    "    toplam = 0\n",
    "    for i in range(1,n+1):\n",
    "        toplam += i % m\n",
    "    return toplam\n",
    "\n",
    "f(20,20)"
   ]
  },
  {
   "cell_type": "markdown",
   "id": "cdcfbd4c",
   "metadata": {},
   "source": [
    "Belirli bir negatif olmayan tamsayının iki güç olup olmadığını belirleyen işlevi / (veya dilinize bağlı olarak eşdeğeri)tamamlayın. İlgili Vikipedi girişinden:power_of_twopowerOfTwo\n",
    "\n",
    "ikinin gücü, formun bir numarasıdır 2n burada n bir tamsayıdır, yani üs olarak iki numaralı ve üs olarak tamsayı n olan üslenmenin sonucudur.\n",
    "\n",
    "Girişin her zaman geçerli olduğunu varsayabilirsiniz.\n",
    "\n",
    "Örnekler\n",
    "power_of_two(1024) ==> True\n",
    "power_of_two(4096) ==> True\n",
    "power_of_two(333)  ==> False\n"
   ]
  },
  {
   "cell_type": "code",
   "execution_count": 39,
   "id": "1ce643ae",
   "metadata": {},
   "outputs": [
    {
     "data": {
      "text/plain": [
       "False"
      ]
     },
     "execution_count": 39,
     "metadata": {},
     "output_type": "execute_result"
    }
   ],
   "source": [
    "def power_of_two(x):\n",
    "    sayac = 0\n",
    "    for i in range(0,x):\n",
    "        if 2 ** i == x:\n",
    "            sayac += 1\n",
    "    if sayac == 0:\n",
    "        return False\n",
    "    else:\n",
    "        return True\n",
    "            \n",
    "power_of_two(1000)"
   ]
  },
  {
   "cell_type": "code",
   "execution_count": 43,
   "id": "d32d4e1b",
   "metadata": {},
   "outputs": [
    {
     "data": {
      "text/plain": [
       "True"
      ]
     },
     "execution_count": 43,
     "metadata": {},
     "output_type": "execute_result"
    }
   ],
   "source": [
    "def power_of_two(x):\n",
    "    sayac = 0\n",
    "    while True:\n",
    "        if 2 ** sayac == x:\n",
    "            return True\n",
    "        elif 2 ** sayac > x:\n",
    "            return False\n",
    "        sayac += 1\n",
    "    \n",
    "power_of_two(1)"
   ]
  },
  {
   "cell_type": "markdown",
   "id": "d0e386e3",
   "metadata": {},
   "source": [
    "Write a program to determine if the two given numbers are coprime. A pair of numbers are coprime if their greatest shared factor is 1.\n",
    "\n",
    "The inputs will always be two positive integers between 2 and 99.\n",
    "20 and 27:\n",
    "\n",
    "Factors of 20: 1, 2, 4, 5, 10, 20\n",
    "Factors of 27: 1, 3, 9, 27\n",
    "Greatest shared factor: 1\n",
    "Result: 20 and 27 are coprime\n",
    "12 and 39:\n",
    "\n",
    "Factors of 12: 1, 2, 3, 4, 6, 12\n",
    "Factors of 39: 1, 3, 13, 39\n",
    "Greatest shared factor: 3\n",
    "Result: 12 and 39 are not coprimes"
   ]
  },
  {
   "cell_type": "code",
   "execution_count": 56,
   "id": "4bfaee73",
   "metadata": {},
   "outputs": [
    {
     "data": {
      "text/plain": [
       "False"
      ]
     },
     "execution_count": 56,
     "metadata": {},
     "output_type": "execute_result"
    }
   ],
   "source": [
    "def are_coprime(n,m):\n",
    "    kont = 0\n",
    "    for i in range(2,max(n,m) + 1):\n",
    "        if (n % i == 0) and (m % i == 0):\n",
    "            kont += 1\n",
    "    if kont == 0:\n",
    "        return True\n",
    "    else:\n",
    "        return False\n",
    "are_coprime(12,39)"
   ]
  },
  {
   "cell_type": "code",
   "execution_count": null,
   "id": "a4c7ada5",
   "metadata": {},
   "outputs": [],
   "source": []
  }
 ],
 "metadata": {
  "kernelspec": {
   "display_name": "Python 3",
   "language": "python",
   "name": "python3"
  },
  "language_info": {
   "codemirror_mode": {
    "name": "ipython",
    "version": 3
   },
   "file_extension": ".py",
   "mimetype": "text/x-python",
   "name": "python",
   "nbconvert_exporter": "python",
   "pygments_lexer": "ipython3",
   "version": "3.8.8"
  }
 },
 "nbformat": 4,
 "nbformat_minor": 5
}
