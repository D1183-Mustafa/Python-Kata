{
 "cells": [
  {
   "cell_type": "code",
   "execution_count": 1,
   "id": "e1325a68",
   "metadata": {},
   "outputs": [],
   "source": [
    "class Kitap():\n",
    "    def __init__(self,isim,yazar,sayfa_sayısı,tür):\n",
    "        self.isim = isim\n",
    "        self.yazar = yazar\n",
    "        self.sayfa_sayısı = sayfa_sayısı\n",
    "        self.tür = tür\n",
    "    def __str__(self):\n",
    "        return \"Kitab'ın ismi = {}\".format(self.isim)\n",
    "    def __len__(self):\n",
    "        return self.sayfa_sayısı\n",
    "    def __del__(self):\n",
    "        print(\"Obje siliniyor......\")\n",
    "        "
   ]
  },
  {
   "cell_type": "code",
   "execution_count": 2,
   "id": "0a76edfe",
   "metadata": {},
   "outputs": [],
   "source": [
    "kitap_1 = Kitap(\"Gece\", \"Mustafa Altaş\", 300, \"Korku\")"
   ]
  },
  {
   "cell_type": "code",
   "execution_count": 3,
   "id": "c97c0069",
   "metadata": {},
   "outputs": [
    {
     "name": "stdout",
     "output_type": "stream",
     "text": [
      "Kitab'ın ismi = Gece\n"
     ]
    }
   ],
   "source": [
    "print(kitap_1)"
   ]
  },
  {
   "cell_type": "code",
   "execution_count": 4,
   "id": "f620ea06",
   "metadata": {},
   "outputs": [
    {
     "data": {
      "text/plain": [
       "300"
      ]
     },
     "execution_count": 4,
     "metadata": {},
     "output_type": "execute_result"
    }
   ],
   "source": [
    "len(kitap_1)"
   ]
  },
  {
   "cell_type": "code",
   "execution_count": 5,
   "id": "97627a65",
   "metadata": {},
   "outputs": [],
   "source": [
    "del kitap_1"
   ]
  },
  {
   "cell_type": "code",
   "execution_count": 6,
   "id": "7b22932a",
   "metadata": {},
   "outputs": [
    {
     "ename": "NameError",
     "evalue": "name 'kitap_1' is not defined",
     "output_type": "error",
     "traceback": [
      "\u001b[1;31m---------------------------------------------------------------------------\u001b[0m",
      "\u001b[1;31mNameError\u001b[0m                                 Traceback (most recent call last)",
      "\u001b[1;32m<ipython-input-6-399d6933c876>\u001b[0m in \u001b[0;36m<module>\u001b[1;34m\u001b[0m\n\u001b[1;32m----> 1\u001b[1;33m \u001b[0mprint\u001b[0m\u001b[1;33m(\u001b[0m\u001b[0mkitap_1\u001b[0m\u001b[1;33m)\u001b[0m\u001b[1;33m\u001b[0m\u001b[1;33m\u001b[0m\u001b[0m\n\u001b[0m",
      "\u001b[1;31mNameError\u001b[0m: name 'kitap_1' is not defined"
     ]
    }
   ],
   "source": [
    "print(kitap_1)"
   ]
  },
  {
   "cell_type": "code",
   "execution_count": null,
   "id": "34fd7e0c",
   "metadata": {},
   "outputs": [],
   "source": []
  }
 ],
 "metadata": {
  "kernelspec": {
   "display_name": "Python 3",
   "language": "python",
   "name": "python3"
  },
  "language_info": {
   "codemirror_mode": {
    "name": "ipython",
    "version": 3
   },
   "file_extension": ".py",
   "mimetype": "text/x-python",
   "name": "python",
   "nbconvert_exporter": "python",
   "pygments_lexer": "ipython3",
   "version": "3.8.8"
  }
 },
 "nbformat": 4,
 "nbformat_minor": 5
}
