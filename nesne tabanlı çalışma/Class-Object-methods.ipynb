{
 "cells": [
  {
   "cell_type": "code",
   "execution_count": 5,
   "id": "003b60ca",
   "metadata": {},
   "outputs": [
    {
     "name": "stdout",
     "output_type": "stream",
     "text": [
      "Tofaş\n",
      "4\n"
     ]
    }
   ],
   "source": [
    "class Araba():\n",
    "    model = \"Tofaş\"\n",
    "    renk = \"Kırmızı\"\n",
    "    BG = 110\n",
    "    silindir = 4\n",
    "    \n",
    "araba1 = Araba()\n",
    "araba2 = Araba()\n",
    "print(araba1.model)\n",
    "print(araba2.silindir)"
   ]
  },
  {
   "cell_type": "code",
   "execution_count": 6,
   "id": "9fb3b797",
   "metadata": {},
   "outputs": [
    {
     "name": "stdout",
     "output_type": "stream",
     "text": [
      "Tofaş\n",
      "80\n"
     ]
    }
   ],
   "source": [
    "class Araba():\n",
    "    def __init__(self,model,renk,bg,silindir):\n",
    "        self.model = model\n",
    "        self.renk = renk\n",
    "        self.bg = bg\n",
    "        self.silindir = silindir\n",
    "        \n",
    "        \n",
    "araba1 = Araba(\"Tofaş\",\"kırmızı\",110,3)\n",
    "araba2 = Araba(\"Anadol\",\"Beyaz\",80,2)\n",
    "\n",
    "print(araba1.model)\n",
    "print(araba2.bg)"
   ]
  },
  {
   "cell_type": "code",
   "execution_count": 12,
   "id": "5d9f8881",
   "metadata": {},
   "outputs": [],
   "source": [
    "class yazılımcı():\n",
    "    def __init__(self,isim,soyisim,numara,maaş,diller):\n",
    "        self.isim = isim\n",
    "        self.soyisim = soyisim\n",
    "        self.numara = numara\n",
    "        self.maaş = maaş\n",
    "        self.diller = diller\n",
    "    def zam(self,yapılan_zam):\n",
    "        self.maaş += yapılan_zam\n",
    "    def dil(self,yeni_dil):\n",
    "        self.diller.append(yeni_dil)\n",
    "    def bilgiler(self):\n",
    "        print(\"\"\"\n",
    "        Yazılımcının Bilgileri:\n",
    "        \n",
    "        İsim = {}\n",
    "        \n",
    "        Soyisim ={}\n",
    "        \n",
    "        numara = {}\n",
    "        \n",
    "        maaş = {}\n",
    "        \n",
    "        bildiği dilleri = {}\n",
    "        \n",
    "        \n",
    "        \"\"\".format(self.isim,self.soyisim,self.numara,self.maaş,self.diller))"
   ]
  },
  {
   "cell_type": "code",
   "execution_count": 13,
   "id": "ebd52b16",
   "metadata": {},
   "outputs": [],
   "source": [
    "yazılımcı1 = yazılımcı(\"Mustafa\", \"Altaş\", 1183, 5000, [\"Python\",\"JavaScript\"])"
   ]
  },
  {
   "cell_type": "code",
   "execution_count": 16,
   "id": "68c59a1e",
   "metadata": {},
   "outputs": [
    {
     "name": "stdout",
     "output_type": "stream",
     "text": [
      "\n",
      "        Yazılımcının Bilgileri:\n",
      "        \n",
      "        İsim = Mustafa\n",
      "        \n",
      "        Soyisim =Altaş\n",
      "        \n",
      "        numara = 1183\n",
      "        \n",
      "        maaş = 5000\n",
      "        \n",
      "        bildiği dilleri = ['Python', 'JavaScript']\n",
      "        \n",
      "        \n",
      "        \n"
     ]
    }
   ],
   "source": [
    "yazılımcı1.bilgiler()"
   ]
  },
  {
   "cell_type": "code",
   "execution_count": 17,
   "id": "31aadf38",
   "metadata": {},
   "outputs": [],
   "source": [
    "yazılımcı1.zam(500)"
   ]
  },
  {
   "cell_type": "code",
   "execution_count": 19,
   "id": "0603e289",
   "metadata": {},
   "outputs": [
    {
     "name": "stdout",
     "output_type": "stream",
     "text": [
      "\n",
      "        Yazılımcının Bilgileri:\n",
      "        \n",
      "        İsim = Mustafa\n",
      "        \n",
      "        Soyisim =Altaş\n",
      "        \n",
      "        numara = 1183\n",
      "        \n",
      "        maaş = 5500\n",
      "        \n",
      "        bildiği dilleri = ['Python', 'JavaScript']\n",
      "        \n",
      "        \n",
      "        \n"
     ]
    }
   ],
   "source": [
    "yazılımcı1.bilgiler()"
   ]
  },
  {
   "cell_type": "code",
   "execution_count": 20,
   "id": "05a6428d",
   "metadata": {},
   "outputs": [],
   "source": [
    "yazılımcı1.dil(\"Java\")"
   ]
  },
  {
   "cell_type": "code",
   "execution_count": 21,
   "id": "b1ab44ac",
   "metadata": {},
   "outputs": [
    {
     "name": "stdout",
     "output_type": "stream",
     "text": [
      "\n",
      "        Yazılımcının Bilgileri:\n",
      "        \n",
      "        İsim = Mustafa\n",
      "        \n",
      "        Soyisim =Altaş\n",
      "        \n",
      "        numara = 1183\n",
      "        \n",
      "        maaş = 5500\n",
      "        \n",
      "        bildiği dilleri = ['Python', 'JavaScript', 'Java']\n",
      "        \n",
      "        \n",
      "        \n"
     ]
    }
   ],
   "source": [
    "yazılımcı1.bilgiler()"
   ]
  },
  {
   "cell_type": "code",
   "execution_count": null,
   "id": "291dd0c6",
   "metadata": {},
   "outputs": [],
   "source": []
  }
 ],
 "metadata": {
  "kernelspec": {
   "display_name": "Python 3",
   "language": "python",
   "name": "python3"
  },
  "language_info": {
   "codemirror_mode": {
    "name": "ipython",
    "version": 3
   },
   "file_extension": ".py",
   "mimetype": "text/x-python",
   "name": "python",
   "nbconvert_exporter": "python",
   "pygments_lexer": "ipython3",
   "version": "3.8.8"
  }
 },
 "nbformat": 4,
 "nbformat_minor": 5
}
