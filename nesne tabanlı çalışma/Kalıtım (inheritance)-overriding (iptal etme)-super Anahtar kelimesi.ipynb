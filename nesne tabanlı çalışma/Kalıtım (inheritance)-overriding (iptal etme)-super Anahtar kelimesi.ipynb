{
 "cells": [
  {
   "cell_type": "code",
   "execution_count": 9,
   "id": "47b16e84",
   "metadata": {},
   "outputs": [
    {
     "name": "stdout",
     "output_type": "stream",
     "text": [
      "Çalışan sınıfının bilgileri için init fonksiyonu çağırıldı\n"
     ]
    }
   ],
   "source": [
    "class Çalışan():\n",
    "    def __init__(self,isim,maaş,departman):\n",
    "        print(\"Çalışan sınıfının bilgileri için init fonksiyonu çağırıldı\")\n",
    "        self.isim = isim\n",
    "        self.maaş = maaş\n",
    "        self.departman = departman\n",
    "    \n",
    "    def bilgiler(self):\n",
    "        print(\"isim = {}\\nmaaş = {}\\ndepartman = {}\".format(self.isim,self.maaş,self.departman))\n",
    "        \n",
    "        \n",
    "çalışan_1 = Çalışan(\"Mustafa Altaş\", 5000, \"Developer\")"
   ]
  },
  {
   "cell_type": "code",
   "execution_count": 6,
   "id": "aae5f889",
   "metadata": {},
   "outputs": [
    {
     "name": "stdout",
     "output_type": "stream",
     "text": [
      "isim = Mustafa Altaş\n",
      "maaş = 5000\n",
      "departman = Developer\n"
     ]
    }
   ],
   "source": [
    "çalışan_1.bilgiler()"
   ]
  },
  {
   "cell_type": "markdown",
   "id": "656a08fa",
   "metadata": {},
   "source": [
    "#  Kalıtım (inheritance)"
   ]
  },
  {
   "cell_type": "code",
   "execution_count": 10,
   "id": "0ef5d7ac",
   "metadata": {},
   "outputs": [],
   "source": [
    "class Yönetici(Çalışan):\n",
    "    def zam(self,zam_miktarı):\n",
    "        self.maaş += zam_miktarı\n",
    "    "
   ]
  },
  {
   "cell_type": "code",
   "execution_count": 11,
   "id": "c7771437",
   "metadata": {},
   "outputs": [
    {
     "name": "stdout",
     "output_type": "stream",
     "text": [
      "Çalışan sınıfının bilgileri için init fonksiyonu çağırıldı\n"
     ]
    }
   ],
   "source": [
    "yönetici_1 = Yönetici(\"Mustafa Altaş\", 10000,\"developer\")"
   ]
  },
  {
   "cell_type": "code",
   "execution_count": 12,
   "id": "e320e194",
   "metadata": {},
   "outputs": [
    {
     "name": "stdout",
     "output_type": "stream",
     "text": [
      "isim = Mustafa Altaş\n",
      "maaş = 10000\n",
      "departman = developer\n"
     ]
    }
   ],
   "source": [
    "yönetici_1.bilgiler()"
   ]
  },
  {
   "cell_type": "code",
   "execution_count": 13,
   "id": "62aa70cf",
   "metadata": {},
   "outputs": [],
   "source": [
    "yönetici_1.zam(500)\n"
   ]
  },
  {
   "cell_type": "code",
   "execution_count": 14,
   "id": "99d2ff48",
   "metadata": {},
   "outputs": [
    {
     "name": "stdout",
     "output_type": "stream",
     "text": [
      "isim = Mustafa Altaş\n",
      "maaş = 10500\n",
      "departman = developer\n"
     ]
    }
   ],
   "source": [
    "yönetici_1.bilgiler()"
   ]
  },
  {
   "cell_type": "markdown",
   "id": "990e114d",
   "metadata": {},
   "source": [
    "# overriding (iptal etme)"
   ]
  },
  {
   "cell_type": "code",
   "execution_count": 17,
   "id": "baab1511",
   "metadata": {},
   "outputs": [],
   "source": [
    "class Çalışan():\n",
    "    def __init__(self,isim,maaş,departman):\n",
    "        print(\"Çalışan sınıfının bilgileri için init fonksiyonu çağırıldı\")\n",
    "        self.isim = isim\n",
    "        self.maaş = maaş\n",
    "        self.departman = departman\n",
    "    \n",
    "    def bilgiler(self):\n",
    "        print(\"isim = {}\\nmaaş = {}\\ndepartman = {}\".format(self.isim,self.maaş,self.departman))"
   ]
  },
  {
   "cell_type": "code",
   "execution_count": 21,
   "id": "b1295c60",
   "metadata": {},
   "outputs": [],
   "source": [
    "class Yönetici(Çalışan):\n",
    "    def __init__(self,isim,maaş,departman,kişi_sayısı):\n",
    "        print(\"yönetici sınıfının bilgileri için init fonksiyonu çağırıldı\")\n",
    "        self.isim = isim\n",
    "        self.maaş = maaş\n",
    "        self.departman = departman\n",
    "        self.kişi_sayısı = kişi_sayısı\n",
    "    def bilgiler(self):\n",
    "        print(\"isim = {}\\nmaaş = {}\\ndepartman = {}\\nkişi_sayısı = {}\".format(self.isim,self.maaş,self.departman,self.kişi_sayısı))\n",
    "    \n",
    "    def zam(self,zam_miktarı):\n",
    "        self.maaş += zam_miktarı\n",
    "    "
   ]
  },
  {
   "cell_type": "code",
   "execution_count": 22,
   "id": "5559e174",
   "metadata": {},
   "outputs": [
    {
     "name": "stdout",
     "output_type": "stream",
     "text": [
      "yönetici sınıfının bilgileri için init fonksiyonu çağırıldı\n"
     ]
    }
   ],
   "source": [
    "yönetici_1 = Yönetici(\"Mehmet Yılmaz\", 8000, \"bilişim\", 10)"
   ]
  },
  {
   "cell_type": "code",
   "execution_count": 23,
   "id": "b622ff17",
   "metadata": {},
   "outputs": [
    {
     "name": "stdout",
     "output_type": "stream",
     "text": [
      "isim = Mehmet Yılmaz\n",
      "maaş = 8000\n",
      "departman = bilişim\n",
      "kişi_sayısı = 10\n"
     ]
    }
   ],
   "source": [
    "yönetici_1.bilgiler()"
   ]
  },
  {
   "cell_type": "markdown",
   "id": "caabc0e3",
   "metadata": {},
   "source": [
    "# super Anahtar kelimesi"
   ]
  },
  {
   "cell_type": "code",
   "execution_count": 25,
   "id": "dcebd698",
   "metadata": {},
   "outputs": [],
   "source": [
    "class Çalışan():\n",
    "    def __init__(self,isim,maaş,departman):\n",
    "        print(\"Çalışan sınıfının bilgileri için init fonksiyonu çağırıldı\")\n",
    "        self.isim = isim\n",
    "        self.maaş = maaş\n",
    "        self.departman = departman\n",
    "    \n",
    "    def bilgiler(self):\n",
    "        print(\"isim = {}\\nmaaş = {}\\ndepartman = {}\".format(self.isim,self.maaş,self.departman))"
   ]
  },
  {
   "cell_type": "code",
   "execution_count": 26,
   "id": "0c81c394",
   "metadata": {},
   "outputs": [],
   "source": [
    "class Yönetici(Çalışan):\n",
    "    def __init__(self,isim,maaş,departman,kişi_sayısı):\n",
    "        super().__init__(isim,maaş,departman)\n",
    "        self.kişi_sayısı = kişi_sayısı\n",
    "    def bilgiler(self):\n",
    "        print(\"isim = {}\\nmaaş = {}\\ndepartman = {}\\nkişi_sayısı = {}\".format(self.isim,self.maaş,self.departman,self.kişi_sayısı))\n",
    "    \n",
    "    def zam(self,zam_miktarı):\n",
    "        self.maaş += zam_miktarı\n",
    "    "
   ]
  },
  {
   "cell_type": "code",
   "execution_count": 27,
   "id": "8c8a76cd",
   "metadata": {},
   "outputs": [
    {
     "name": "stdout",
     "output_type": "stream",
     "text": [
      "Çalışan sınıfının bilgileri için init fonksiyonu çağırıldı\n"
     ]
    }
   ],
   "source": [
    "yönetici_2 = Yönetici(\"Ahmet Aktaş\", 10000, \"Bilişim\", 20)"
   ]
  },
  {
   "cell_type": "code",
   "execution_count": 28,
   "id": "46c14895",
   "metadata": {},
   "outputs": [
    {
     "name": "stdout",
     "output_type": "stream",
     "text": [
      "isim = Ahmet Aktaş\n",
      "maaş = 10000\n",
      "departman = Bilişim\n",
      "kişi_sayısı = 20\n"
     ]
    }
   ],
   "source": [
    "yönetici_2.bilgiler()"
   ]
  },
  {
   "cell_type": "code",
   "execution_count": null,
   "id": "cc151f43",
   "metadata": {},
   "outputs": [],
   "source": []
  }
 ],
 "metadata": {
  "kernelspec": {
   "display_name": "Python 3",
   "language": "python",
   "name": "python3"
  },
  "language_info": {
   "codemirror_mode": {
    "name": "ipython",
    "version": 3
   },
   "file_extension": ".py",
   "mimetype": "text/x-python",
   "name": "python",
   "nbconvert_exporter": "python",
   "pygments_lexer": "ipython3",
   "version": "3.8.8"
  }
 },
 "nbformat": 4,
 "nbformat_minor": 5
}
