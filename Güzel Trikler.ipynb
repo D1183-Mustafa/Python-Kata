{
 "cells": [
  {
   "cell_type": "markdown",
   "id": "e4a1313d",
   "metadata": {},
   "source": [
    "#ROBOT\n"
   ]
  },
  {
   "cell_type": "code",
   "execution_count": 11,
   "id": "5fd15f1f",
   "metadata": {},
   "outputs": [
    {
     "name": "stdout",
     "output_type": "stream",
     "text": [
      "(0, -10)\n"
     ]
    }
   ],
   "source": [
    "command = [\"right 20\", \"right 30\", \"left 50\", \"up 10\", \"down 20\"]\n",
    "x = 0\n",
    "y = 0\n",
    "for i in command:\n",
    "    if i.split()[0] == \"right\":\n",
    "        x += int(i.split()[1])\n",
    "    elif i.split()[0] == \"left\":\n",
    "        x -= int(i.split()[1])\n",
    "    elif i.split()[0] == \"up\":\n",
    "        y += int(i.split()[1])\n",
    "    elif i.split()[0] == \"down\":\n",
    "        y -= int(i.split()[1])\n",
    "        \n",
    "print((x,y))"
   ]
  },
  {
   "cell_type": "markdown",
   "id": "fb365f1d",
   "metadata": {},
   "source": [
    "#Valid"
   ]
  },
  {
   "cell_type": "code",
   "execution_count": 40,
   "id": "eef902bf",
   "metadata": {
    "scrolled": true
   },
   "outputs": [
    {
     "data": {
      "text/plain": [
       "False"
      ]
     },
     "execution_count": 40,
     "metadata": {},
     "output_type": "execute_result"
    }
   ],
   "source": [
    "x = \"[([{({})}]({}))\"\n",
    "def isValid(s):\n",
    "    while \"()\" in s or \"[]\" in s or \"{}\" in s:\n",
    "        s = s.replace(\"()\",\"\").replace(\"[]\",\"\").replace(\"{}\",\"\")\n",
    "    return s == \"\"\n",
    "\n",
    "isValid(x)"
   ]
  },
  {
   "cell_type": "markdown",
   "id": "20302c27",
   "metadata": {},
   "source": [
    "#password"
   ]
  },
  {
   "cell_type": "code",
   "execution_count": 52,
   "id": "484ac2b8",
   "metadata": {},
   "outputs": [
    {
     "name": "stdout",
     "output_type": "stream",
     "text": [
      "8Va1Tsc@B:A7\n"
     ]
    }
   ],
   "source": [
    "import random\n",
    "sayac = 0\n",
    "while sayac <= 2:\n",
    "    upper = [chr(random.randint(65,90)) for i in range(3)]\n",
    "    lowers = [chr(random.randint(97,122)) for i in range(3)]\n",
    "    numbers = [chr(random.randint(48,57)) for i in range(3)]\n",
    "    chars = [chr(random.randint(58,67)) for i in range(3)]\n",
    "    sayac += 1\n",
    "pasword = upper + lowers + numbers + chars\n",
    "random.shuffle(pasword)\n",
    "print(\"\".join(pasword))"
   ]
  },
  {
   "cell_type": "code",
   "execution_count": 88,
   "id": "7b135699",
   "metadata": {},
   "outputs": [
    {
     "name": "stdout",
     "output_type": "stream",
     "text": [
      "BGh8A89kUElB\n"
     ]
    }
   ],
   "source": [
    "import random\n",
    "sayac = 0\n",
    "upper = []\n",
    "lower = []\n",
    "numbers = []\n",
    "chars = []\n",
    "while sayac <= 2:\n",
    "    upper.append(chr(random.randint(65,90)))\n",
    "    lower.append(chr(random.randint(97,122)))\n",
    "    numbers.append(chr(random.randint(48,57)))\n",
    "    chars.append(chr(random.randint(58,67)))\n",
    "    sayac += 1\n",
    "password = upper + lower + numbers + chars\n",
    "random.shuffle(password)                 \n",
    "print(\"\".join(password))"
   ]
  }
 ],
 "metadata": {
  "kernelspec": {
   "display_name": "Python 3",
   "language": "python",
   "name": "python3"
  },
  "language_info": {
   "codemirror_mode": {
    "name": "ipython",
    "version": 3
   },
   "file_extension": ".py",
   "mimetype": "text/x-python",
   "name": "python",
   "nbconvert_exporter": "python",
   "pygments_lexer": "ipython3",
   "version": "3.8.8"
  }
 },
 "nbformat": 4,
 "nbformat_minor": 5
}
