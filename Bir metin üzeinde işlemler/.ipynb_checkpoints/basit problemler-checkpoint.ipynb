{
 "cells": [
  {
   "cell_type": "markdown",
   "id": "605d04e5",
   "metadata": {},
   "source": [
    "Problem 1\n",
    "Elinizde uzunca bir string olsun.\n",
    "\n",
    "            \"ProgramlamaÖdeviİleriSeviyeVeriYapılarıveObjeleripynb\"\n",
    "\n",
    "\n",
    "Bu string içindeki harflerin frekansını (bir harfin kaç defa geçtiği) bulmaya çalışın.\n",
    "\n",
    "İpucu : Kodlama egzersizimizde buna çok benzer bir şey yapmıştık."
   ]
  },
  {
   "cell_type": "code",
   "execution_count": 5,
   "id": "6e83159e",
   "metadata": {},
   "outputs": [
    {
     "name": "stdout",
     "output_type": "stream",
     "text": [
      "P harfinden 1 adet bulunmaktadır\n",
      "r harfinden 6 adet bulunmaktadır\n",
      "o harfinden 1 adet bulunmaktadır\n",
      "g harfinden 1 adet bulunmaktadır\n",
      "a harfinden 5 adet bulunmaktadır\n",
      "m harfinden 2 adet bulunmaktadır\n",
      "l harfinden 4 adet bulunmaktadır\n",
      "Ö harfinden 1 adet bulunmaktadır\n",
      "d harfinden 1 adet bulunmaktadır\n",
      "e harfinden 8 adet bulunmaktadır\n",
      "v harfinden 3 adet bulunmaktadır\n",
      "i harfinden 5 adet bulunmaktadır\n",
      "İ harfinden 1 adet bulunmaktadır\n",
      "S harfinden 1 adet bulunmaktadır\n",
      "y harfinden 2 adet bulunmaktadır\n",
      "V harfinden 1 adet bulunmaktadır\n",
      "Y harfinden 1 adet bulunmaktadır\n",
      "p harfinden 2 adet bulunmaktadır\n",
      "ı harfinden 2 adet bulunmaktadır\n",
      "O harfinden 1 adet bulunmaktadır\n",
      "b harfinden 2 adet bulunmaktadır\n",
      "j harfinden 1 adet bulunmaktadır\n",
      "n harfinden 1 adet bulunmaktadır\n"
     ]
    }
   ],
   "source": [
    "text =  \"ProgramlamaÖdeviİleriSeviyeVeriYapılarıveObjeleripynb\"\n",
    "\n",
    "dict_kont = {}\n",
    "\n",
    "for i in text:\n",
    "    dict_kont[i] = text.count(i)\n",
    "    \n",
    "for i,j in dict_kont.items():\n",
    "    print(\"{} harfinden {} adet bulunmaktadır\".format(i,j))"
   ]
  },
  {
   "cell_type": "markdown",
   "id": "fa680636",
   "metadata": {},
   "source": [
    "Problem 2\n",
    "\"şiir.txt\" şeklinde bir dosya oluşturun ve içinde şu satırlar yer alsın.\n",
    "\n",
    "                    Memlekete sis çökmüş bir gece \n",
    "                    Usulca yanağıma sen düşüyorsun\n",
    "                    Sabah saat dokuzu beş geçe\n",
    "                    Terk edip bizleri gidiyorsun\n",
    "                    Ayrılık bu kadar yakmamıştı içimizi\n",
    "                    Farkında mısın bilmiyorum\n",
    "                    Aldın beraberinde cumhuriyetimizi\n",
    "                    Korkunç bir veda, sararmıştı her yer\n",
    "                    Ellerini uzat tutmak istiyoruz\n",
    "                    Masmavi gözleri kaybetmiş çocuk\n",
    "                    Aldı bir sabah ruhumuzu\n",
    "                    Lakin nasıl bölmesin yokluğun uykumuzu\n",
    "\n",
    "Bu dosyanın herbir satırını okuyun. Satırların baş harflerini birbirine ekleyerek bir string oluşturun ve bu string'i ekrana yazdırın."
   ]
  },
  {
   "cell_type": "code",
   "execution_count": 8,
   "id": "c623b707",
   "metadata": {},
   "outputs": [],
   "source": [
    "with open(\"şiir.txt\", \"r\", encoding=\"utf-8\") as dosya:\n",
    "    liste = []\n",
    "    for i in dosya:\n",
    "        liste.append(i.rstrip(\"\\n\"))\n",
    "with open(\"şiir1.txt\", \"w\", encoding=\"utf-8\") as dosya:\n",
    "    for i in liste:\n",
    "        dosya.write(i + \" \")"
   ]
  },
  {
   "cell_type": "markdown",
   "id": "165d15b1",
   "metadata": {},
   "source": [
    "Problem 3\n",
    "Elinizde \"mailler.txt\" adında , maillerin ve bazı yazıların bulunduğu bir dosya olsun. Bu dosyanın her bir satırını okuyun ve sadece mail formatına uygun olanları ekrana yazdırın.\n",
    "\n",
    "                    coskun.m.murat@gmail.com\n",
    "                    example@xyz.com\n",
    "                    mustafa.com\n",
    "                    mustafa@gmail\n",
    "                    kerim@yahoo.com\n",
    "\n",
    "                           //\n",
    "                           //\n",
    "                           //\n",
    "\n",
    "\n",
    "İpucu: Stringlerde bulunan endswith ve find metodlarını kullanabilirsiniz."
   ]
  },
  {
   "cell_type": "code",
   "execution_count": 33,
   "id": "10a049ad",
   "metadata": {},
   "outputs": [
    {
     "name": "stdout",
     "output_type": "stream",
     "text": [
      "coskun.m.murat@gmail.com\n",
      "example@xyz.com\n",
      "kerim@yahoo.com"
     ]
    }
   ],
   "source": [
    "with open(\"mailler.txt\", \"r\", encoding= \"utf-8\") as dosya:\n",
    "    liste = []\n",
    "    for i in dosya:\n",
    "        if (i.find(\"@\") != -1) and (i.find(\".com\") != -1):\n",
    "            liste.append(i)\n",
    "            \n",
    "for i in liste:\n",
    "    print(i, end= \"\")"
   ]
  },
  {
   "cell_type": "markdown",
   "id": "3a1424a9",
   "metadata": {},
   "source": [
    "Elinizde 2 tane liste bulunsun. Bu listelerden isim ve soyisimleri birleştirerek , ekrana isim ve soyisimleri isimlere göre sıralı bir şekilde yazdırmaya çalışın.\n",
    "\n",
    "        isim -----> [\"Kerim\",\"Tarık\",\"Ezgi\",\"Kemal\",\"İlkay\",\"Şükran\",\"Merve\"]\n",
    "\n",
    "        soyisim ------> [\"Yılmaz\",\"Öztürk\",\"Dağdeviren\",\"Atatürk\",\"Dikmen\",\"Kaya\",\"Polat\"]"
   ]
  },
  {
   "cell_type": "code",
   "execution_count": 37,
   "id": "6c8f6b91",
   "metadata": {},
   "outputs": [
    {
     "name": "stdout",
     "output_type": "stream",
     "text": [
      "Kerim Yılmaz\n",
      "Tarık Öztürk\n",
      "Ezgi Dağdeviren\n",
      "Kemal Atatürk\n",
      "İlkay Dikmen\n",
      "Şükran Kaya\n",
      "Merve Polat\n"
     ]
    }
   ],
   "source": [
    "isim = [\"Kerim\",\"Tarık\",\"Ezgi\",\"Kemal\",\"İlkay\",\"Şükran\",\"Merve\"]\n",
    "soyisim = [\"Yılmaz\",\"Öztürk\",\"Dağdeviren\",\"Atatürk\",\"Dikmen\",\"Kaya\",\"Polat\"]\n",
    "\n",
    "\n",
    "\n",
    "for i,j in list(zip(isim,soyisim)):\n",
    "    print(i, j)"
   ]
  },
  {
   "cell_type": "code",
   "execution_count": null,
   "id": "bd877d93",
   "metadata": {},
   "outputs": [],
   "source": []
  }
 ],
 "metadata": {
  "kernelspec": {
   "display_name": "Python 3",
   "language": "python",
   "name": "python3"
  },
  "language_info": {
   "codemirror_mode": {
    "name": "ipython",
    "version": 3
   },
   "file_extension": ".py",
   "mimetype": "text/x-python",
   "name": "python",
   "nbconvert_exporter": "python",
   "pygments_lexer": "ipython3",
   "version": "3.8.8"
  }
 },
 "nbformat": 4,
 "nbformat_minor": 5
}
