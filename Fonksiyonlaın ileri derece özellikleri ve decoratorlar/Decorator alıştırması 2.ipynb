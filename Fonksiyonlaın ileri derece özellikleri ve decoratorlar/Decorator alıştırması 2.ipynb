{
 "cells": [
  {
   "cell_type": "markdown",
   "id": "fb9e06da",
   "metadata": {},
   "source": [
    "Program\n",
    "1'den 1000'e kadar olan asal sayıları ekrana yazdıran bir program yazın. Daha sonra bir tane decorator fonksiyon kullanarak bu fonksiyona 1'den 1000'e kadar olan mükemmel sayıları yazdırma özelliği ekleyin."
   ]
  },
  {
   "cell_type": "code",
   "execution_count": 20,
   "id": "f239623a",
   "metadata": {},
   "outputs": [
    {
     "name": "stdout",
     "output_type": "stream",
     "text": [
      "('Asal Sayılar : ', [2, 3, 5, 7, 11, 13, 17, 19, 23, 29, 31, 37, 41, 43, 47, 53, 59, 61, 67, 71, 73, 79, 83, 89, 97, 101, 103, 107, 109, 113, 127, 131, 137, 139, 149, 151, 157, 163, 167, 173, 179, 181, 191, 193, 197, 199, 211, 223, 227, 229, 233, 239, 241, 251, 257, 263, 269, 271, 277, 281, 283, 293, 307, 311, 313, 317, 331, 337, 347, 349, 353, 359, 367, 373, 379, 383, 389, 397, 401, 409, 419, 421, 431, 433, 439, 443, 449, 457, 461, 463, 467, 479, 487, 491, 499, 503, 509, 521, 523, 541, 547, 557, 563, 569, 571, 577, 587, 593, 599, 601, 607, 613, 617, 619, 631, 641, 643, 647, 653, 659, 661, 673, 677, 683, 691, 701, 709, 719, 727, 733, 739, 743, 751, 757, 761, 769, 773, 787, 797, 809, 811, 821, 823, 827, 829, 839, 853, 857, 859, 863, 877, 881, 883, 887, 907, 911, 919, 929, 937, 941, 947, 953, 967, 971, 977, 983, 991, 997])\n",
      "Mükemmel sayılar :  [6, 28, 496]\n"
     ]
    }
   ],
   "source": [
    "def mükemmel(fonksiyon):\n",
    "    def wrapper(sayılar):\n",
    "        mük = []\n",
    "        for i in sayılar:\n",
    "            toplam = 0\n",
    "            for j in range(1,i):\n",
    "                if i % j == 0:\n",
    "                    toplam += j\n",
    "                    \n",
    "            if toplam == i:\n",
    "                mük.append(i)\n",
    "            else:\n",
    "                pass\n",
    "            \n",
    "        fonksiyon(sayılar)\n",
    "        \n",
    "        print(\"Mükemmel sayılar : \",mük)\n",
    "    \n",
    "    return wrapper\n",
    "\n",
    "@mükemmel\n",
    "def asal_sayı(sayılar):\n",
    "    asal = [2]\n",
    "    \n",
    "    for i in sayılar:\n",
    "        sayac = 0\n",
    "        if i > 2:\n",
    "            for j in range(2,i):\n",
    "                if i % j == 0:\n",
    "                    sayac += 1\n",
    "            if sayac == 0:\n",
    "                asal.append(i)\n",
    "            else:\n",
    "                pass\n",
    "    sonuc = \"Asal Sayılar : \" , asal\n",
    "    \n",
    "    return print(sonuc)\n",
    "asal_sayı(range(1,1000))\n",
    "                    \n",
    "    "
   ]
  },
  {
   "cell_type": "code",
   "execution_count": 12,
   "id": "899c220e",
   "metadata": {},
   "outputs": [
    {
     "name": "stdout",
     "output_type": "stream",
     "text": [
      "merhaba\n"
     ]
    },
    {
     "data": {
      "text/plain": [
       "[6, 28]"
      ]
     },
     "execution_count": 12,
     "metadata": {},
     "output_type": "execute_result"
    }
   ],
   "source": [
    "asal_sayı(range(1,100))"
   ]
  },
  {
   "cell_type": "code",
   "execution_count": null,
   "id": "31b5626c",
   "metadata": {},
   "outputs": [],
   "source": []
  }
 ],
 "metadata": {
  "kernelspec": {
   "display_name": "Python 3",
   "language": "python",
   "name": "python3"
  },
  "language_info": {
   "codemirror_mode": {
    "name": "ipython",
    "version": 3
   },
   "file_extension": ".py",
   "mimetype": "text/x-python",
   "name": "python",
   "nbconvert_exporter": "python",
   "pygments_lexer": "ipython3",
   "version": "3.8.8"
  }
 },
 "nbformat": 4,
 "nbformat_minor": 5
}
