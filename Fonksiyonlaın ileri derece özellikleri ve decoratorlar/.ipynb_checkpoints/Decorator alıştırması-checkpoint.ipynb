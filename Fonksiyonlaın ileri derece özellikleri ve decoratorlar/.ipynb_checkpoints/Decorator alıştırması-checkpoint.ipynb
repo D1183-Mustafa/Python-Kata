{
 "cells": [
  {
   "cell_type": "code",
   "execution_count": 8,
   "id": "3fa99e58",
   "metadata": {},
   "outputs": [
    {
     "name": "stdout",
     "output_type": "stream",
     "text": [
      "Çift sayıların ortalaması :  10.0\n",
      "tek sayıların ortalaması :  19.5\n",
      "genel ortalama:  14.75\n"
     ]
    }
   ],
   "source": [
    "def ekstra(fonksiyon):\n",
    "    def wrapper(sayılar):\n",
    "        çiftler_toplamı = 0\n",
    "        çiftler_adet = 0\n",
    "        tekler_toplamı = 0\n",
    "        tekler_adet = 0\n",
    "        \n",
    "        for i in sayılar:\n",
    "            if i % 2 == 0:\n",
    "                çiftler_toplamı += i\n",
    "                çiftler_adet += 1\n",
    "            else:\n",
    "                tekler_toplamı += i\n",
    "                tekler_adet += 1\n",
    "        print(\"Çift sayıların ortalaması : \" ,çiftler_toplamı / çiftler_adet)\n",
    "        print(\"tek sayıların ortalaması : \" ,tekler_toplamı / tekler_adet)\n",
    "        \n",
    "        fonksiyon(sayılar)\n",
    "        \n",
    "    return wrapper\n",
    "\n",
    "@ekstra\n",
    "def ortalama(sayılar):\n",
    "    toplam = 0\n",
    "    \n",
    "    for i in sayılar:\n",
    "        toplam += i\n",
    "    sonuc = toplam / len(sayılar)\n",
    "    print(\"genel ortalama: \", sonuc)\n",
    "\n",
    "ortalama([1,2,6,12,15,17,20,45])"
   ]
  },
  {
   "cell_type": "code",
   "execution_count": null,
   "id": "da891c05",
   "metadata": {},
   "outputs": [],
   "source": []
  }
 ],
 "metadata": {
  "kernelspec": {
   "display_name": "Python 3",
   "language": "python",
   "name": "python3"
  },
  "language_info": {
   "codemirror_mode": {
    "name": "ipython",
    "version": 3
   },
   "file_extension": ".py",
   "mimetype": "text/x-python",
   "name": "python",
   "nbconvert_exporter": "python",
   "pygments_lexer": "ipython3",
   "version": "3.8.8"
  }
 },
 "nbformat": 4,
 "nbformat_minor": 5
}
